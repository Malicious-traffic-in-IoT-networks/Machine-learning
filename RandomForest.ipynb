{
  "nbformat": 4,
  "nbformat_minor": 0,
  "metadata": {
    "colab": {
      "provenance": [],
      "authorship_tag": "ABX9TyPlvZL5Xi5f8ezE375G3bR0",
      "include_colab_link": true
    },
    "kernelspec": {
      "name": "python3",
      "display_name": "Python 3"
    },
    "language_info": {
      "name": "python"
    }
  },
  "cells": [
    {
      "cell_type": "markdown",
      "metadata": {
        "id": "view-in-github",
        "colab_type": "text"
      },
      "source": [
        "<a href=\"https://colab.research.google.com/github/Malicious-traffic-in-IoT-networks/Machine-learning/blob/main/RandomForest.ipynb\" target=\"_parent\"><img src=\"https://colab.research.google.com/assets/colab-badge.svg\" alt=\"Open In Colab\"/></a>"
      ]
    },
    {
      "cell_type": "code",
      "execution_count": 48,
      "metadata": {
        "id": "t-EX00SJE_wo"
      },
      "outputs": [],
      "source": [
        "import numpy as np \n",
        "import pandas as pd\n",
        "import matplotlib.pyplot as plt\n",
        "\n",
        "from sklearn.preprocessing import LabelEncoder, StandardScaler\n",
        "from sklearn.model_selection import train_test_split\n",
        "from sklearn.ensemble import RandomForestClassifier"
      ]
    },
    {
      "cell_type": "code",
      "source": [
        "##wine = pd.read_csv('https://bit.ly/wine_csv_data') \n",
        "from google.colab import drive\n",
        "drive.mount('/content/drive')"
      ],
      "metadata": {
        "colab": {
          "base_uri": "https://localhost:8080/"
        },
        "id": "2gxx6pIgEAvc",
        "outputId": "b2a972bb-5069-4739-b036-055c44aec0ac"
      },
      "execution_count": 49,
      "outputs": [
        {
          "output_type": "stream",
          "name": "stdout",
          "text": [
            "Drive already mounted at /content/drive; to attempt to forcibly remount, call drive.mount(\"/content/drive\", force_remount=True).\n"
          ]
        }
      ]
    },
    {
      "cell_type": "code",
      "source": [
        "data = '/content/drive/MyDrive/IoTBotnet.csv'\n",
        "data = pd.read_csv(data)\n",
        "\n",
        "#attack.head()\n",
        "data"
      ],
      "metadata": {
        "colab": {
          "base_uri": "https://localhost:8080/",
          "height": 488
        },
        "id": "-RlpkGpNEQOJ",
        "outputId": "06949adb-c3a1-4702-d829-cb42ff5e2b19"
      },
      "execution_count": 50,
      "outputs": [
        {
          "output_type": "execute_result",
          "data": {
            "text/plain": [
              "        pkSeqID proto            saddr  sport          daddr dport     seq  \\\n",
              "0        792371   udp  192.168.100.150  48516  192.168.100.3    80  175094   \n",
              "1       2056418   tcp  192.168.100.148  22267  192.168.100.3    80  143024   \n",
              "2       2795650   udp  192.168.100.149  28629  192.168.100.3    80  167033   \n",
              "3       2118009   tcp  192.168.100.148  42142  192.168.100.3    80  204615   \n",
              "4        303688   tcp  192.168.100.149   1645  192.168.100.5    80   40058   \n",
              "...         ...   ...              ...    ...            ...   ...     ...   \n",
              "733700  1571905   udp  192.168.100.148  17412  192.168.100.6    80  168162   \n",
              "733701  2787099   udp  192.168.100.147    932  192.168.100.3    80  158482   \n",
              "733702  2255382   tcp  192.168.100.149  47980  192.168.100.3    80   79841   \n",
              "733703   588946   tcp  192.168.100.147  25096  192.168.100.7    80   63165   \n",
              "733704  2577420   tcp  192.168.100.147  34718  192.168.100.3    80  139733   \n",
              "\n",
              "          stddev  N_IN_Conn_P_SrcIP       min  state_number      mean  \\\n",
              "0       0.226784                100  4.100436             4  4.457383   \n",
              "1       0.451998                100  3.439257             1  3.806172   \n",
              "2       1.931553                 73  0.000000             4  2.731204   \n",
              "3       0.428798                 56  3.271411             1  3.626428   \n",
              "4       2.058381                100  0.000000             3  1.188407   \n",
              "...          ...                ...       ...           ...       ...   \n",
              "733700  1.743940                 39  0.000000             4  3.020449   \n",
              "733701  0.694618                 65  3.002272             4  3.905409   \n",
              "733702  1.744651                 53  0.000000             1  2.464288   \n",
              "733703  0.000000                100  0.000000             3  0.000000   \n",
              "733704  0.091420                 65  0.000000             3  0.052781   \n",
              "\n",
              "        N_IN_Conn_P_DstIP     drate     srate       max  attack category  \\\n",
              "0                     100  0.000000  0.404711  4.719438       1      DoS   \n",
              "1                     100  0.225077  0.401397  4.442930       1     DDoS   \n",
              "2                     100  0.000000  0.407287  4.138455       1     DDoS   \n",
              "3                     100  0.000000  0.343654  4.229700       1     DDoS   \n",
              "4                     100  0.000000  0.135842  4.753628       1      DoS   \n",
              "...                   ...       ...       ...       ...     ...      ...   \n",
              "733700                 39  0.000000  0.224603  4.043432       1      DoS   \n",
              "733701                100  0.000000  0.875121  4.691634       1     DDoS   \n",
              "733702                100  0.278496  0.472773  3.802142       1     DDoS   \n",
              "733703                100  0.000000  0.070461  0.000000       1      DoS   \n",
              "733704                100  0.000000  0.093828  0.211125       1     DDoS   \n",
              "\n",
              "       subcategory  \n",
              "0              UDP  \n",
              "1              TCP  \n",
              "2              UDP  \n",
              "3              TCP  \n",
              "4              TCP  \n",
              "...            ...  \n",
              "733700         UDP  \n",
              "733701         UDP  \n",
              "733702         TCP  \n",
              "733703         TCP  \n",
              "733704         TCP  \n",
              "\n",
              "[733705 rows x 19 columns]"
            ],
            "text/html": [
              "\n",
              "  <div id=\"df-ab446b4f-05f7-4f25-a911-a8e2e5a41f9e\">\n",
              "    <div class=\"colab-df-container\">\n",
              "      <div>\n",
              "<style scoped>\n",
              "    .dataframe tbody tr th:only-of-type {\n",
              "        vertical-align: middle;\n",
              "    }\n",
              "\n",
              "    .dataframe tbody tr th {\n",
              "        vertical-align: top;\n",
              "    }\n",
              "\n",
              "    .dataframe thead th {\n",
              "        text-align: right;\n",
              "    }\n",
              "</style>\n",
              "<table border=\"1\" class=\"dataframe\">\n",
              "  <thead>\n",
              "    <tr style=\"text-align: right;\">\n",
              "      <th></th>\n",
              "      <th>pkSeqID</th>\n",
              "      <th>proto</th>\n",
              "      <th>saddr</th>\n",
              "      <th>sport</th>\n",
              "      <th>daddr</th>\n",
              "      <th>dport</th>\n",
              "      <th>seq</th>\n",
              "      <th>stddev</th>\n",
              "      <th>N_IN_Conn_P_SrcIP</th>\n",
              "      <th>min</th>\n",
              "      <th>state_number</th>\n",
              "      <th>mean</th>\n",
              "      <th>N_IN_Conn_P_DstIP</th>\n",
              "      <th>drate</th>\n",
              "      <th>srate</th>\n",
              "      <th>max</th>\n",
              "      <th>attack</th>\n",
              "      <th>category</th>\n",
              "      <th>subcategory</th>\n",
              "    </tr>\n",
              "  </thead>\n",
              "  <tbody>\n",
              "    <tr>\n",
              "      <th>0</th>\n",
              "      <td>792371</td>\n",
              "      <td>udp</td>\n",
              "      <td>192.168.100.150</td>\n",
              "      <td>48516</td>\n",
              "      <td>192.168.100.3</td>\n",
              "      <td>80</td>\n",
              "      <td>175094</td>\n",
              "      <td>0.226784</td>\n",
              "      <td>100</td>\n",
              "      <td>4.100436</td>\n",
              "      <td>4</td>\n",
              "      <td>4.457383</td>\n",
              "      <td>100</td>\n",
              "      <td>0.000000</td>\n",
              "      <td>0.404711</td>\n",
              "      <td>4.719438</td>\n",
              "      <td>1</td>\n",
              "      <td>DoS</td>\n",
              "      <td>UDP</td>\n",
              "    </tr>\n",
              "    <tr>\n",
              "      <th>1</th>\n",
              "      <td>2056418</td>\n",
              "      <td>tcp</td>\n",
              "      <td>192.168.100.148</td>\n",
              "      <td>22267</td>\n",
              "      <td>192.168.100.3</td>\n",
              "      <td>80</td>\n",
              "      <td>143024</td>\n",
              "      <td>0.451998</td>\n",
              "      <td>100</td>\n",
              "      <td>3.439257</td>\n",
              "      <td>1</td>\n",
              "      <td>3.806172</td>\n",
              "      <td>100</td>\n",
              "      <td>0.225077</td>\n",
              "      <td>0.401397</td>\n",
              "      <td>4.442930</td>\n",
              "      <td>1</td>\n",
              "      <td>DDoS</td>\n",
              "      <td>TCP</td>\n",
              "    </tr>\n",
              "    <tr>\n",
              "      <th>2</th>\n",
              "      <td>2795650</td>\n",
              "      <td>udp</td>\n",
              "      <td>192.168.100.149</td>\n",
              "      <td>28629</td>\n",
              "      <td>192.168.100.3</td>\n",
              "      <td>80</td>\n",
              "      <td>167033</td>\n",
              "      <td>1.931553</td>\n",
              "      <td>73</td>\n",
              "      <td>0.000000</td>\n",
              "      <td>4</td>\n",
              "      <td>2.731204</td>\n",
              "      <td>100</td>\n",
              "      <td>0.000000</td>\n",
              "      <td>0.407287</td>\n",
              "      <td>4.138455</td>\n",
              "      <td>1</td>\n",
              "      <td>DDoS</td>\n",
              "      <td>UDP</td>\n",
              "    </tr>\n",
              "    <tr>\n",
              "      <th>3</th>\n",
              "      <td>2118009</td>\n",
              "      <td>tcp</td>\n",
              "      <td>192.168.100.148</td>\n",
              "      <td>42142</td>\n",
              "      <td>192.168.100.3</td>\n",
              "      <td>80</td>\n",
              "      <td>204615</td>\n",
              "      <td>0.428798</td>\n",
              "      <td>56</td>\n",
              "      <td>3.271411</td>\n",
              "      <td>1</td>\n",
              "      <td>3.626428</td>\n",
              "      <td>100</td>\n",
              "      <td>0.000000</td>\n",
              "      <td>0.343654</td>\n",
              "      <td>4.229700</td>\n",
              "      <td>1</td>\n",
              "      <td>DDoS</td>\n",
              "      <td>TCP</td>\n",
              "    </tr>\n",
              "    <tr>\n",
              "      <th>4</th>\n",
              "      <td>303688</td>\n",
              "      <td>tcp</td>\n",
              "      <td>192.168.100.149</td>\n",
              "      <td>1645</td>\n",
              "      <td>192.168.100.5</td>\n",
              "      <td>80</td>\n",
              "      <td>40058</td>\n",
              "      <td>2.058381</td>\n",
              "      <td>100</td>\n",
              "      <td>0.000000</td>\n",
              "      <td>3</td>\n",
              "      <td>1.188407</td>\n",
              "      <td>100</td>\n",
              "      <td>0.000000</td>\n",
              "      <td>0.135842</td>\n",
              "      <td>4.753628</td>\n",
              "      <td>1</td>\n",
              "      <td>DoS</td>\n",
              "      <td>TCP</td>\n",
              "    </tr>\n",
              "    <tr>\n",
              "      <th>...</th>\n",
              "      <td>...</td>\n",
              "      <td>...</td>\n",
              "      <td>...</td>\n",
              "      <td>...</td>\n",
              "      <td>...</td>\n",
              "      <td>...</td>\n",
              "      <td>...</td>\n",
              "      <td>...</td>\n",
              "      <td>...</td>\n",
              "      <td>...</td>\n",
              "      <td>...</td>\n",
              "      <td>...</td>\n",
              "      <td>...</td>\n",
              "      <td>...</td>\n",
              "      <td>...</td>\n",
              "      <td>...</td>\n",
              "      <td>...</td>\n",
              "      <td>...</td>\n",
              "      <td>...</td>\n",
              "    </tr>\n",
              "    <tr>\n",
              "      <th>733700</th>\n",
              "      <td>1571905</td>\n",
              "      <td>udp</td>\n",
              "      <td>192.168.100.148</td>\n",
              "      <td>17412</td>\n",
              "      <td>192.168.100.6</td>\n",
              "      <td>80</td>\n",
              "      <td>168162</td>\n",
              "      <td>1.743940</td>\n",
              "      <td>39</td>\n",
              "      <td>0.000000</td>\n",
              "      <td>4</td>\n",
              "      <td>3.020449</td>\n",
              "      <td>39</td>\n",
              "      <td>0.000000</td>\n",
              "      <td>0.224603</td>\n",
              "      <td>4.043432</td>\n",
              "      <td>1</td>\n",
              "      <td>DoS</td>\n",
              "      <td>UDP</td>\n",
              "    </tr>\n",
              "    <tr>\n",
              "      <th>733701</th>\n",
              "      <td>2787099</td>\n",
              "      <td>udp</td>\n",
              "      <td>192.168.100.147</td>\n",
              "      <td>932</td>\n",
              "      <td>192.168.100.3</td>\n",
              "      <td>80</td>\n",
              "      <td>158482</td>\n",
              "      <td>0.694618</td>\n",
              "      <td>65</td>\n",
              "      <td>3.002272</td>\n",
              "      <td>4</td>\n",
              "      <td>3.905409</td>\n",
              "      <td>100</td>\n",
              "      <td>0.000000</td>\n",
              "      <td>0.875121</td>\n",
              "      <td>4.691634</td>\n",
              "      <td>1</td>\n",
              "      <td>DDoS</td>\n",
              "      <td>UDP</td>\n",
              "    </tr>\n",
              "    <tr>\n",
              "      <th>733702</th>\n",
              "      <td>2255382</td>\n",
              "      <td>tcp</td>\n",
              "      <td>192.168.100.149</td>\n",
              "      <td>47980</td>\n",
              "      <td>192.168.100.3</td>\n",
              "      <td>80</td>\n",
              "      <td>79841</td>\n",
              "      <td>1.744651</td>\n",
              "      <td>53</td>\n",
              "      <td>0.000000</td>\n",
              "      <td>1</td>\n",
              "      <td>2.464288</td>\n",
              "      <td>100</td>\n",
              "      <td>0.278496</td>\n",
              "      <td>0.472773</td>\n",
              "      <td>3.802142</td>\n",
              "      <td>1</td>\n",
              "      <td>DDoS</td>\n",
              "      <td>TCP</td>\n",
              "    </tr>\n",
              "    <tr>\n",
              "      <th>733703</th>\n",
              "      <td>588946</td>\n",
              "      <td>tcp</td>\n",
              "      <td>192.168.100.147</td>\n",
              "      <td>25096</td>\n",
              "      <td>192.168.100.7</td>\n",
              "      <td>80</td>\n",
              "      <td>63165</td>\n",
              "      <td>0.000000</td>\n",
              "      <td>100</td>\n",
              "      <td>0.000000</td>\n",
              "      <td>3</td>\n",
              "      <td>0.000000</td>\n",
              "      <td>100</td>\n",
              "      <td>0.000000</td>\n",
              "      <td>0.070461</td>\n",
              "      <td>0.000000</td>\n",
              "      <td>1</td>\n",
              "      <td>DoS</td>\n",
              "      <td>TCP</td>\n",
              "    </tr>\n",
              "    <tr>\n",
              "      <th>733704</th>\n",
              "      <td>2577420</td>\n",
              "      <td>tcp</td>\n",
              "      <td>192.168.100.147</td>\n",
              "      <td>34718</td>\n",
              "      <td>192.168.100.3</td>\n",
              "      <td>80</td>\n",
              "      <td>139733</td>\n",
              "      <td>0.091420</td>\n",
              "      <td>65</td>\n",
              "      <td>0.000000</td>\n",
              "      <td>3</td>\n",
              "      <td>0.052781</td>\n",
              "      <td>100</td>\n",
              "      <td>0.000000</td>\n",
              "      <td>0.093828</td>\n",
              "      <td>0.211125</td>\n",
              "      <td>1</td>\n",
              "      <td>DDoS</td>\n",
              "      <td>TCP</td>\n",
              "    </tr>\n",
              "  </tbody>\n",
              "</table>\n",
              "<p>733705 rows × 19 columns</p>\n",
              "</div>\n",
              "      <button class=\"colab-df-convert\" onclick=\"convertToInteractive('df-ab446b4f-05f7-4f25-a911-a8e2e5a41f9e')\"\n",
              "              title=\"Convert this dataframe to an interactive table.\"\n",
              "              style=\"display:none;\">\n",
              "        \n",
              "  <svg xmlns=\"http://www.w3.org/2000/svg\" height=\"24px\"viewBox=\"0 0 24 24\"\n",
              "       width=\"24px\">\n",
              "    <path d=\"M0 0h24v24H0V0z\" fill=\"none\"/>\n",
              "    <path d=\"M18.56 5.44l.94 2.06.94-2.06 2.06-.94-2.06-.94-.94-2.06-.94 2.06-2.06.94zm-11 1L8.5 8.5l.94-2.06 2.06-.94-2.06-.94L8.5 2.5l-.94 2.06-2.06.94zm10 10l.94 2.06.94-2.06 2.06-.94-2.06-.94-.94-2.06-.94 2.06-2.06.94z\"/><path d=\"M17.41 7.96l-1.37-1.37c-.4-.4-.92-.59-1.43-.59-.52 0-1.04.2-1.43.59L10.3 9.45l-7.72 7.72c-.78.78-.78 2.05 0 2.83L4 21.41c.39.39.9.59 1.41.59.51 0 1.02-.2 1.41-.59l7.78-7.78 2.81-2.81c.8-.78.8-2.07 0-2.86zM5.41 20L4 18.59l7.72-7.72 1.47 1.35L5.41 20z\"/>\n",
              "  </svg>\n",
              "      </button>\n",
              "      \n",
              "  <style>\n",
              "    .colab-df-container {\n",
              "      display:flex;\n",
              "      flex-wrap:wrap;\n",
              "      gap: 12px;\n",
              "    }\n",
              "\n",
              "    .colab-df-convert {\n",
              "      background-color: #E8F0FE;\n",
              "      border: none;\n",
              "      border-radius: 50%;\n",
              "      cursor: pointer;\n",
              "      display: none;\n",
              "      fill: #1967D2;\n",
              "      height: 32px;\n",
              "      padding: 0 0 0 0;\n",
              "      width: 32px;\n",
              "    }\n",
              "\n",
              "    .colab-df-convert:hover {\n",
              "      background-color: #E2EBFA;\n",
              "      box-shadow: 0px 1px 2px rgba(60, 64, 67, 0.3), 0px 1px 3px 1px rgba(60, 64, 67, 0.15);\n",
              "      fill: #174EA6;\n",
              "    }\n",
              "\n",
              "    [theme=dark] .colab-df-convert {\n",
              "      background-color: #3B4455;\n",
              "      fill: #D2E3FC;\n",
              "    }\n",
              "\n",
              "    [theme=dark] .colab-df-convert:hover {\n",
              "      background-color: #434B5C;\n",
              "      box-shadow: 0px 1px 3px 1px rgba(0, 0, 0, 0.15);\n",
              "      filter: drop-shadow(0px 1px 2px rgba(0, 0, 0, 0.3));\n",
              "      fill: #FFFFFF;\n",
              "    }\n",
              "  </style>\n",
              "\n",
              "      <script>\n",
              "        const buttonEl =\n",
              "          document.querySelector('#df-ab446b4f-05f7-4f25-a911-a8e2e5a41f9e button.colab-df-convert');\n",
              "        buttonEl.style.display =\n",
              "          google.colab.kernel.accessAllowed ? 'block' : 'none';\n",
              "\n",
              "        async function convertToInteractive(key) {\n",
              "          const element = document.querySelector('#df-ab446b4f-05f7-4f25-a911-a8e2e5a41f9e');\n",
              "          const dataTable =\n",
              "            await google.colab.kernel.invokeFunction('convertToInteractive',\n",
              "                                                     [key], {});\n",
              "          if (!dataTable) return;\n",
              "\n",
              "          const docLinkHtml = 'Like what you see? Visit the ' +\n",
              "            '<a target=\"_blank\" href=https://colab.research.google.com/notebooks/data_table.ipynb>data table notebook</a>'\n",
              "            + ' to learn more about interactive tables.';\n",
              "          element.innerHTML = '';\n",
              "          dataTable['output_type'] = 'display_data';\n",
              "          await google.colab.output.renderOutput(dataTable, element);\n",
              "          const docLink = document.createElement('div');\n",
              "          docLink.innerHTML = docLinkHtml;\n",
              "          element.appendChild(docLink);\n",
              "        }\n",
              "      </script>\n",
              "    </div>\n",
              "  </div>\n",
              "  "
            ]
          },
          "metadata": {},
          "execution_count": 50
        }
      ]
    },
    {
      "cell_type": "code",
      "source": [
        "# data 정보 출력\n",
        "data.info()"
      ],
      "metadata": {
        "colab": {
          "base_uri": "https://localhost:8080/"
        },
        "id": "LrBl4nJ24xVJ",
        "outputId": "1ddd7a9f-0544-4370-92e3-527af17fa130"
      },
      "execution_count": 51,
      "outputs": [
        {
          "output_type": "stream",
          "name": "stdout",
          "text": [
            "<class 'pandas.core.frame.DataFrame'>\n",
            "RangeIndex: 733705 entries, 0 to 733704\n",
            "Data columns (total 19 columns):\n",
            " #   Column             Non-Null Count   Dtype  \n",
            "---  ------             --------------   -----  \n",
            " 0   pkSeqID            733705 non-null  int64  \n",
            " 1   proto              733705 non-null  object \n",
            " 2   saddr              733705 non-null  object \n",
            " 3   sport              733705 non-null  object \n",
            " 4   daddr              733705 non-null  object \n",
            " 5   dport              733705 non-null  object \n",
            " 6   seq                733705 non-null  int64  \n",
            " 7   stddev             733705 non-null  float64\n",
            " 8   N_IN_Conn_P_SrcIP  733705 non-null  int64  \n",
            " 9   min                733705 non-null  float64\n",
            " 10  state_number       733705 non-null  int64  \n",
            " 11  mean               733705 non-null  float64\n",
            " 12  N_IN_Conn_P_DstIP  733705 non-null  int64  \n",
            " 13  drate              733705 non-null  float64\n",
            " 14  srate              733705 non-null  float64\n",
            " 15  max                733705 non-null  float64\n",
            " 16  attack             733705 non-null  int64  \n",
            " 17  category           733705 non-null  object \n",
            " 18  subcategory        733705 non-null  object \n",
            "dtypes: float64(6), int64(6), object(7)\n",
            "memory usage: 106.4+ MB\n"
          ]
        }
      ]
    },
    {
      "cell_type": "code",
      "source": [
        "data.category.value_counts()"
      ],
      "metadata": {
        "colab": {
          "base_uri": "https://localhost:8080/"
        },
        "id": "AFnR8j9UEZUh",
        "outputId": "efe4cf50-4d87-4309-e7b3-15e9ea221eba"
      },
      "execution_count": 52,
      "outputs": [
        {
          "output_type": "execute_result",
          "data": {
            "text/plain": [
              "DDoS              385309\n",
              "DoS               330112\n",
              "Reconnaissance     18163\n",
              "Normal               107\n",
              "Theft                 14\n",
              "Name: category, dtype: int64"
            ]
          },
          "metadata": {},
          "execution_count": 52
        }
      ]
    },
    {
      "cell_type": "code",
      "source": [
        "data.subcategory.value_counts()"
      ],
      "metadata": {
        "colab": {
          "base_uri": "https://localhost:8080/"
        },
        "id": "RNlr5g9E5OAk",
        "outputId": "5b06f53a-35ba-41bf-abd7-c41a40910f5b"
      },
      "execution_count": 53,
      "outputs": [
        {
          "output_type": "execute_result",
          "data": {
            "text/plain": [
              "UDP               396580\n",
              "TCP               318337\n",
              "Service_Scan       14542\n",
              "OS_Fingerprint      3621\n",
              "HTTP                 504\n",
              "Normal               107\n",
              "Keylogging            14\n",
              "Name: subcategory, dtype: int64"
            ]
          },
          "metadata": {},
          "execution_count": 53
        }
      ]
    },
    {
      "cell_type": "code",
      "source": [
        "#속성 클래스 분리\n",
        "ten_best_features = data[['seq','stddev','N_IN_Conn_P_SrcIP', 'min', 'state_number', 'mean', 'N_IN_Conn_P_DstIP',\n",
        "       'drate', 'srate', 'max']]\n",
        "\n",
        "target_features = data[['attack','category','subcategory']]\n"
      ],
      "metadata": {
        "id": "fDcGpNBaZiMA"
      },
      "execution_count": 54,
      "outputs": []
    },
    {
      "cell_type": "code",
      "source": [
        "print(ten_best_features.shape)"
      ],
      "metadata": {
        "colab": {
          "base_uri": "https://localhost:8080/"
        },
        "id": "8uBheaOBLj_z",
        "outputId": "75b7ac62-6bd3-4ac7-9d2d-1be23c3db451"
      },
      "execution_count": 59,
      "outputs": [
        {
          "output_type": "stream",
          "name": "stdout",
          "text": [
            "(733705, 10)\n"
          ]
        }
      ]
    },
    {
      "cell_type": "code",
      "source": [
        "# Train-test Split\n",
        "## 훈련셋 : 테스트셋 = 8 : 2\n",
        "\n",
        "from sklearn.model_selection import train_test_split\n",
        "\n",
        "X_train, X_test, y_train, y_test = train_test_split(\n",
        "    ten_best_features,target_features,test_size=0.2, random_state=42\n",
        "    )"
      ],
      "metadata": {
        "id": "2dc5IHwKKqas"
      },
      "execution_count": 62,
      "outputs": []
    },
    {
      "cell_type": "code",
      "source": [
        "#Data 전처리\n",
        "\n",
        "## 최소 최대 정규화\n",
        "\n",
        "from sklearn.preprocessing import MinMaxScaler\n",
        "\n",
        "scaler = MinMaxScaler()\n",
        "scaler.fit(X_train)\n",
        "\n",
        "train_scaled = scaler.transform(X_train)\n",
        "test_scaled = scaler.transform(X_test)\n"
      ],
      "metadata": {
        "id": "UiaN-Idk5XZB"
      },
      "execution_count": 63,
      "outputs": []
    },
    {
      "cell_type": "code",
      "source": [
        "#ML 모델 클래스 랜덤포레스트\n",
        "\n",
        "class RandomForest:\n",
        "    def __init__(self,max_depth):\n",
        "        self.rfc_attack = RandomForestClassifier(max_depth=max_depth)\n",
        "        self.rfc_category = RandomForestClassifier(max_depth=max_depth)\n",
        "        self.rfc_subcategory = RandomForestClassifier(max_depth=max_depth)\n",
        "    \n",
        "    def fit(self,X_train,y_train):\n",
        "        self.rfc_attack.fit(X_train,y_train['attack'])\n",
        "        \n",
        "        features_category = np.concatenate((X_train,np.array(y_train['attack']).reshape(-1,1)),axis=1)\n",
        "        self.rfc_category.fit(features_category,y_train['category'])\n",
        "        \n",
        "        features_subcategory = np.concatenate((features_category,np.array(y_train['category']).reshape(-1,1)),axis=1)\n",
        "        self.rfc_subcategory.fit(features_subcategory,y_train['subcategory'])\n",
        "        \n",
        "    def predict(self,X_test):\n",
        "        predict_attack = self.rfc_attack.predict(X_test)\n",
        "        \n",
        "        test_category = np.concatenate((X_test,predict_attack.reshape(-1,1)),axis=1)\n",
        "        predict_category = self.rfc_category.predict(test_category)\n",
        "        \n",
        "        test_subcategory = np.concatenate((test_category,predict_category.reshape(-1,1)),axis=1)\n",
        "        predict_subcategory = self.rfc_subcategory.predict(test_subcategory)\n",
        "        \n",
        "        return pd.DataFrame({'attack':predict_attack,'category':predict_category,'subcategory':predict_subcategory})\n"
      ],
      "metadata": {
        "id": "EKbansRA8ibY"
      },
      "execution_count": 64,
      "outputs": []
    },
    {
      "cell_type": "code",
      "source": [
        "# 성능평가\n",
        "# Random Forest\n",
        "\n",
        "rf = RandomForest(max_depth=3)\n",
        "rf.fit(X_train,y_train)\n",
        "\n",
        "predictions_rfc = rf.predict(X_test)"
      ],
      "metadata": {
        "id": "UNzE4reA84f0"
      },
      "execution_count": null,
      "outputs": []
    },
    {
      "cell_type": "code",
      "source": [
        "rf.rfc_attack.score(X_test,y_test['attack'])"
      ],
      "metadata": {
        "id": "th8CYcT290-v",
        "colab": {
          "base_uri": "https://localhost:8080/"
        },
        "outputId": "f174224d-c461-42b4-fe95-f3c6c4cf9ca9"
      },
      "execution_count": 42,
      "outputs": [
        {
          "output_type": "execute_result",
          "data": {
            "text/plain": [
              "0.9999018683181865"
            ]
          },
          "metadata": {},
          "execution_count": 42
        }
      ]
    },
    {
      "cell_type": "code",
      "source": [
        "rf.rfc_category.score(np.concatenate((X_test,np.array(predictions_rfc['attack']).reshape(-1,1)),axis=1),y_test['category'])"
      ],
      "metadata": {
        "colab": {
          "base_uri": "https://localhost:8080/"
        },
        "id": "oZM0WkmOHVat",
        "outputId": "dc3d32fe-4fa5-4a1f-cd66-b7ea3c9a548d"
      },
      "execution_count": 43,
      "outputs": [
        {
          "output_type": "execute_result",
          "data": {
            "text/plain": [
              "0.9165608116580438"
            ]
          },
          "metadata": {},
          "execution_count": 43
        }
      ]
    },
    {
      "cell_type": "code",
      "source": [
        "rf.rfc_subcategory.score(np.concatenate((X_test,np.array(predictions_rfc['attack']).reshape(-1,1),\n",
        "                                    np.array(predictions_rfc['category']).reshape(-1,1)),axis=1),y_test['subcategory'])"
      ],
      "metadata": {
        "colab": {
          "base_uri": "https://localhost:8080/"
        },
        "id": "98fae9w2HcsF",
        "outputId": "56d10045-6c22-427a-b8fa-3269d04c82c2"
      },
      "execution_count": 44,
      "outputs": [
        {
          "output_type": "execute_result",
          "data": {
            "text/plain": [
              "0.9830068637659668"
            ]
          },
          "metadata": {},
          "execution_count": 44
        }
      ]
    }
  ]
}