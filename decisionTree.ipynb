{
  "cells": [
    {
      "cell_type": "markdown",
      "metadata": {
        "id": "eaXM8Jccdrvt"
      },
      "source": [
        "## BoT-IoT 데이터 로드\n",
        "\n"
      ]
    },
    {
      "cell_type": "code",
      "execution_count": null,
      "metadata": {
        "colab": {
          "base_uri": "https://localhost:8080/"
        },
        "id": "zijzyrTWic79",
        "outputId": "3ba99b08-642a-419b-bc0a-97a9d7275ec0"
      },
      "outputs": [
        {
          "name": "stdout",
          "output_type": "stream",
          "text": [
            "Mounted at /content/drive\n"
          ]
        }
      ],
      "source": [
        "# 구글 드라이브 마운트(접근 허용)\n",
        "\n",
        "from google.colab import drive\n",
        "drive.mount('/content/drive')"
      ]
    },
    {
      "cell_type": "code",
      "execution_count": null,
      "metadata": {
        "colab": {
          "base_uri": "https://localhost:8080/"
        },
        "id": "TAQVbc0wpYtV",
        "outputId": "fbacccca-af65-40cc-b1b9-4ced1401830c"
      },
      "outputs": [
        {
          "name": "stderr",
          "output_type": "stream",
          "text": [
            "/usr/local/lib/python3.8/dist-packages/IPython/core/interactiveshell.py:3326: DtypeWarning: Columns (4,6) have mixed types.Specify dtype option on import or set low_memory=False.\n",
            "  exec(code_obj, self.user_global_ns, self.user_ns)\n"
          ]
        }
      ],
      "source": [
        "# 구글 드라이브에서 csv 파일 가져오기\n",
        "\n",
        "import pandas as pd\n",
        "\n",
        "# 불러올 파일의 경로를 filename 변수에 저장\n",
        "filename = '/content/drive/MyDrive/Colab Notebooks/UNSW_2018_IoT_Botnet_Final_10_Best.csv'\n",
        "\n",
        "# pandas read_csv로 불러오기\n",
        "df = pd.read_csv(filename, sep=';')"
      ]
    },
    {
      "cell_type": "code",
      "execution_count": null,
      "metadata": {
        "colab": {
          "base_uri": "https://localhost:8080/",
          "height": 287
        },
        "id": "-ZgFjUcsIExY",
        "outputId": "676ffef5-fcfb-48cb-e5d4-113e87148ced"
      },
      "outputs": [
        {
          "data": {
            "text/html": [
              "\n",
              "  <div id=\"df-73f90e7a-b724-4465-bfa2-e5239e71d44e\">\n",
              "    <div class=\"colab-df-container\">\n",
              "      <div>\n",
              "<style scoped>\n",
              "    .dataframe tbody tr th:only-of-type {\n",
              "        vertical-align: middle;\n",
              "    }\n",
              "\n",
              "    .dataframe tbody tr th {\n",
              "        vertical-align: top;\n",
              "    }\n",
              "\n",
              "    .dataframe thead th {\n",
              "        text-align: right;\n",
              "    }\n",
              "</style>\n",
              "<table border=\"1\" class=\"dataframe\">\n",
              "  <thead>\n",
              "    <tr style=\"text-align: right;\">\n",
              "      <th></th>\n",
              "      <th>Unnamed: 0</th>\n",
              "      <th>pkSeqID</th>\n",
              "      <th>proto</th>\n",
              "      <th>saddr</th>\n",
              "      <th>sport</th>\n",
              "      <th>daddr</th>\n",
              "      <th>dport</th>\n",
              "      <th>seq</th>\n",
              "      <th>stddev</th>\n",
              "      <th>N_IN_Conn_P_SrcIP</th>\n",
              "      <th>min</th>\n",
              "      <th>state_number</th>\n",
              "      <th>mean</th>\n",
              "      <th>N_IN_Conn_P_DstIP</th>\n",
              "      <th>drate</th>\n",
              "      <th>srate</th>\n",
              "      <th>max</th>\n",
              "      <th>attack</th>\n",
              "      <th>category</th>\n",
              "      <th>subcategory</th>\n",
              "    </tr>\n",
              "  </thead>\n",
              "  <tbody>\n",
              "    <tr>\n",
              "      <th>0</th>\n",
              "      <td>0</td>\n",
              "      <td>1</td>\n",
              "      <td>tcp</td>\n",
              "      <td>192.168.100.147</td>\n",
              "      <td>49960</td>\n",
              "      <td>192.168.100.7</td>\n",
              "      <td>80</td>\n",
              "      <td>9</td>\n",
              "      <td>0.068909</td>\n",
              "      <td>75</td>\n",
              "      <td>0.000000</td>\n",
              "      <td>1</td>\n",
              "      <td>0.068909</td>\n",
              "      <td>96</td>\n",
              "      <td>14.511893</td>\n",
              "      <td>0.566862</td>\n",
              "      <td>0.137818</td>\n",
              "      <td>1</td>\n",
              "      <td>DoS</td>\n",
              "      <td>HTTP</td>\n",
              "    </tr>\n",
              "    <tr>\n",
              "      <th>1</th>\n",
              "      <td>1</td>\n",
              "      <td>2</td>\n",
              "      <td>arp</td>\n",
              "      <td>192.168.100.7</td>\n",
              "      <td>-1</td>\n",
              "      <td>192.168.100.147</td>\n",
              "      <td>-1</td>\n",
              "      <td>10</td>\n",
              "      <td>0.000000</td>\n",
              "      <td>2</td>\n",
              "      <td>0.000131</td>\n",
              "      <td>2</td>\n",
              "      <td>0.000131</td>\n",
              "      <td>1</td>\n",
              "      <td>0.000000</td>\n",
              "      <td>0.000000</td>\n",
              "      <td>0.000131</td>\n",
              "      <td>1</td>\n",
              "      <td>DoS</td>\n",
              "      <td>HTTP</td>\n",
              "    </tr>\n",
              "    <tr>\n",
              "      <th>2</th>\n",
              "      <td>2</td>\n",
              "      <td>3</td>\n",
              "      <td>tcp</td>\n",
              "      <td>192.168.100.147</td>\n",
              "      <td>49962</td>\n",
              "      <td>192.168.100.7</td>\n",
              "      <td>80</td>\n",
              "      <td>11</td>\n",
              "      <td>0.064494</td>\n",
              "      <td>75</td>\n",
              "      <td>0.000000</td>\n",
              "      <td>1</td>\n",
              "      <td>0.064494</td>\n",
              "      <td>96</td>\n",
              "      <td>15.505319</td>\n",
              "      <td>0.567549</td>\n",
              "      <td>0.128988</td>\n",
              "      <td>1</td>\n",
              "      <td>DoS</td>\n",
              "      <td>HTTP</td>\n",
              "    </tr>\n",
              "    <tr>\n",
              "      <th>3</th>\n",
              "      <td>3</td>\n",
              "      <td>4</td>\n",
              "      <td>tcp</td>\n",
              "      <td>192.168.100.147</td>\n",
              "      <td>49964</td>\n",
              "      <td>192.168.100.7</td>\n",
              "      <td>80</td>\n",
              "      <td>12</td>\n",
              "      <td>0.064189</td>\n",
              "      <td>75</td>\n",
              "      <td>0.000000</td>\n",
              "      <td>1</td>\n",
              "      <td>0.064189</td>\n",
              "      <td>96</td>\n",
              "      <td>15.578993</td>\n",
              "      <td>0.567570</td>\n",
              "      <td>0.128378</td>\n",
              "      <td>1</td>\n",
              "      <td>DoS</td>\n",
              "      <td>HTTP</td>\n",
              "    </tr>\n",
              "    <tr>\n",
              "      <th>4</th>\n",
              "      <td>4</td>\n",
              "      <td>5</td>\n",
              "      <td>tcp</td>\n",
              "      <td>192.168.100.147</td>\n",
              "      <td>49966</td>\n",
              "      <td>192.168.100.7</td>\n",
              "      <td>80</td>\n",
              "      <td>13</td>\n",
              "      <td>0.063887</td>\n",
              "      <td>75</td>\n",
              "      <td>0.000000</td>\n",
              "      <td>1</td>\n",
              "      <td>0.063887</td>\n",
              "      <td>96</td>\n",
              "      <td>15.652637</td>\n",
              "      <td>0.567630</td>\n",
              "      <td>0.127774</td>\n",
              "      <td>1</td>\n",
              "      <td>DoS</td>\n",
              "      <td>HTTP</td>\n",
              "    </tr>\n",
              "  </tbody>\n",
              "</table>\n",
              "</div>\n",
              "      <button class=\"colab-df-convert\" onclick=\"convertToInteractive('df-73f90e7a-b724-4465-bfa2-e5239e71d44e')\"\n",
              "              title=\"Convert this dataframe to an interactive table.\"\n",
              "              style=\"display:none;\">\n",
              "        \n",
              "  <svg xmlns=\"http://www.w3.org/2000/svg\" height=\"24px\"viewBox=\"0 0 24 24\"\n",
              "       width=\"24px\">\n",
              "    <path d=\"M0 0h24v24H0V0z\" fill=\"none\"/>\n",
              "    <path d=\"M18.56 5.44l.94 2.06.94-2.06 2.06-.94-2.06-.94-.94-2.06-.94 2.06-2.06.94zm-11 1L8.5 8.5l.94-2.06 2.06-.94-2.06-.94L8.5 2.5l-.94 2.06-2.06.94zm10 10l.94 2.06.94-2.06 2.06-.94-2.06-.94-.94-2.06-.94 2.06-2.06.94z\"/><path d=\"M17.41 7.96l-1.37-1.37c-.4-.4-.92-.59-1.43-.59-.52 0-1.04.2-1.43.59L10.3 9.45l-7.72 7.72c-.78.78-.78 2.05 0 2.83L4 21.41c.39.39.9.59 1.41.59.51 0 1.02-.2 1.41-.59l7.78-7.78 2.81-2.81c.8-.78.8-2.07 0-2.86zM5.41 20L4 18.59l7.72-7.72 1.47 1.35L5.41 20z\"/>\n",
              "  </svg>\n",
              "      </button>\n",
              "      \n",
              "  <style>\n",
              "    .colab-df-container {\n",
              "      display:flex;\n",
              "      flex-wrap:wrap;\n",
              "      gap: 12px;\n",
              "    }\n",
              "\n",
              "    .colab-df-convert {\n",
              "      background-color: #E8F0FE;\n",
              "      border: none;\n",
              "      border-radius: 50%;\n",
              "      cursor: pointer;\n",
              "      display: none;\n",
              "      fill: #1967D2;\n",
              "      height: 32px;\n",
              "      padding: 0 0 0 0;\n",
              "      width: 32px;\n",
              "    }\n",
              "\n",
              "    .colab-df-convert:hover {\n",
              "      background-color: #E2EBFA;\n",
              "      box-shadow: 0px 1px 2px rgba(60, 64, 67, 0.3), 0px 1px 3px 1px rgba(60, 64, 67, 0.15);\n",
              "      fill: #174EA6;\n",
              "    }\n",
              "\n",
              "    [theme=dark] .colab-df-convert {\n",
              "      background-color: #3B4455;\n",
              "      fill: #D2E3FC;\n",
              "    }\n",
              "\n",
              "    [theme=dark] .colab-df-convert:hover {\n",
              "      background-color: #434B5C;\n",
              "      box-shadow: 0px 1px 3px 1px rgba(0, 0, 0, 0.15);\n",
              "      filter: drop-shadow(0px 1px 2px rgba(0, 0, 0, 0.3));\n",
              "      fill: #FFFFFF;\n",
              "    }\n",
              "  </style>\n",
              "\n",
              "      <script>\n",
              "        const buttonEl =\n",
              "          document.querySelector('#df-73f90e7a-b724-4465-bfa2-e5239e71d44e button.colab-df-convert');\n",
              "        buttonEl.style.display =\n",
              "          google.colab.kernel.accessAllowed ? 'block' : 'none';\n",
              "\n",
              "        async function convertToInteractive(key) {\n",
              "          const element = document.querySelector('#df-73f90e7a-b724-4465-bfa2-e5239e71d44e');\n",
              "          const dataTable =\n",
              "            await google.colab.kernel.invokeFunction('convertToInteractive',\n",
              "                                                     [key], {});\n",
              "          if (!dataTable) return;\n",
              "\n",
              "          const docLinkHtml = 'Like what you see? Visit the ' +\n",
              "            '<a target=\"_blank\" href=https://colab.research.google.com/notebooks/data_table.ipynb>data table notebook</a>'\n",
              "            + ' to learn more about interactive tables.';\n",
              "          element.innerHTML = '';\n",
              "          dataTable['output_type'] = 'display_data';\n",
              "          await google.colab.output.renderOutput(dataTable, element);\n",
              "          const docLink = document.createElement('div');\n",
              "          docLink.innerHTML = docLinkHtml;\n",
              "          element.appendChild(docLink);\n",
              "        }\n",
              "      </script>\n",
              "    </div>\n",
              "  </div>\n",
              "  "
            ],
            "text/plain": [
              "   Unnamed: 0  pkSeqID proto            saddr  sport            daddr dport  \\\n",
              "0           0        1   tcp  192.168.100.147  49960    192.168.100.7    80   \n",
              "1           1        2   arp    192.168.100.7     -1  192.168.100.147    -1   \n",
              "2           2        3   tcp  192.168.100.147  49962    192.168.100.7    80   \n",
              "3           3        4   tcp  192.168.100.147  49964    192.168.100.7    80   \n",
              "4           4        5   tcp  192.168.100.147  49966    192.168.100.7    80   \n",
              "\n",
              "   seq    stddev  N_IN_Conn_P_SrcIP       min  state_number      mean  \\\n",
              "0    9  0.068909                 75  0.000000             1  0.068909   \n",
              "1   10  0.000000                  2  0.000131             2  0.000131   \n",
              "2   11  0.064494                 75  0.000000             1  0.064494   \n",
              "3   12  0.064189                 75  0.000000             1  0.064189   \n",
              "4   13  0.063887                 75  0.000000             1  0.063887   \n",
              "\n",
              "   N_IN_Conn_P_DstIP      drate     srate       max  attack category  \\\n",
              "0                 96  14.511893  0.566862  0.137818       1      DoS   \n",
              "1                  1   0.000000  0.000000  0.000131       1      DoS   \n",
              "2                 96  15.505319  0.567549  0.128988       1      DoS   \n",
              "3                 96  15.578993  0.567570  0.128378       1      DoS   \n",
              "4                 96  15.652637  0.567630  0.127774       1      DoS   \n",
              "\n",
              "  subcategory  \n",
              "0        HTTP  \n",
              "1        HTTP  \n",
              "2        HTTP  \n",
              "3        HTTP  \n",
              "4        HTTP  "
            ]
          },
          "execution_count": 3,
          "metadata": {},
          "output_type": "execute_result"
        }
      ],
      "source": [
        "# 데이터 형식\n",
        "df.head()"
      ]
    },
    {
      "cell_type": "code",
      "execution_count": null,
      "metadata": {
        "colab": {
          "base_uri": "https://localhost:8080/"
        },
        "id": "t25p50NzEqEV",
        "outputId": "2c824c14-7555-47d5-935f-7527feb0f370"
      },
      "outputs": [
        {
          "data": {
            "text/plain": [
              "(3668522, 20)"
            ]
          },
          "execution_count": 8,
          "metadata": {},
          "output_type": "execute_result"
        }
      ],
      "source": [
        "df.shape  # 3,668,522개의 데이터, 20개의 특성"
      ]
    },
    {
      "cell_type": "code",
      "execution_count": null,
      "metadata": {
        "colab": {
          "base_uri": "https://localhost:8080/"
        },
        "id": "Ryv3g1zI09j6",
        "outputId": "e62284a5-ce83-4cfb-b886-257fe07934de"
      },
      "outputs": [
        {
          "name": "stdout",
          "output_type": "stream",
          "text": [
            "<class 'pandas.core.frame.DataFrame'>\n",
            "RangeIndex: 3668522 entries, 0 to 3668521\n",
            "Data columns (total 20 columns):\n",
            " #   Column             Dtype  \n",
            "---  ------             -----  \n",
            " 0   Unnamed: 0         int64  \n",
            " 1   pkSeqID            int64  \n",
            " 2   proto              object \n",
            " 3   saddr              object \n",
            " 4   sport              object \n",
            " 5   daddr              object \n",
            " 6   dport              object \n",
            " 7   seq                int64  \n",
            " 8   stddev             float64\n",
            " 9   N_IN_Conn_P_SrcIP  int64  \n",
            " 10  min                float64\n",
            " 11  state_number       int64  \n",
            " 12  mean               float64\n",
            " 13  N_IN_Conn_P_DstIP  int64  \n",
            " 14  drate              float64\n",
            " 15  srate              float64\n",
            " 16  max                float64\n",
            " 17  attack             int64  \n",
            " 18  category           object \n",
            " 19  subcategory        object \n",
            "dtypes: float64(6), int64(7), object(7)\n",
            "memory usage: 559.8+ MB\n"
          ]
        }
      ],
      "source": [
        "## 각 컬럼별 데이터 수, 데이터 타입 확인\n",
        "df.info()"
      ]
    },
    {
      "cell_type": "code",
      "execution_count": null,
      "metadata": {
        "colab": {
          "base_uri": "https://localhost:8080/"
        },
        "id": "RVBsv-Jo453U",
        "outputId": "5e3a3287-9ce2-4815-e6cc-351ca854b737"
      },
      "outputs": [
        {
          "data": {
            "text/plain": [
              "Unnamed: 0           0\n",
              "pkSeqID              0\n",
              "proto                0\n",
              "saddr                0\n",
              "sport                0\n",
              "daddr                0\n",
              "dport                0\n",
              "seq                  0\n",
              "stddev               0\n",
              "N_IN_Conn_P_SrcIP    0\n",
              "min                  0\n",
              "state_number         0\n",
              "mean                 0\n",
              "N_IN_Conn_P_DstIP    0\n",
              "drate                0\n",
              "srate                0\n",
              "max                  0\n",
              "attack               0\n",
              "category             0\n",
              "subcategory          0\n",
              "dtype: int64"
            ]
          },
          "execution_count": 5,
          "metadata": {},
          "output_type": "execute_result"
        }
      ],
      "source": [
        "## 결측치 존재 여부 확인 - 존재 X\n",
        "df.isnull().sum()"
      ]
    },
    {
      "cell_type": "code",
      "execution_count": null,
      "metadata": {
        "colab": {
          "base_uri": "https://localhost:8080/",
          "height": 292
        },
        "id": "o-t5E_fQ1I-9",
        "outputId": "c3753c44-a237-480e-cf1f-7af46baa0cff"
      },
      "outputs": [
        {
          "data": {
            "text/html": [
              "\n",
              "  <div id=\"df-356d683b-334b-45c6-9938-27fe7b0e5175\">\n",
              "    <div class=\"colab-df-container\">\n",
              "      <div>\n",
              "<style scoped>\n",
              "    .dataframe tbody tr th:only-of-type {\n",
              "        vertical-align: middle;\n",
              "    }\n",
              "\n",
              "    .dataframe tbody tr th {\n",
              "        vertical-align: top;\n",
              "    }\n",
              "\n",
              "    .dataframe thead th {\n",
              "        text-align: right;\n",
              "    }\n",
              "</style>\n",
              "<table border=\"1\" class=\"dataframe\">\n",
              "  <thead>\n",
              "    <tr style=\"text-align: right;\">\n",
              "      <th></th>\n",
              "      <th>Unnamed: 0</th>\n",
              "      <th>pkSeqID</th>\n",
              "      <th>seq</th>\n",
              "      <th>stddev</th>\n",
              "      <th>N_IN_Conn_P_SrcIP</th>\n",
              "      <th>min</th>\n",
              "      <th>state_number</th>\n",
              "      <th>mean</th>\n",
              "      <th>N_IN_Conn_P_DstIP</th>\n",
              "      <th>drate</th>\n",
              "      <th>srate</th>\n",
              "      <th>max</th>\n",
              "      <th>attack</th>\n",
              "    </tr>\n",
              "  </thead>\n",
              "  <tbody>\n",
              "    <tr>\n",
              "      <th>count</th>\n",
              "      <td>3.668522e+06</td>\n",
              "      <td>3.668522e+06</td>\n",
              "      <td>3.668522e+06</td>\n",
              "      <td>3.668522e+06</td>\n",
              "      <td>3.668522e+06</td>\n",
              "      <td>3.668522e+06</td>\n",
              "      <td>3.668522e+06</td>\n",
              "      <td>3.668522e+06</td>\n",
              "      <td>3.668522e+06</td>\n",
              "      <td>3.668522e+06</td>\n",
              "      <td>3.668522e+06</td>\n",
              "      <td>3.668522e+06</td>\n",
              "      <td>3.668522e+06</td>\n",
              "    </tr>\n",
              "    <tr>\n",
              "      <th>mean</th>\n",
              "      <td>1.834260e+06</td>\n",
              "      <td>1.834262e+06</td>\n",
              "      <td>1.213204e+05</td>\n",
              "      <td>8.871499e-01</td>\n",
              "      <td>8.253848e+01</td>\n",
              "      <td>1.017540e+00</td>\n",
              "      <td>3.134390e+00</td>\n",
              "      <td>2.231063e+00</td>\n",
              "      <td>9.245168e+01</td>\n",
              "      <td>4.455046e-01</td>\n",
              "      <td>2.955111e+00</td>\n",
              "      <td>3.020015e+00</td>\n",
              "      <td>9.998700e-01</td>\n",
              "    </tr>\n",
              "    <tr>\n",
              "      <th>std</th>\n",
              "      <td>1.059011e+06</td>\n",
              "      <td>1.059011e+06</td>\n",
              "      <td>7.579428e+04</td>\n",
              "      <td>8.037139e-01</td>\n",
              "      <td>2.439739e+01</td>\n",
              "      <td>1.483688e+00</td>\n",
              "      <td>1.186971e+00</td>\n",
              "      <td>1.517728e+00</td>\n",
              "      <td>1.817643e+01</td>\n",
              "      <td>6.028863e+01</td>\n",
              "      <td>7.245425e+02</td>\n",
              "      <td>1.860877e+00</td>\n",
              "      <td>1.140212e-02</td>\n",
              "    </tr>\n",
              "    <tr>\n",
              "      <th>min</th>\n",
              "      <td>0.000000e+00</td>\n",
              "      <td>1.000000e+00</td>\n",
              "      <td>1.000000e+00</td>\n",
              "      <td>0.000000e+00</td>\n",
              "      <td>1.000000e+00</td>\n",
              "      <td>0.000000e+00</td>\n",
              "      <td>1.000000e+00</td>\n",
              "      <td>0.000000e+00</td>\n",
              "      <td>1.000000e+00</td>\n",
              "      <td>0.000000e+00</td>\n",
              "      <td>0.000000e+00</td>\n",
              "      <td>0.000000e+00</td>\n",
              "      <td>0.000000e+00</td>\n",
              "    </tr>\n",
              "    <tr>\n",
              "      <th>25%</th>\n",
              "      <td>9.171302e+05</td>\n",
              "      <td>9.171312e+05</td>\n",
              "      <td>5.487600e+04</td>\n",
              "      <td>3.001900e-02</td>\n",
              "      <td>6.900000e+01</td>\n",
              "      <td>0.000000e+00</td>\n",
              "      <td>3.000000e+00</td>\n",
              "      <td>1.819670e-01</td>\n",
              "      <td>1.000000e+02</td>\n",
              "      <td>0.000000e+00</td>\n",
              "      <td>1.559700e-01</td>\n",
              "      <td>2.806072e-01</td>\n",
              "      <td>1.000000e+00</td>\n",
              "    </tr>\n",
              "    <tr>\n",
              "      <th>50%</th>\n",
              "      <td>1.834260e+06</td>\n",
              "      <td>1.834262e+06</td>\n",
              "      <td>1.177690e+05</td>\n",
              "      <td>7.938960e-01</td>\n",
              "      <td>1.000000e+02</td>\n",
              "      <td>0.000000e+00</td>\n",
              "      <td>4.000000e+00</td>\n",
              "      <td>2.690125e+00</td>\n",
              "      <td>1.000000e+02</td>\n",
              "      <td>0.000000e+00</td>\n",
              "      <td>2.837830e-01</td>\n",
              "      <td>4.009111e+00</td>\n",
              "      <td>1.000000e+00</td>\n",
              "    </tr>\n",
              "    <tr>\n",
              "      <th>75%</th>\n",
              "      <td>2.751391e+06</td>\n",
              "      <td>2.751392e+06</td>\n",
              "      <td>1.849300e+05</td>\n",
              "      <td>1.745296e+00</td>\n",
              "      <td>1.000000e+02</td>\n",
              "      <td>2.151138e+00</td>\n",
              "      <td>4.000000e+00</td>\n",
              "      <td>3.565203e+00</td>\n",
              "      <td>1.000000e+02</td>\n",
              "      <td>0.000000e+00</td>\n",
              "      <td>4.882010e-01</td>\n",
              "      <td>4.293582e+00</td>\n",
              "      <td>1.000000e+00</td>\n",
              "    </tr>\n",
              "    <tr>\n",
              "      <th>max</th>\n",
              "      <td>3.668521e+06</td>\n",
              "      <td>3.668522e+06</td>\n",
              "      <td>2.622120e+05</td>\n",
              "      <td>2.496763e+00</td>\n",
              "      <td>1.000000e+02</td>\n",
              "      <td>4.980471e+00</td>\n",
              "      <td>1.100000e+01</td>\n",
              "      <td>4.981882e+00</td>\n",
              "      <td>1.000000e+02</td>\n",
              "      <td>5.882353e+04</td>\n",
              "      <td>1.000000e+06</td>\n",
              "      <td>4.999999e+00</td>\n",
              "      <td>1.000000e+00</td>\n",
              "    </tr>\n",
              "  </tbody>\n",
              "</table>\n",
              "</div>\n",
              "      <button class=\"colab-df-convert\" onclick=\"convertToInteractive('df-356d683b-334b-45c6-9938-27fe7b0e5175')\"\n",
              "              title=\"Convert this dataframe to an interactive table.\"\n",
              "              style=\"display:none;\">\n",
              "        \n",
              "  <svg xmlns=\"http://www.w3.org/2000/svg\" height=\"24px\"viewBox=\"0 0 24 24\"\n",
              "       width=\"24px\">\n",
              "    <path d=\"M0 0h24v24H0V0z\" fill=\"none\"/>\n",
              "    <path d=\"M18.56 5.44l.94 2.06.94-2.06 2.06-.94-2.06-.94-.94-2.06-.94 2.06-2.06.94zm-11 1L8.5 8.5l.94-2.06 2.06-.94-2.06-.94L8.5 2.5l-.94 2.06-2.06.94zm10 10l.94 2.06.94-2.06 2.06-.94-2.06-.94-.94-2.06-.94 2.06-2.06.94z\"/><path d=\"M17.41 7.96l-1.37-1.37c-.4-.4-.92-.59-1.43-.59-.52 0-1.04.2-1.43.59L10.3 9.45l-7.72 7.72c-.78.78-.78 2.05 0 2.83L4 21.41c.39.39.9.59 1.41.59.51 0 1.02-.2 1.41-.59l7.78-7.78 2.81-2.81c.8-.78.8-2.07 0-2.86zM5.41 20L4 18.59l7.72-7.72 1.47 1.35L5.41 20z\"/>\n",
              "  </svg>\n",
              "      </button>\n",
              "      \n",
              "  <style>\n",
              "    .colab-df-container {\n",
              "      display:flex;\n",
              "      flex-wrap:wrap;\n",
              "      gap: 12px;\n",
              "    }\n",
              "\n",
              "    .colab-df-convert {\n",
              "      background-color: #E8F0FE;\n",
              "      border: none;\n",
              "      border-radius: 50%;\n",
              "      cursor: pointer;\n",
              "      display: none;\n",
              "      fill: #1967D2;\n",
              "      height: 32px;\n",
              "      padding: 0 0 0 0;\n",
              "      width: 32px;\n",
              "    }\n",
              "\n",
              "    .colab-df-convert:hover {\n",
              "      background-color: #E2EBFA;\n",
              "      box-shadow: 0px 1px 2px rgba(60, 64, 67, 0.3), 0px 1px 3px 1px rgba(60, 64, 67, 0.15);\n",
              "      fill: #174EA6;\n",
              "    }\n",
              "\n",
              "    [theme=dark] .colab-df-convert {\n",
              "      background-color: #3B4455;\n",
              "      fill: #D2E3FC;\n",
              "    }\n",
              "\n",
              "    [theme=dark] .colab-df-convert:hover {\n",
              "      background-color: #434B5C;\n",
              "      box-shadow: 0px 1px 3px 1px rgba(0, 0, 0, 0.15);\n",
              "      filter: drop-shadow(0px 1px 2px rgba(0, 0, 0, 0.3));\n",
              "      fill: #FFFFFF;\n",
              "    }\n",
              "  </style>\n",
              "\n",
              "      <script>\n",
              "        const buttonEl =\n",
              "          document.querySelector('#df-356d683b-334b-45c6-9938-27fe7b0e5175 button.colab-df-convert');\n",
              "        buttonEl.style.display =\n",
              "          google.colab.kernel.accessAllowed ? 'block' : 'none';\n",
              "\n",
              "        async function convertToInteractive(key) {\n",
              "          const element = document.querySelector('#df-356d683b-334b-45c6-9938-27fe7b0e5175');\n",
              "          const dataTable =\n",
              "            await google.colab.kernel.invokeFunction('convertToInteractive',\n",
              "                                                     [key], {});\n",
              "          if (!dataTable) return;\n",
              "\n",
              "          const docLinkHtml = 'Like what you see? Visit the ' +\n",
              "            '<a target=\"_blank\" href=https://colab.research.google.com/notebooks/data_table.ipynb>data table notebook</a>'\n",
              "            + ' to learn more about interactive tables.';\n",
              "          element.innerHTML = '';\n",
              "          dataTable['output_type'] = 'display_data';\n",
              "          await google.colab.output.renderOutput(dataTable, element);\n",
              "          const docLink = document.createElement('div');\n",
              "          docLink.innerHTML = docLinkHtml;\n",
              "          element.appendChild(docLink);\n",
              "        }\n",
              "      </script>\n",
              "    </div>\n",
              "  </div>\n",
              "  "
            ],
            "text/plain": [
              "         Unnamed: 0       pkSeqID           seq        stddev  \\\n",
              "count  3.668522e+06  3.668522e+06  3.668522e+06  3.668522e+06   \n",
              "mean   1.834260e+06  1.834262e+06  1.213204e+05  8.871499e-01   \n",
              "std    1.059011e+06  1.059011e+06  7.579428e+04  8.037139e-01   \n",
              "min    0.000000e+00  1.000000e+00  1.000000e+00  0.000000e+00   \n",
              "25%    9.171302e+05  9.171312e+05  5.487600e+04  3.001900e-02   \n",
              "50%    1.834260e+06  1.834262e+06  1.177690e+05  7.938960e-01   \n",
              "75%    2.751391e+06  2.751392e+06  1.849300e+05  1.745296e+00   \n",
              "max    3.668521e+06  3.668522e+06  2.622120e+05  2.496763e+00   \n",
              "\n",
              "       N_IN_Conn_P_SrcIP           min  state_number          mean  \\\n",
              "count       3.668522e+06  3.668522e+06  3.668522e+06  3.668522e+06   \n",
              "mean        8.253848e+01  1.017540e+00  3.134390e+00  2.231063e+00   \n",
              "std         2.439739e+01  1.483688e+00  1.186971e+00  1.517728e+00   \n",
              "min         1.000000e+00  0.000000e+00  1.000000e+00  0.000000e+00   \n",
              "25%         6.900000e+01  0.000000e+00  3.000000e+00  1.819670e-01   \n",
              "50%         1.000000e+02  0.000000e+00  4.000000e+00  2.690125e+00   \n",
              "75%         1.000000e+02  2.151138e+00  4.000000e+00  3.565203e+00   \n",
              "max         1.000000e+02  4.980471e+00  1.100000e+01  4.981882e+00   \n",
              "\n",
              "       N_IN_Conn_P_DstIP         drate         srate           max  \\\n",
              "count       3.668522e+06  3.668522e+06  3.668522e+06  3.668522e+06   \n",
              "mean        9.245168e+01  4.455046e-01  2.955111e+00  3.020015e+00   \n",
              "std         1.817643e+01  6.028863e+01  7.245425e+02  1.860877e+00   \n",
              "min         1.000000e+00  0.000000e+00  0.000000e+00  0.000000e+00   \n",
              "25%         1.000000e+02  0.000000e+00  1.559700e-01  2.806072e-01   \n",
              "50%         1.000000e+02  0.000000e+00  2.837830e-01  4.009111e+00   \n",
              "75%         1.000000e+02  0.000000e+00  4.882010e-01  4.293582e+00   \n",
              "max         1.000000e+02  5.882353e+04  1.000000e+06  4.999999e+00   \n",
              "\n",
              "             attack  \n",
              "count  3.668522e+06  \n",
              "mean   9.998700e-01  \n",
              "std    1.140212e-02  \n",
              "min    0.000000e+00  \n",
              "25%    1.000000e+00  \n",
              "50%    1.000000e+00  \n",
              "75%    1.000000e+00  \n",
              "max    1.000000e+00  "
            ]
          },
          "execution_count": 6,
          "metadata": {},
          "output_type": "execute_result"
        }
      ],
      "source": [
        "## 수치형 변수 분포 확인\n",
        "df.describe()"
      ]
    },
    {
      "cell_type": "code",
      "execution_count": null,
      "metadata": {
        "colab": {
          "base_uri": "https://localhost:8080/"
        },
        "id": "NM_3vMSK1Riy",
        "outputId": "fbd7c823-42f5-427c-984e-8eb72a24ae1f"
      },
      "outputs": [
        {
          "data": {
            "text/plain": [
              "array(['DoS', 'DDoS', 'Normal', 'Reconnaissance', 'Theft'], dtype=object)"
            ]
          },
          "execution_count": 9,
          "metadata": {},
          "output_type": "execute_result"
        }
      ],
      "source": [
        "## 타겟 종류 확인\n",
        "df['category'].unique()"
      ]
    },
    {
      "cell_type": "code",
      "execution_count": null,
      "metadata": {
        "id": "8rzqRhkMLDn-"
      },
      "outputs": [],
      "source": [
        "## 속성과 클래스 분리\n",
        "\n",
        "import numpy as np\n",
        "\n",
        "data = df[['seq', 'stddev', 'N_IN_Conn_P_DstIP', 'N_IN_Conn_P_SrcIP', 'min', 'state_number', 'mean', 'drate', 'srate', 'max']].to_numpy() \n",
        "target = df['category'].to_numpy()  # category: 공격의 종류"
      ]
    },
    {
      "cell_type": "code",
      "execution_count": null,
      "metadata": {
        "colab": {
          "base_uri": "https://localhost:8080/"
        },
        "id": "AgjutqHiKYw6",
        "outputId": "f61c062e-9e6c-4801-d677-3f802c5c6732"
      },
      "outputs": [
        {
          "name": "stdout",
          "output_type": "stream",
          "text": [
            "(3668522, 10)\n"
          ]
        }
      ],
      "source": [
        "print(data.shape)  # 총 3,668,522개의 데이터, 10개의 특성"
      ]
    },
    {
      "cell_type": "code",
      "execution_count": null,
      "metadata": {
        "colab": {
          "base_uri": "https://localhost:8080/"
        },
        "id": "gnt-LRanLJjG",
        "outputId": "dffd5697-8139-42d3-d7ea-d556716394d5"
      },
      "outputs": [
        {
          "data": {
            "text/plain": [
              "array([[9.0000000e+00, 6.8909000e-02, 9.6000000e+01, ..., 1.4511893e+01,\n",
              "        5.6686200e-01, 1.3781800e-01],\n",
              "       [1.0000000e+01, 0.0000000e+00, 1.0000000e+00, ..., 0.0000000e+00,\n",
              "        0.0000000e+00, 1.3100000e-04],\n",
              "       [1.1000000e+01, 6.4494000e-02, 9.6000000e+01, ..., 1.5505319e+01,\n",
              "        5.6754900e-01, 1.2898800e-01],\n",
              "       ...,\n",
              "       [8.4000000e+01, 0.0000000e+00, 1.9000000e+01, ..., 5.5665690e+00,\n",
              "        4.5228370e+00, 2.8743020e+00],\n",
              "       [8.5000000e+01, 0.0000000e+00, 1.0000000e+00, ..., 0.0000000e+00,\n",
              "        0.0000000e+00, 3.0000000e-06],\n",
              "       [1.0000000e+01, 5.6000000e-05, 2.0000000e+00, ..., 8.2550000e-03,\n",
              "        8.2550000e-03, 2.7200000e-04]])"
            ]
          },
          "execution_count": 32,
          "metadata": {},
          "output_type": "execute_result"
        }
      ],
      "source": [
        "data"
      ]
    },
    {
      "cell_type": "code",
      "execution_count": null,
      "metadata": {
        "colab": {
          "base_uri": "https://localhost:8080/"
        },
        "id": "oiM12h3LKO44",
        "outputId": "6b445cd6-874e-4a34-9354-602e2a9ee99e"
      },
      "outputs": [
        {
          "data": {
            "text/plain": [
              "array(['DoS', 'DoS', 'DoS', ..., 'Theft', 'Theft', 'Theft'], dtype=object)"
            ]
          },
          "execution_count": 33,
          "metadata": {},
          "output_type": "execute_result"
        }
      ],
      "source": [
        "target"
      ]
    },
    {
      "cell_type": "markdown",
      "metadata": {
        "id": "UJM0Su95lebu"
      },
      "source": [
        "## 훈련셋, 테스트셋 나누기"
      ]
    },
    {
      "cell_type": "code",
      "execution_count": null,
      "metadata": {
        "id": "9mz4lRu0Opy2"
      },
      "outputs": [],
      "source": [
        "## 훈련셋 : 테스트셋 = 8 : 2\n",
        "\n",
        "from sklearn.model_selection import train_test_split\n",
        "\n",
        "train_input, test_input, train_target, test_target = train_test_split(\n",
        "    data, target, test_size=0.2, random_state=42\n",
        ")"
      ]
    },
    {
      "cell_type": "code",
      "execution_count": null,
      "metadata": {
        "colab": {
          "base_uri": "https://localhost:8080/"
        },
        "id": "38FW3ijt4j-T",
        "outputId": "d954cb3f-d52f-4c22-bbb3-799c37e4f3cd"
      },
      "outputs": [
        {
          "name": "stdout",
          "output_type": "stream",
          "text": [
            "train_input:  (2934817, 10)\n",
            "train_target:  (2934817,)\n",
            "test_input:  (733705, 10)\n",
            "test_target:  (733705,)\n"
          ]
        }
      ],
      "source": [
        "print(\"train_input: \", train_input.shape)\n",
        "print(\"train_target: \", train_target.shape)\n",
        "print(\"test_input: \", test_input.shape)\n",
        "print(\"test_target: \", test_target.shape)"
      ]
    },
    {
      "cell_type": "markdown",
      "metadata": {
        "id": "Ujm04cms5SVt"
      },
      "source": [
        "훈련셋: 2,934,817개의 데이터\n",
        "\n",
        "테스트셋: 733,705개의 데이터"
      ]
    },
    {
      "cell_type": "markdown",
      "metadata": {
        "id": "1S8vU225pRlB"
      },
      "source": [
        "## 데이터 전처리"
      ]
    },
    {
      "cell_type": "code",
      "execution_count": null,
      "metadata": {
        "id": "E36pJs3MpTK-"
      },
      "outputs": [],
      "source": [
        "## 최소 최대 정규화\n",
        "\n",
        "from sklearn.preprocessing import MinMaxScaler\n",
        "\n",
        "scaler = MinMaxScaler()\n",
        "scaler.fit(train_input)\n",
        "\n",
        "train_scaled = scaler.transform(train_input)\n",
        "test_scaled = scaler.transform(test_input)"
      ]
    },
    {
      "cell_type": "markdown",
      "metadata": {
        "id": "0s_7QzQu4NCo"
      },
      "source": [
        "## Decision Tree 모델 훈련 및 평가"
      ]
    },
    {
      "cell_type": "code",
      "execution_count": null,
      "metadata": {
        "colab": {
          "base_uri": "https://localhost:8080/"
        },
        "id": "kqXE6z514QFZ",
        "outputId": "115c7b1b-2eab-4693-8715-a65a6d8c8186"
      },
      "outputs": [
        {
          "name": "stdout",
          "output_type": "stream",
          "text": [
            "0.996613417463508\n",
            "0.9916301510825195\n"
          ]
        }
      ],
      "source": [
        "from sklearn.tree import DecisionTreeClassifier\n",
        "\n",
        "dt = DecisionTreeClassifier(random_state = 42)\n",
        "dt.fit(train_scaled, train_target)\n",
        "print(dt.score(train_scaled, train_target))\n",
        "print(dt.score(test_scaled, test_target))"
      ]
    },
    {
      "cell_type": "markdown",
      "metadata": {
        "id": "JdO_zIYXef1A"
      },
      "source": [
        "훈련셋과 테스트셋의 정확도가 둘 다 매우 높긴 하나, 훈련셋의 정확도가 조금 더 높다."
      ]
    },
    {
      "cell_type": "code",
      "execution_count": null,
      "metadata": {
        "colab": {
          "base_uri": "https://localhost:8080/",
          "height": 412
        },
        "id": "g4lTMhx72eXO",
        "outputId": "412696c2-b6c2-4b11-e3b6-b44e9f98b233"
      },
      "outputs": [
        {
          "data": {
            "image/png": "[encoded data removed]",
            "text/plain": [
              "<Figure size 720x504 with 1 Axes>"
            ]
          },
          "metadata": {
            "needs_background": "light"
          },
          "output_type": "display_data"
        }
      ],
      "source": [
        "import matplotlib.pyplot as plt\n",
        "from sklearn.tree import plot_tree\n",
        "\n",
        "plt.figure(figsize=(10, 7))\n",
        "plot_tree(dt, filled=True, feature_names=['seq', 'stddev', 'N_IN_Conn_P_DstIP', 'N_IN_Conn_P_SrcIP', 'min', 'state_number', 'mean', 'drate', 'srate', 'max'])\n",
        "plt.savefig('full-tree.png')\n",
        "plt.show()"
      ]
    },
    {
      "cell_type": "code",
      "execution_count": null,
      "metadata": {
        "colab": {
          "base_uri": "https://localhost:8080/",
          "height": 411
        },
        "id": "LavNzEyk21XY",
        "outputId": "17a3246e-f692-4588-af65-6512ec6bb4d0"
      },
      "outputs": [
        {
          "data": {
            "image/png": "[encoded data removed]",
            "text/plain": [
              "<Figure size 720x504 with 1 Axes>"
            ]
          },
          "metadata": {
            "needs_background": "light"
          },
          "output_type": "display_data"
        }
      ],
      "source": [
        "plt.figure(figsize=(10, 7))\n",
        "plot_tree(dt, max_depth=1, filled=True, feature_names=['seq', 'stddev', 'N_IN_Conn_P_DstIP', 'N_IN_Conn_P_SrcIP', 'min', 'state_number', 'mean', 'drate', 'srate', 'max'])\n",
        "plt.savefig('depth-1-tree.png', dpi=200)\n",
        "plt.show()"
      ]
    },
    {
      "cell_type": "code",
      "execution_count": null,
      "metadata": {
        "colab": {
          "base_uri": "https://localhost:8080/",
          "height": 411
        },
        "id": "cU7qjw-jFWsS",
        "outputId": "669d2e59-795b-48f0-db71-4d5a2ba8206d"
      },
      "outputs": [
        {
          "data": {
            "image/png": "[encoded data removed]",
            "text/plain": [
              "<Figure size 720x504 with 1 Axes>"
            ]
          },
          "metadata": {
            "needs_background": "light"
          },
          "output_type": "display_data"
        }
      ],
      "source": [
        "plt.figure(figsize=(10, 7))\n",
        "plot_tree(dt, max_depth=2, filled=True, feature_names=['seq', 'stddev', 'N_IN_Conn_P_DstIP', 'N_IN_Conn_P_SrcIP', 'min', 'state_number', 'mean', 'drate', 'srate', 'max'])\n",
        "plt.savefig('depth-2-tree.png')\n",
        "plt.show()"
      ]
    },
    {
      "cell_type": "markdown",
      "metadata": {
        "id": "IosWe7kmeF2P"
      },
      "source": [
        "## 가지치기 수행"
      ]
    },
    {
      "cell_type": "code",
      "execution_count": null,
      "metadata": {
        "colab": {
          "base_uri": "https://localhost:8080/"
        },
        "id": "EFdvfytP2aDn",
        "outputId": "5d983625-3aeb-4010-9594-af1a53c08596"
      },
      "outputs": [
        {
          "name": "stdout",
          "output_type": "stream",
          "text": [
            "0.7982528382519251\n",
            "0.7987052016818749\n"
          ]
        }
      ],
      "source": [
        "dt = DecisionTreeClassifier(max_depth=3, random_state=42)\n",
        "dt.fit(train_scaled, train_target)\n",
        "\n",
        "## 표준화한 데이터셋 활용 (어차피 각 단계마다 같은 기준을 가지고 비교하기 때문에 표준화하지 않은 데이터셋과 결과 동일)\n",
        "print(dt.score(train_scaled, train_target))\n",
        "print(dt.score(test_scaled, test_target))"
      ]
    },
    {
      "cell_type": "markdown",
      "metadata": {
        "id": "wS6USUyHeuxA"
      },
      "source": [
        "결정 트리 학습 시 지나치게 많이 나누는 경우 과대적합이 발생할 수 있는데, 가지치기 수행 전에도 과대적합이 발생하지 않았으므로 이를 통해 끝까지 나눴을 때(높이 제한 X)가 적당한 높이였음을 알 수 있다. 따라서 높이를 제한하였을 때 오히려 성능이 낮게 나오는 것이다."
      ]
    },
    {
      "cell_type": "markdown",
      "metadata": {
        "id": "-RCXXTUQer-B"
      },
      "source": [
        "## 시각화"
      ]
    },
    {
      "cell_type": "code",
      "execution_count": null,
      "metadata": {
        "colab": {
          "base_uri": "https://localhost:8080/"
        },
        "id": "nbjVuBWt39ST",
        "outputId": "c2a1888a-52e5-4c9b-ee49-4a8f92d4c6fb"
      },
      "outputs": [
        {
          "name": "stdout",
          "output_type": "stream",
          "text": [
            "[0.05829243 0.13945639 0.2813315  0.16443251 0.08199899 0.08593544\n",
            " 0.08359074 0.00760661 0.0352271  0.06212829]\n"
          ]
        }
      ],
      "source": [
        "## 각 요소별 중요도 출력\n",
        "print(dt.feature_importances_)"
      ]
    },
    {
      "cell_type": "code",
      "execution_count": null,
      "metadata": {
        "id": "bR8FYKsRGbTW"
      },
      "outputs": [],
      "source": [
        "print(train_scaled)"
      ]
    },
    {
      "cell_type": "code",
      "execution_count": null,
      "metadata": {
        "colab": {
          "base_uri": "https://localhost:8080/",
          "height": 448
        },
        "id": "O4jAvQTF52ue",
        "outputId": "7b506b46-41f0-40ef-ced0-198abea069d8"
      },
      "outputs": [
        {
          "name": "stdout",
          "output_type": "stream",
          "text": [
            "seq : 0.058\n",
            "stddev : 0.139\n",
            "N_IN_Conn_P_DstIP : 0.281\n",
            "N_IN_Conn_P_SrcIP : 0.164\n",
            "min : 0.082\n",
            "state_number : 0.086\n",
            "mean : 0.084\n",
            "drate : 0.008\n",
            "srate : 0.035\n",
            "max : 0.062\n"
          ]
        },
        {
          "data": {
            "image/png": "[encoded data removed]",
            "text/plain": [
              "<Figure size 432x288 with 1 Axes>"
            ]
          },
          "metadata": {
            "needs_background": "light"
          },
          "output_type": "display_data"
        }
      ],
      "source": [
        "## 특성 중요도 시각화\n",
        "\n",
        "import seaborn as sns\n",
        "import numpy as np\n",
        "%matplotlib inline\n",
        "\n",
        "data_df = df[['seq', 'stddev', 'N_IN_Conn_P_DstIP', 'N_IN_Conn_P_SrcIP', 'min', 'state_number', 'mean', 'drate', 'srate', 'max']]\n",
        "feature_names = data_df.columns.tolist()\n",
        "\n",
        "# feature별 importance 매핑\n",
        "for name, value in zip(feature_names , dt.feature_importances_):\n",
        "    print('{} : {:.3f}'.format(name, value))\n",
        "\n",
        "# feature importance를 column 별로 시각화 하기 \n",
        "sns.barplot(x=dt.feature_importances_, y=feature_names)\n",
        "plt.savefig('feature_importances.png')"
      ]
    },
    {
      "cell_type": "markdown",
      "metadata": {
        "id": "bUXNgfAZ8n5P"
      },
      "source": [
        "가장 중요도가 높은 특성은 N_IN_Conn_P_DstIP이며, 해당 특성은 Destination IP당 인바운드 연결 수를 의미한다. 다음으로 중요도가 높았던 특성은 N_INConn_P_SrcIP로, Source IP 당 인바운드 연결 수를 의미한다."
      ]
    },
    {
      "cell_type": "markdown",
      "metadata": {
        "id": "TWmTDO83JJiW"
      },
      "source": [
        "## 하이퍼파라미터 튜닝"
      ]
    },
    {
      "cell_type": "code",
      "execution_count": 38,
      "metadata": {
        "colab": {
          "base_uri": "https://localhost:8080/"
        },
        "id": "eFR_x3e4JL_L",
        "outputId": "d2251427-76ed-495e-b951-df1a84902ce2"
      },
      "outputs": [
        {
          "data": {
            "text/plain": [
              "RandomizedSearchCV(estimator=DecisionTreeClassifier(random_state=42),\n",
              "                   param_distributions={'max_depth': <scipy.stats._distn_infrastructure.rv_frozen object at 0x7fdb45b5b0d0>,\n",
              "                                        'min_impurity_decrease': <scipy.stats._distn_infrastructure.rv_frozen object at 0x7fdb4445a850>,\n",
              "                                        'min_samples_leaf': <scipy.stats._distn_infrastructure.rv_frozen object at 0x7fdb6330bdc0>,\n",
              "                                        'min_samples_split': <scipy.stats._distn_infrastructure.rv_frozen object at 0x7fdb452b7490>},\n",
              "                   random_state=42)"
            ]
          },
          "execution_count": 38,
          "metadata": {},
          "output_type": "execute_result"
        }
      ],
      "source": [
        "from scipy.stats import uniform, randint\n",
        "from sklearn.model_selection import RandomizedSearchCV\n",
        "\n",
        "# https://injo.tistory.com/15 참고\n",
        "# min_samples_split: 노드를 분할하기 위한 최소한의 샘플 데이터 수\n",
        "# min_samples_leaf: 리프노드가 되기 위한 최소한의 샘플 데이터 수\n",
        "# max_features: 최적의 분할을 위해 고려할 최대 feature 개수\n",
        "# max_depth: 트리의 최대 깊이\n",
        "# min_impurity_decrease: 노드가 분할하는 데 필요한 불순도 변화의 최솟값\n",
        "\n",
        "params = {'min_impurity_decrease': uniform(0.0001, 0.001),\n",
        "          'max_depth': randint(1, 50),\n",
        "          'min_samples_split': randint(2, 25),\n",
        "          'min_samples_leaf': randint(1, 20),\n",
        "          }\n",
        "\n",
        "gs = RandomizedSearchCV(DecisionTreeClassifier(random_state=42), params, n_iter=10, random_state=42)\n",
        "\n",
        "gs.fit(train_input, train_target)"
      ]
    },
    {
      "cell_type": "code",
      "execution_count": 39,
      "metadata": {
        "colab": {
          "base_uri": "https://localhost:8080/"
        },
        "id": "JoISRuYiSfUn",
        "outputId": "7b853d5e-b3d0-4f34-e8d6-f5db0e1860a1"
      },
      "outputs": [
        {
          "name": "stdout",
          "output_type": "stream",
          "text": [
            "{'max_depth': 22, 'min_impurity_decrease': 0.00010706630521971741, 'min_samples_leaf': 17, 'min_samples_split': 11}\n"
          ]
        }
      ],
      "source": [
        "print(gs.best_params_)"
      ]
    },
    {
      "cell_type": "code",
      "execution_count": 42,
      "metadata": {
        "colab": {
          "base_uri": "https://localhost:8080/"
        },
        "id": "4D6x9floSkOM",
        "outputId": "47a39cb0-98bb-477a-ca4f-c07e6985df75"
      },
      "outputs": [
        {
          "name": "stdout",
          "output_type": "stream",
          "text": [
            "0.9946514552696131\n",
            "0.9945877430302369\n"
          ]
        }
      ],
      "source": [
        "dt = gs.best_estimator_\n",
        "\n",
        "print(dt.score(train_input, train_target))\n",
        "print(dt.score(test_input, test_target))"
      ]
    },
    {
      "cell_type": "markdown",
      "metadata": {
        "id": "Zt2udVKHTrW9"
      },
      "source": [
        "그리드서치로 최적의 모델 탐색 후 평가했을 때, 이미 성능이 좋았던 모델이라 큰 차이는 없었다. 그러나 훈련셋과 테스트셋의 평가 결과 값의 차이가 줄어들었고, 테스트셋 평가의 경우 정확도가 이전보다 0.003 정도 증가하였으므로 모델이 더욱 잘 만들어졌다고 볼 수 있다."
      ]
    },
    {
      "cell_type": "code",
      "execution_count": 41,
      "metadata": {
        "colab": {
          "base_uri": "https://localhost:8080/",
          "height": 448
        },
        "id": "VsZ0AGUwPW0o",
        "outputId": "2b89fce6-8843-4c74-d77c-6cb931afcad3"
      },
      "outputs": [
        {
          "name": "stdout",
          "output_type": "stream",
          "text": [
            "seq : 0.052\n",
            "stddev : 0.045\n",
            "N_IN_Conn_P_DstIP : 0.281\n",
            "N_IN_Conn_P_SrcIP : 0.166\n",
            "min : 0.012\n",
            "state_number : 0.082\n",
            "mean : 0.094\n",
            "drate : 0.007\n",
            "srate : 0.238\n",
            "max : 0.023\n"
          ]
        },
        {
          "data": {
            "image/png": "[encoded data removed]",
            "text/plain": [
              "<Figure size 432x288 with 1 Axes>"
            ]
          },
          "metadata": {
            "needs_background": "light"
          },
          "output_type": "display_data"
        }
      ],
      "source": [
        "## 특성 중요도 시각화\n",
        "\n",
        "import seaborn as sns\n",
        "import numpy as np\n",
        "%matplotlib inline\n",
        "\n",
        "data_df = df[['seq', 'stddev', 'N_IN_Conn_P_DstIP', 'N_IN_Conn_P_SrcIP', 'min', 'state_number', 'mean', 'drate', 'srate', 'max']]\n",
        "feature_names = data_df.columns.tolist()\n",
        "\n",
        "# feature별 importance 매핑\n",
        "for name, value in zip(feature_names , dt.feature_importances_):\n",
        "    print('{} : {:.3f}'.format(name, value))\n",
        "\n",
        "# feature importance를 column 별로 시각화 하기 \n",
        "sns.barplot(x=dt.feature_importances_, y=feature_names)\n",
        "plt.savefig('feature_importances_tuning.png')"
      ]
    },
    {
      "cell_type": "markdown",
      "metadata": {
        "id": "FiafjCPhV34g"
      },
      "source": [
        "하이퍼파라미터 튜닝 후, srate의 중요도가 눈에 띄게 커졌다. srate는 초당 source에서 destination으로 간 패킷의 수를 의미한다. 아무런 파라미터를 주지 않고 훈련했던 결정 트리보다는 랜덤 서치를 통해 훈련시킨 모델의 신뢰성이 더 높기 때문에, 각 공격을 분류하는데 중요했던 특성은 N_IN_Conn_P_DstIP, srate, N_IN_Conn_P_SrcIP 순이라고 판단하는 것이 더욱 합리적일 것이다. "
      ]
    },
    {
      "cell_type": "markdown",
      "metadata": {
        "id": "ZMCwSR3ejlst"
      },
      "source": [
        "## DDoS Botnet Attack Dataset으로 예측해보기"
      ]
    },
    {
      "cell_type": "code",
      "execution_count": 44,
      "metadata": {
        "colab": {
          "base_uri": "https://localhost:8080/"
        },
        "id": "JrtIspbajwv_",
        "outputId": "8de4a884-67cd-4f5b-982f-0abdb6c5cc93"
      },
      "outputs": [
        {
          "name": "stderr",
          "output_type": "stream",
          "text": [
            "/usr/local/lib/python3.8/dist-packages/IPython/core/interactiveshell.py:3326: DtypeWarning: Columns (8,10) have mixed types.Specify dtype option on import or set low_memory=False.\n",
            "  exec(code_obj, self.user_global_ns, self.user_ns)\n"
          ]
        }
      ],
      "source": [
        "# 구글 드라이브에서 csv 파일 가져오기\n",
        "\n",
        "import pandas as pd\n",
        "\n",
        "# 불러올 파일의 경로를 filename 변수에 저장\n",
        "filename = '/content/drive/MyDrive/Colab Notebooks/DDoSdata.csv'\n",
        "\n",
        "# pandas read_csv로 불러오기\n",
        "ddos = pd.read_csv(filename)"
      ]
    },
    {
      "cell_type": "code",
      "execution_count": 45,
      "metadata": {
        "colab": {
          "base_uri": "https://localhost:8080/",
          "height": 317
        },
        "id": "9SrByuALk25Z",
        "outputId": "1070654f-5d4e-4648-e98c-ea05eaa29fce"
      },
      "outputs": [
        {
          "data": {
            "text/html": [
              "\n",
              "  <div id=\"df-9dd31cd4-bd8d-480d-ac96-7d39d17b77b8\">\n",
              "    <div class=\"colab-df-container\">\n",
              "      <div>\n",
              "<style scoped>\n",
              "    .dataframe tbody tr th:only-of-type {\n",
              "        vertical-align: middle;\n",
              "    }\n",
              "\n",
              "    .dataframe tbody tr th {\n",
              "        vertical-align: top;\n",
              "    }\n",
              "\n",
              "    .dataframe thead th {\n",
              "        text-align: right;\n",
              "    }\n",
              "</style>\n",
              "<table border=\"1\" class=\"dataframe\">\n",
              "  <thead>\n",
              "    <tr style=\"text-align: right;\">\n",
              "      <th></th>\n",
              "      <th>Unnamed: 0</th>\n",
              "      <th>pkSeqID</th>\n",
              "      <th>stime</th>\n",
              "      <th>flgs</th>\n",
              "      <th>flgs_number</th>\n",
              "      <th>proto</th>\n",
              "      <th>proto_number</th>\n",
              "      <th>saddr</th>\n",
              "      <th>sport</th>\n",
              "      <th>daddr</th>\n",
              "      <th>...</th>\n",
              "      <th>AR_P_Proto_P_DstIP</th>\n",
              "      <th>N_IN_Conn_P_DstIP</th>\n",
              "      <th>N_IN_Conn_P_SrcIP</th>\n",
              "      <th>AR_P_Proto_P_Sport</th>\n",
              "      <th>AR_P_Proto_P_Dport</th>\n",
              "      <th>Pkts_P_State_P_Protocol_P_DestIP</th>\n",
              "      <th>Pkts_P_State_P_Protocol_P_SrcIP</th>\n",
              "      <th>attack</th>\n",
              "      <th>category</th>\n",
              "      <th>subcategory</th>\n",
              "    </tr>\n",
              "  </thead>\n",
              "  <tbody>\n",
              "    <tr>\n",
              "      <th>0</th>\n",
              "      <td>1650261</td>\n",
              "      <td>1650261</td>\n",
              "      <td>1.528103e+09</td>\n",
              "      <td>e</td>\n",
              "      <td>1</td>\n",
              "      <td>tcp</td>\n",
              "      <td>1</td>\n",
              "      <td>192.168.100.150</td>\n",
              "      <td>54110</td>\n",
              "      <td>192.168.100.3</td>\n",
              "      <td>...</td>\n",
              "      <td>1.21662</td>\n",
              "      <td>40</td>\n",
              "      <td>38</td>\n",
              "      <td>1.56093</td>\n",
              "      <td>1.21662</td>\n",
              "      <td>328</td>\n",
              "      <td>308</td>\n",
              "      <td>1</td>\n",
              "      <td>DDoS</td>\n",
              "      <td>HTTP</td>\n",
              "    </tr>\n",
              "    <tr>\n",
              "      <th>1</th>\n",
              "      <td>1650262</td>\n",
              "      <td>1650262</td>\n",
              "      <td>1.528103e+09</td>\n",
              "      <td>e</td>\n",
              "      <td>1</td>\n",
              "      <td>tcp</td>\n",
              "      <td>1</td>\n",
              "      <td>192.168.100.150</td>\n",
              "      <td>54112</td>\n",
              "      <td>192.168.100.3</td>\n",
              "      <td>...</td>\n",
              "      <td>1.21662</td>\n",
              "      <td>40</td>\n",
              "      <td>38</td>\n",
              "      <td>1.56107</td>\n",
              "      <td>1.21662</td>\n",
              "      <td>328</td>\n",
              "      <td>308</td>\n",
              "      <td>1</td>\n",
              "      <td>DDoS</td>\n",
              "      <td>HTTP</td>\n",
              "    </tr>\n",
              "    <tr>\n",
              "      <th>2</th>\n",
              "      <td>1650263</td>\n",
              "      <td>1650263</td>\n",
              "      <td>1.528103e+09</td>\n",
              "      <td>e</td>\n",
              "      <td>1</td>\n",
              "      <td>tcp</td>\n",
              "      <td>1</td>\n",
              "      <td>192.168.100.150</td>\n",
              "      <td>54114</td>\n",
              "      <td>192.168.100.3</td>\n",
              "      <td>...</td>\n",
              "      <td>1.21662</td>\n",
              "      <td>40</td>\n",
              "      <td>38</td>\n",
              "      <td>1.24980</td>\n",
              "      <td>1.21662</td>\n",
              "      <td>328</td>\n",
              "      <td>308</td>\n",
              "      <td>1</td>\n",
              "      <td>DDoS</td>\n",
              "      <td>HTTP</td>\n",
              "    </tr>\n",
              "    <tr>\n",
              "      <th>3</th>\n",
              "      <td>1650264</td>\n",
              "      <td>1650264</td>\n",
              "      <td>1.528103e+09</td>\n",
              "      <td>e</td>\n",
              "      <td>1</td>\n",
              "      <td>tcp</td>\n",
              "      <td>1</td>\n",
              "      <td>192.168.100.150</td>\n",
              "      <td>54116</td>\n",
              "      <td>192.168.100.3</td>\n",
              "      <td>...</td>\n",
              "      <td>1.21662</td>\n",
              "      <td>40</td>\n",
              "      <td>38</td>\n",
              "      <td>1.24986</td>\n",
              "      <td>1.21662</td>\n",
              "      <td>328</td>\n",
              "      <td>308</td>\n",
              "      <td>1</td>\n",
              "      <td>DDoS</td>\n",
              "      <td>HTTP</td>\n",
              "    </tr>\n",
              "    <tr>\n",
              "      <th>4</th>\n",
              "      <td>1650265</td>\n",
              "      <td>1650265</td>\n",
              "      <td>1.528103e+09</td>\n",
              "      <td>e</td>\n",
              "      <td>1</td>\n",
              "      <td>tcp</td>\n",
              "      <td>1</td>\n",
              "      <td>192.168.100.150</td>\n",
              "      <td>54118</td>\n",
              "      <td>192.168.100.3</td>\n",
              "      <td>...</td>\n",
              "      <td>1.21662</td>\n",
              "      <td>40</td>\n",
              "      <td>38</td>\n",
              "      <td>1.24991</td>\n",
              "      <td>1.21662</td>\n",
              "      <td>328</td>\n",
              "      <td>308</td>\n",
              "      <td>1</td>\n",
              "      <td>DDoS</td>\n",
              "      <td>HTTP</td>\n",
              "    </tr>\n",
              "  </tbody>\n",
              "</table>\n",
              "<p>5 rows × 47 columns</p>\n",
              "</div>\n",
              "      <button class=\"colab-df-convert\" onclick=\"convertToInteractive('df-9dd31cd4-bd8d-480d-ac96-7d39d17b77b8')\"\n",
              "              title=\"Convert this dataframe to an interactive table.\"\n",
              "              style=\"display:none;\">\n",
              "        \n",
              "  <svg xmlns=\"http://www.w3.org/2000/svg\" height=\"24px\"viewBox=\"0 0 24 24\"\n",
              "       width=\"24px\">\n",
              "    <path d=\"M0 0h24v24H0V0z\" fill=\"none\"/>\n",
              "    <path d=\"M18.56 5.44l.94 2.06.94-2.06 2.06-.94-2.06-.94-.94-2.06-.94 2.06-2.06.94zm-11 1L8.5 8.5l.94-2.06 2.06-.94-2.06-.94L8.5 2.5l-.94 2.06-2.06.94zm10 10l.94 2.06.94-2.06 2.06-.94-2.06-.94-.94-2.06-.94 2.06-2.06.94z\"/><path d=\"M17.41 7.96l-1.37-1.37c-.4-.4-.92-.59-1.43-.59-.52 0-1.04.2-1.43.59L10.3 9.45l-7.72 7.72c-.78.78-.78 2.05 0 2.83L4 21.41c.39.39.9.59 1.41.59.51 0 1.02-.2 1.41-.59l7.78-7.78 2.81-2.81c.8-.78.8-2.07 0-2.86zM5.41 20L4 18.59l7.72-7.72 1.47 1.35L5.41 20z\"/>\n",
              "  </svg>\n",
              "      </button>\n",
              "      \n",
              "  <style>\n",
              "    .colab-df-container {\n",
              "      display:flex;\n",
              "      flex-wrap:wrap;\n",
              "      gap: 12px;\n",
              "    }\n",
              "\n",
              "    .colab-df-convert {\n",
              "      background-color: #E8F0FE;\n",
              "      border: none;\n",
              "      border-radius: 50%;\n",
              "      cursor: pointer;\n",
              "      display: none;\n",
              "      fill: #1967D2;\n",
              "      height: 32px;\n",
              "      padding: 0 0 0 0;\n",
              "      width: 32px;\n",
              "    }\n",
              "\n",
              "    .colab-df-convert:hover {\n",
              "      background-color: #E2EBFA;\n",
              "      box-shadow: 0px 1px 2px rgba(60, 64, 67, 0.3), 0px 1px 3px 1px rgba(60, 64, 67, 0.15);\n",
              "      fill: #174EA6;\n",
              "    }\n",
              "\n",
              "    [theme=dark] .colab-df-convert {\n",
              "      background-color: #3B4455;\n",
              "      fill: #D2E3FC;\n",
              "    }\n",
              "\n",
              "    [theme=dark] .colab-df-convert:hover {\n",
              "      background-color: #434B5C;\n",
              "      box-shadow: 0px 1px 3px 1px rgba(0, 0, 0, 0.15);\n",
              "      filter: drop-shadow(0px 1px 2px rgba(0, 0, 0, 0.3));\n",
              "      fill: #FFFFFF;\n",
              "    }\n",
              "  </style>\n",
              "\n",
              "      <script>\n",
              "        const buttonEl =\n",
              "          document.querySelector('#df-9dd31cd4-bd8d-480d-ac96-7d39d17b77b8 button.colab-df-convert');\n",
              "        buttonEl.style.display =\n",
              "          google.colab.kernel.accessAllowed ? 'block' : 'none';\n",
              "\n",
              "        async function convertToInteractive(key) {\n",
              "          const element = document.querySelector('#df-9dd31cd4-bd8d-480d-ac96-7d39d17b77b8');\n",
              "          const dataTable =\n",
              "            await google.colab.kernel.invokeFunction('convertToInteractive',\n",
              "                                                     [key], {});\n",
              "          if (!dataTable) return;\n",
              "\n",
              "          const docLinkHtml = 'Like what you see? Visit the ' +\n",
              "            '<a target=\"_blank\" href=https://colab.research.google.com/notebooks/data_table.ipynb>data table notebook</a>'\n",
              "            + ' to learn more about interactive tables.';\n",
              "          element.innerHTML = '';\n",
              "          dataTable['output_type'] = 'display_data';\n",
              "          await google.colab.output.renderOutput(dataTable, element);\n",
              "          const docLink = document.createElement('div');\n",
              "          docLink.innerHTML = docLinkHtml;\n",
              "          element.appendChild(docLink);\n",
              "        }\n",
              "      </script>\n",
              "    </div>\n",
              "  </div>\n",
              "  "
            ],
            "text/plain": [
              "   Unnamed: 0  pkSeqID         stime flgs  flgs_number proto  proto_number  \\\n",
              "0     1650261  1650261  1.528103e+09    e            1   tcp             1   \n",
              "1     1650262  1650262  1.528103e+09    e            1   tcp             1   \n",
              "2     1650263  1650263  1.528103e+09    e            1   tcp             1   \n",
              "3     1650264  1650264  1.528103e+09    e            1   tcp             1   \n",
              "4     1650265  1650265  1.528103e+09    e            1   tcp             1   \n",
              "\n",
              "             saddr  sport          daddr  ... AR_P_Proto_P_DstIP  \\\n",
              "0  192.168.100.150  54110  192.168.100.3  ...            1.21662   \n",
              "1  192.168.100.150  54112  192.168.100.3  ...            1.21662   \n",
              "2  192.168.100.150  54114  192.168.100.3  ...            1.21662   \n",
              "3  192.168.100.150  54116  192.168.100.3  ...            1.21662   \n",
              "4  192.168.100.150  54118  192.168.100.3  ...            1.21662   \n",
              "\n",
              "   N_IN_Conn_P_DstIP  N_IN_Conn_P_SrcIP AR_P_Proto_P_Sport  \\\n",
              "0                 40                 38            1.56093   \n",
              "1                 40                 38            1.56107   \n",
              "2                 40                 38            1.24980   \n",
              "3                 40                 38            1.24986   \n",
              "4                 40                 38            1.24991   \n",
              "\n",
              "   AR_P_Proto_P_Dport  Pkts_P_State_P_Protocol_P_DestIP  \\\n",
              "0             1.21662                               328   \n",
              "1             1.21662                               328   \n",
              "2             1.21662                               328   \n",
              "3             1.21662                               328   \n",
              "4             1.21662                               328   \n",
              "\n",
              "   Pkts_P_State_P_Protocol_P_SrcIP  attack  category  subcategory  \n",
              "0                              308       1      DDoS         HTTP  \n",
              "1                              308       1      DDoS         HTTP  \n",
              "2                              308       1      DDoS         HTTP  \n",
              "3                              308       1      DDoS         HTTP  \n",
              "4                              308       1      DDoS         HTTP  \n",
              "\n",
              "[5 rows x 47 columns]"
            ]
          },
          "execution_count": 45,
          "metadata": {},
          "output_type": "execute_result"
        }
      ],
      "source": [
        "ddos.head()"
      ]
    },
    {
      "cell_type": "code",
      "execution_count": 46,
      "metadata": {
        "colab": {
          "base_uri": "https://localhost:8080/"
        },
        "id": "f2oBuMB_kfK_",
        "outputId": "39c21348-5b21-4221-b623-6125798e8ebd"
      },
      "outputs": [
        {
          "name": "stdout",
          "output_type": "stream",
          "text": [
            "<class 'pandas.core.frame.DataFrame'>\n",
            "RangeIndex: 1927101 entries, 0 to 1927100\n",
            "Data columns (total 47 columns):\n",
            " #   Column                            Dtype  \n",
            "---  ------                            -----  \n",
            " 0   Unnamed: 0                        int64  \n",
            " 1   pkSeqID                           int64  \n",
            " 2   stime                             float64\n",
            " 3   flgs                              object \n",
            " 4   flgs_number                       int64  \n",
            " 5   proto                             object \n",
            " 6   proto_number                      int64  \n",
            " 7   saddr                             object \n",
            " 8   sport                             object \n",
            " 9   daddr                             object \n",
            " 10  dport                             object \n",
            " 11  pkts                              int64  \n",
            " 12  bytes                             int64  \n",
            " 13  state                             object \n",
            " 14  state_number                      int64  \n",
            " 15  ltime                             float64\n",
            " 16  seq                               int64  \n",
            " 17  dur                               float64\n",
            " 18  mean                              float64\n",
            " 19  stddev                            float64\n",
            " 20  sum                               float64\n",
            " 21  min                               float64\n",
            " 22  max                               float64\n",
            " 23  spkts                             int64  \n",
            " 24  dpkts                             int64  \n",
            " 25  sbytes                            int64  \n",
            " 26  dbytes                            int64  \n",
            " 27  rate                              float64\n",
            " 28  srate                             float64\n",
            " 29  drate                             float64\n",
            " 30  TnBPSrcIP                         int64  \n",
            " 31  TnBPDstIP                         int64  \n",
            " 32  TnP_PSrcIP                        int64  \n",
            " 33  TnP_PDstIP                        int64  \n",
            " 34  TnP_PerProto                      int64  \n",
            " 35  TnP_Per_Dport                     int64  \n",
            " 36  AR_P_Proto_P_SrcIP                float64\n",
            " 37  AR_P_Proto_P_DstIP                float64\n",
            " 38  N_IN_Conn_P_DstIP                 int64  \n",
            " 39  N_IN_Conn_P_SrcIP                 int64  \n",
            " 40  AR_P_Proto_P_Sport                float64\n",
            " 41  AR_P_Proto_P_Dport                float64\n",
            " 42  Pkts_P_State_P_Protocol_P_DestIP  int64  \n",
            " 43  Pkts_P_State_P_Protocol_P_SrcIP   int64  \n",
            " 44  attack                            int64  \n",
            " 45  category                          object \n",
            " 46  subcategory                       object \n",
            "dtypes: float64(15), int64(23), object(9)\n",
            "memory usage: 691.0+ MB\n"
          ]
        }
      ],
      "source": [
        "ddos.info()"
      ]
    },
    {
      "cell_type": "code",
      "execution_count": 47,
      "metadata": {
        "colab": {
          "base_uri": "https://localhost:8080/"
        },
        "id": "p_PdR0hgPs3x",
        "outputId": "c0d8add3-d9fd-4946-e0f7-1554228df78a"
      },
      "outputs": [
        {
          "data": {
            "text/plain": [
              "array(['DDoS', 'Normal'], dtype=object)"
            ]
          },
          "execution_count": 47,
          "metadata": {},
          "output_type": "execute_result"
        }
      ],
      "source": [
        "## 타겟 종류 확인\n",
        "ddos['category'].unique()"
      ]
    },
    {
      "cell_type": "markdown",
      "metadata": {
        "id": "ZnFc6383YjsG"
      },
      "source": [
        "ddos에는 DDoS, Normal 트래픽만 포함되어 있다."
      ]
    },
    {
      "cell_type": "code",
      "execution_count": 48,
      "metadata": {
        "id": "XsuzS3DHk2JN"
      },
      "outputs": [],
      "source": [
        "## 속성과 클래스 분리\n",
        "\n",
        "import numpy as np\n",
        "\n",
        "ddos_data = ddos[['seq', 'stddev', 'N_IN_Conn_P_DstIP', 'N_IN_Conn_P_SrcIP', 'min', 'state_number', 'mean', 'drate', 'srate', 'max']].to_numpy()  # 특성 논문 참고하여 임의로 선택, 후에 이유 덧붙여서 얘기하기\n",
        "ddos_target = ddos['category'].to_numpy()  # category: 공격의 종류"
      ]
    },
    {
      "cell_type": "code",
      "execution_count": 49,
      "metadata": {
        "colab": {
          "base_uri": "https://localhost:8080/"
        },
        "id": "HCgf0MA8L2V6",
        "outputId": "802ef830-38a2-4850-ec8d-3c9502861a07"
      },
      "outputs": [
        {
          "data": {
            "text/plain": [
              "array([[2.000000e+01, 5.441260e-01, 4.000000e+01, ..., 4.682800e-01,\n",
              "        7.804670e-01, 1.223599e+00],\n",
              "       [2.100000e+01, 5.441970e-01, 4.000000e+01, ..., 4.683220e-01,\n",
              "        7.805360e-01, 1.223769e+00],\n",
              "       [2.200000e+01, 1.110847e+00, 4.000000e+01, ..., 9.002140e-01,\n",
              "        6.248990e-01, 2.221694e+00],\n",
              "       ...,\n",
              "       [3.815000e+03, 0.000000e+00, 1.000000e+00, ..., 0.000000e+00,\n",
              "        0.000000e+00, 2.778960e-01],\n",
              "       [3.816000e+03, 0.000000e+00, 2.000000e+00, ..., 0.000000e+00,\n",
              "        0.000000e+00, 2.807420e-01],\n",
              "       [3.817000e+03, 0.000000e+00, 2.000000e+00, ..., 0.000000e+00,\n",
              "        0.000000e+00, 2.805130e-01]])"
            ]
          },
          "execution_count": 49,
          "metadata": {},
          "output_type": "execute_result"
        }
      ],
      "source": [
        "ddos_data"
      ]
    },
    {
      "cell_type": "code",
      "execution_count": 50,
      "metadata": {
        "colab": {
          "base_uri": "https://localhost:8080/"
        },
        "id": "X93V1OtVMMrR",
        "outputId": "c9a163cd-59f3-4705-b949-38f31ff91c56"
      },
      "outputs": [
        {
          "data": {
            "text/plain": [
              "(1927101, 10)"
            ]
          },
          "execution_count": 50,
          "metadata": {},
          "output_type": "execute_result"
        }
      ],
      "source": [
        "ddos_data.shape"
      ]
    },
    {
      "cell_type": "code",
      "execution_count": 51,
      "metadata": {
        "colab": {
          "base_uri": "https://localhost:8080/"
        },
        "id": "Q-5uZ7RiMFpQ",
        "outputId": "121c28b0-63b7-49e3-c9e8-9ecacc268235"
      },
      "outputs": [
        {
          "data": {
            "text/plain": [
              "array(['DDoS', 'DDoS', 'DDoS', ..., 'Normal', 'Normal', 'Normal'],\n",
              "      dtype=object)"
            ]
          },
          "execution_count": 51,
          "metadata": {},
          "output_type": "execute_result"
        }
      ],
      "source": [
        "ddos_target"
      ]
    },
    {
      "cell_type": "code",
      "execution_count": 52,
      "metadata": {
        "colab": {
          "base_uri": "https://localhost:8080/"
        },
        "id": "R9rW3cc9m4SF",
        "outputId": "86bcf873-534b-49f5-bd7c-1c2c964bc874"
      },
      "outputs": [
        {
          "name": "stdout",
          "output_type": "stream",
          "text": [
            "0.9927279369373998\n"
          ]
        }
      ],
      "source": [
        "print(dt.score(ddos_data, ddos_target))"
      ]
    },
    {
      "cell_type": "markdown",
      "metadata": {
        "id": "KgXbdNSAMPpx"
      },
      "source": [
        "훈련한 결정 트리 모델에 DDoS, Normal 트래픽만 넣어서 테스트해보았다. 0.99 정도로 높은 정확도가 나온 것을 보아 모델의 학습이 잘 이루어졌다고 판단할 수 있다. 이 모델을 활용하면 추후 DDoS 트래픽의 탐지가 가능할 것이다."
      ]
    }
  ],
  "metadata": {
    "colab": {
      "collapsed_sections": [
        "1S8vU225pRlB",
        "21fCtvL7MFqn"
      ],
      "provenance": []
    },
    "gpuClass": "standard",
    "kernelspec": {
      "display_name": "Python 3",
      "language": "python",
      "name": "python3"
    },
    "language_info": {
      "name": "python",
      "version": "3.11.0 (main, Oct 24 2022, 18:26:48) [MSC v.1933 64 bit (AMD64)]"
    },
    "vscode": {
      "interpreter": {
        "hash": "c261aea317cc0286b3b3261fbba9abdec21eaa57589985bb7a274bf54d6cc0a7"
      }
    }
  },
  "nbformat": 4,
  "nbformat_minor": 0
}
