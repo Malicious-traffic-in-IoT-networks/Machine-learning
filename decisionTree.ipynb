{
  "cells": [
    {
      "cell_type": "markdown",
      "metadata": {
        "id": "eaXM8Jccdrvt"
      },
      "source": [
        "## BoT-IoT 데이터 로드\n",
        "\n"
      ]
    },
    {
      "cell_type": "code",
      "execution_count": null,
      "metadata": {
        "colab": {
          "base_uri": "https://localhost:8080/"
        },
        "id": "zijzyrTWic79",
        "outputId": "a26e9e58-30d0-4e23-c742-038507a3b67f"
      },
      "outputs": [
        {
          "output_type": "stream",
          "name": "stdout",
          "text": [
            "Drive already mounted at /content/drive; to attempt to forcibly remount, call drive.mount(\"/content/drive\", force_remount=True).\n"
          ]
        }
      ],
      "source": [
        "# 구글 드라이브 마운트(접근 허용)\n",
        "\n",
        "from google.colab import drive\n",
        "drive.mount('/content/drive')"
      ]
    },
    {
      "cell_type": "code",
      "execution_count": null,
      "metadata": {
        "id": "TAQVbc0wpYtV"
      },
      "outputs": [],
      "source": [
        "# 구글 드라이브에서 csv 파일 가져오기\n",
        "\n",
        "import pandas as pd\n",
        "\n",
        "# 불러올 파일의 경로를 filename 변수에 저장\n",
        "filename = '/content/drive/MyDrive/Colab Notebooks/UNSW_2018_IoT_Botnet_Final_10_best_Training.csv'\n",
        "\n",
        "# pandas read_csv로 불러오기\n",
        "df = pd.read_csv(filename)"
      ]
    },
    {
      "cell_type": "code",
      "execution_count": null,
      "metadata": {
        "id": "u-m9b3bHMrlP"
      },
      "outputs": [],
      "source": [
        "## 컬럼이 최대 20개까지만 보여서 제한 50으로 변경\n",
        "from google.colab.data_table import DataTable\n",
        "DataTable.max_columns = 50"
      ]
    },
    {
      "cell_type": "code",
      "execution_count": null,
      "metadata": {
        "colab": {
          "base_uri": "https://localhost:8080/",
          "height": 270
        },
        "id": "-ZgFjUcsIExY",
        "outputId": "07707876-fb1b-4cf5-c939-612541cd84ae"
      },
      "outputs": [
        {
          "output_type": "execute_result",
          "data": {
            "text/plain": [
              "   pkSeqID proto            saddr  sport          daddr dport     seq  \\\n",
              "0  3142762   udp  192.168.100.150   6551  192.168.100.3    80  251984   \n",
              "1  2432264   tcp  192.168.100.150   5532  192.168.100.3    80  256724   \n",
              "2  1976315   tcp  192.168.100.147  27165  192.168.100.3    80   62921   \n",
              "3  1240757   udp  192.168.100.150  48719  192.168.100.3    80   99168   \n",
              "4  3257991   udp  192.168.100.147  22461  192.168.100.3    80  105063   \n",
              "\n",
              "     stddev  N_IN_Conn_P_SrcIP       min  state_number      mean  \\\n",
              "0  1.900363                100  0.000000             4  2.687519   \n",
              "1  0.078003                 38  3.856930             3  3.934927   \n",
              "2  0.268666                100  2.974100             3  3.341429   \n",
              "3  1.823185                 63  0.000000             4  3.222832   \n",
              "4  0.822418                100  2.979995             4  3.983222   \n",
              "\n",
              "   N_IN_Conn_P_DstIP  drate     srate       max  attack category subcategory  \n",
              "0                100    0.0  0.494549  4.031619       1     DDoS         UDP  \n",
              "1                100    0.0  0.256493  4.012924       1     DDoS         TCP  \n",
              "2                100    0.0  0.294880  3.609205       1     DDoS         TCP  \n",
              "3                 63    0.0  0.461435  4.942302       1      DoS         UDP  \n",
              "4                100    0.0  1.002999  4.994452       1     DDoS         UDP  "
            ],
            "text/html": [
              "\n",
              "  <div id=\"df-c2e7c3fd-4205-44c9-b039-bced96035a5c\">\n",
              "    <div class=\"colab-df-container\">\n",
              "      <div>\n",
              "<style scoped>\n",
              "    .dataframe tbody tr th:only-of-type {\n",
              "        vertical-align: middle;\n",
              "    }\n",
              "\n",
              "    .dataframe tbody tr th {\n",
              "        vertical-align: top;\n",
              "    }\n",
              "\n",
              "    .dataframe thead th {\n",
              "        text-align: right;\n",
              "    }\n",
              "</style>\n",
              "<table border=\"1\" class=\"dataframe\">\n",
              "  <thead>\n",
              "    <tr style=\"text-align: right;\">\n",
              "      <th></th>\n",
              "      <th>pkSeqID</th>\n",
              "      <th>proto</th>\n",
              "      <th>saddr</th>\n",
              "      <th>sport</th>\n",
              "      <th>daddr</th>\n",
              "      <th>dport</th>\n",
              "      <th>seq</th>\n",
              "      <th>stddev</th>\n",
              "      <th>N_IN_Conn_P_SrcIP</th>\n",
              "      <th>min</th>\n",
              "      <th>state_number</th>\n",
              "      <th>mean</th>\n",
              "      <th>N_IN_Conn_P_DstIP</th>\n",
              "      <th>drate</th>\n",
              "      <th>srate</th>\n",
              "      <th>max</th>\n",
              "      <th>attack</th>\n",
              "      <th>category</th>\n",
              "      <th>subcategory</th>\n",
              "    </tr>\n",
              "  </thead>\n",
              "  <tbody>\n",
              "    <tr>\n",
              "      <th>0</th>\n",
              "      <td>3142762</td>\n",
              "      <td>udp</td>\n",
              "      <td>192.168.100.150</td>\n",
              "      <td>6551</td>\n",
              "      <td>192.168.100.3</td>\n",
              "      <td>80</td>\n",
              "      <td>251984</td>\n",
              "      <td>1.900363</td>\n",
              "      <td>100</td>\n",
              "      <td>0.000000</td>\n",
              "      <td>4</td>\n",
              "      <td>2.687519</td>\n",
              "      <td>100</td>\n",
              "      <td>0.0</td>\n",
              "      <td>0.494549</td>\n",
              "      <td>4.031619</td>\n",
              "      <td>1</td>\n",
              "      <td>DDoS</td>\n",
              "      <td>UDP</td>\n",
              "    </tr>\n",
              "    <tr>\n",
              "      <th>1</th>\n",
              "      <td>2432264</td>\n",
              "      <td>tcp</td>\n",
              "      <td>192.168.100.150</td>\n",
              "      <td>5532</td>\n",
              "      <td>192.168.100.3</td>\n",
              "      <td>80</td>\n",
              "      <td>256724</td>\n",
              "      <td>0.078003</td>\n",
              "      <td>38</td>\n",
              "      <td>3.856930</td>\n",
              "      <td>3</td>\n",
              "      <td>3.934927</td>\n",
              "      <td>100</td>\n",
              "      <td>0.0</td>\n",
              "      <td>0.256493</td>\n",
              "      <td>4.012924</td>\n",
              "      <td>1</td>\n",
              "      <td>DDoS</td>\n",
              "      <td>TCP</td>\n",
              "    </tr>\n",
              "    <tr>\n",
              "      <th>2</th>\n",
              "      <td>1976315</td>\n",
              "      <td>tcp</td>\n",
              "      <td>192.168.100.147</td>\n",
              "      <td>27165</td>\n",
              "      <td>192.168.100.3</td>\n",
              "      <td>80</td>\n",
              "      <td>62921</td>\n",
              "      <td>0.268666</td>\n",
              "      <td>100</td>\n",
              "      <td>2.974100</td>\n",
              "      <td>3</td>\n",
              "      <td>3.341429</td>\n",
              "      <td>100</td>\n",
              "      <td>0.0</td>\n",
              "      <td>0.294880</td>\n",
              "      <td>3.609205</td>\n",
              "      <td>1</td>\n",
              "      <td>DDoS</td>\n",
              "      <td>TCP</td>\n",
              "    </tr>\n",
              "    <tr>\n",
              "      <th>3</th>\n",
              "      <td>1240757</td>\n",
              "      <td>udp</td>\n",
              "      <td>192.168.100.150</td>\n",
              "      <td>48719</td>\n",
              "      <td>192.168.100.3</td>\n",
              "      <td>80</td>\n",
              "      <td>99168</td>\n",
              "      <td>1.823185</td>\n",
              "      <td>63</td>\n",
              "      <td>0.000000</td>\n",
              "      <td>4</td>\n",
              "      <td>3.222832</td>\n",
              "      <td>63</td>\n",
              "      <td>0.0</td>\n",
              "      <td>0.461435</td>\n",
              "      <td>4.942302</td>\n",
              "      <td>1</td>\n",
              "      <td>DoS</td>\n",
              "      <td>UDP</td>\n",
              "    </tr>\n",
              "    <tr>\n",
              "      <th>4</th>\n",
              "      <td>3257991</td>\n",
              "      <td>udp</td>\n",
              "      <td>192.168.100.147</td>\n",
              "      <td>22461</td>\n",
              "      <td>192.168.100.3</td>\n",
              "      <td>80</td>\n",
              "      <td>105063</td>\n",
              "      <td>0.822418</td>\n",
              "      <td>100</td>\n",
              "      <td>2.979995</td>\n",
              "      <td>4</td>\n",
              "      <td>3.983222</td>\n",
              "      <td>100</td>\n",
              "      <td>0.0</td>\n",
              "      <td>1.002999</td>\n",
              "      <td>4.994452</td>\n",
              "      <td>1</td>\n",
              "      <td>DDoS</td>\n",
              "      <td>UDP</td>\n",
              "    </tr>\n",
              "  </tbody>\n",
              "</table>\n",
              "</div>\n",
              "      <button class=\"colab-df-convert\" onclick=\"convertToInteractive('df-c2e7c3fd-4205-44c9-b039-bced96035a5c')\"\n",
              "              title=\"Convert this dataframe to an interactive table.\"\n",
              "              style=\"display:none;\">\n",
              "        \n",
              "  <svg xmlns=\"http://www.w3.org/2000/svg\" height=\"24px\"viewBox=\"0 0 24 24\"\n",
              "       width=\"24px\">\n",
              "    <path d=\"M0 0h24v24H0V0z\" fill=\"none\"/>\n",
              "    <path d=\"M18.56 5.44l.94 2.06.94-2.06 2.06-.94-2.06-.94-.94-2.06-.94 2.06-2.06.94zm-11 1L8.5 8.5l.94-2.06 2.06-.94-2.06-.94L8.5 2.5l-.94 2.06-2.06.94zm10 10l.94 2.06.94-2.06 2.06-.94-2.06-.94-.94-2.06-.94 2.06-2.06.94z\"/><path d=\"M17.41 7.96l-1.37-1.37c-.4-.4-.92-.59-1.43-.59-.52 0-1.04.2-1.43.59L10.3 9.45l-7.72 7.72c-.78.78-.78 2.05 0 2.83L4 21.41c.39.39.9.59 1.41.59.51 0 1.02-.2 1.41-.59l7.78-7.78 2.81-2.81c.8-.78.8-2.07 0-2.86zM5.41 20L4 18.59l7.72-7.72 1.47 1.35L5.41 20z\"/>\n",
              "  </svg>\n",
              "      </button>\n",
              "      \n",
              "  <style>\n",
              "    .colab-df-container {\n",
              "      display:flex;\n",
              "      flex-wrap:wrap;\n",
              "      gap: 12px;\n",
              "    }\n",
              "\n",
              "    .colab-df-convert {\n",
              "      background-color: #E8F0FE;\n",
              "      border: none;\n",
              "      border-radius: 50%;\n",
              "      cursor: pointer;\n",
              "      display: none;\n",
              "      fill: #1967D2;\n",
              "      height: 32px;\n",
              "      padding: 0 0 0 0;\n",
              "      width: 32px;\n",
              "    }\n",
              "\n",
              "    .colab-df-convert:hover {\n",
              "      background-color: #E2EBFA;\n",
              "      box-shadow: 0px 1px 2px rgba(60, 64, 67, 0.3), 0px 1px 3px 1px rgba(60, 64, 67, 0.15);\n",
              "      fill: #174EA6;\n",
              "    }\n",
              "\n",
              "    [theme=dark] .colab-df-convert {\n",
              "      background-color: #3B4455;\n",
              "      fill: #D2E3FC;\n",
              "    }\n",
              "\n",
              "    [theme=dark] .colab-df-convert:hover {\n",
              "      background-color: #434B5C;\n",
              "      box-shadow: 0px 1px 3px 1px rgba(0, 0, 0, 0.15);\n",
              "      filter: drop-shadow(0px 1px 2px rgba(0, 0, 0, 0.3));\n",
              "      fill: #FFFFFF;\n",
              "    }\n",
              "  </style>\n",
              "\n",
              "      <script>\n",
              "        const buttonEl =\n",
              "          document.querySelector('#df-c2e7c3fd-4205-44c9-b039-bced96035a5c button.colab-df-convert');\n",
              "        buttonEl.style.display =\n",
              "          google.colab.kernel.accessAllowed ? 'block' : 'none';\n",
              "\n",
              "        async function convertToInteractive(key) {\n",
              "          const element = document.querySelector('#df-c2e7c3fd-4205-44c9-b039-bced96035a5c');\n",
              "          const dataTable =\n",
              "            await google.colab.kernel.invokeFunction('convertToInteractive',\n",
              "                                                     [key], {});\n",
              "          if (!dataTable) return;\n",
              "\n",
              "          const docLinkHtml = 'Like what you see? Visit the ' +\n",
              "            '<a target=\"_blank\" href=https://colab.research.google.com/notebooks/data_table.ipynb>data table notebook</a>'\n",
              "            + ' to learn more about interactive tables.';\n",
              "          element.innerHTML = '';\n",
              "          dataTable['output_type'] = 'display_data';\n",
              "          await google.colab.output.renderOutput(dataTable, element);\n",
              "          const docLink = document.createElement('div');\n",
              "          docLink.innerHTML = docLinkHtml;\n",
              "          element.appendChild(docLink);\n",
              "        }\n",
              "      </script>\n",
              "    </div>\n",
              "  </div>\n",
              "  "
            ]
          },
          "metadata": {},
          "execution_count": 4
        }
      ],
      "source": [
        "# 데이터 형식\n",
        "df.head()"
      ]
    },
    {
      "cell_type": "code",
      "source": [
        "## 각 컬럼별 데이터 수, 데이터 타입 확인 - 특성 자체도 아예 줄어들어있네요?\n",
        "df.info()"
      ],
      "metadata": {
        "colab": {
          "base_uri": "https://localhost:8080/"
        },
        "id": "Ryv3g1zI09j6",
        "outputId": "bd1d181e-c12f-4e52-8832-7ce4d7e8bd61"
      },
      "execution_count": null,
      "outputs": [
        {
          "output_type": "stream",
          "name": "stdout",
          "text": [
            "<class 'pandas.core.frame.DataFrame'>\n",
            "RangeIndex: 2934817 entries, 0 to 2934816\n",
            "Data columns (total 19 columns):\n",
            " #   Column             Dtype  \n",
            "---  ------             -----  \n",
            " 0   pkSeqID            int64  \n",
            " 1   proto              object \n",
            " 2   saddr              object \n",
            " 3   sport              object \n",
            " 4   daddr              object \n",
            " 5   dport              object \n",
            " 6   seq                int64  \n",
            " 7   stddev             float64\n",
            " 8   N_IN_Conn_P_SrcIP  int64  \n",
            " 9   min                float64\n",
            " 10  state_number       int64  \n",
            " 11  mean               float64\n",
            " 12  N_IN_Conn_P_DstIP  int64  \n",
            " 13  drate              float64\n",
            " 14  srate              float64\n",
            " 15  max                float64\n",
            " 16  attack             int64  \n",
            " 17  category           object \n",
            " 18  subcategory        object \n",
            "dtypes: float64(6), int64(6), object(7)\n",
            "memory usage: 425.4+ MB\n"
          ]
        }
      ]
    },
    {
      "cell_type": "code",
      "source": [
        "## 결측치 존재 여부 확인 - 존재 X\n",
        "df.isnull().sum()"
      ],
      "metadata": {
        "colab": {
          "base_uri": "https://localhost:8080/"
        },
        "id": "RVBsv-Jo453U",
        "outputId": "1f3ee7cc-a3f7-4a6b-deb8-d1d4089e1b05"
      },
      "execution_count": null,
      "outputs": [
        {
          "output_type": "execute_result",
          "data": {
            "text/plain": [
              "pkSeqID              0\n",
              "proto                0\n",
              "saddr                0\n",
              "sport                0\n",
              "daddr                0\n",
              "dport                0\n",
              "seq                  0\n",
              "stddev               0\n",
              "N_IN_Conn_P_SrcIP    0\n",
              "min                  0\n",
              "state_number         0\n",
              "mean                 0\n",
              "N_IN_Conn_P_DstIP    0\n",
              "drate                0\n",
              "srate                0\n",
              "max                  0\n",
              "attack               0\n",
              "category             0\n",
              "subcategory          0\n",
              "dtype: int64"
            ]
          },
          "metadata": {},
          "execution_count": 6
        }
      ]
    },
    {
      "cell_type": "code",
      "source": [
        "## 수치형 변수 분포 확인\n",
        "df.describe()"
      ],
      "metadata": {
        "colab": {
          "base_uri": "https://localhost:8080/",
          "height": 364
        },
        "id": "o-t5E_fQ1I-9",
        "outputId": "231eb242-8401-4e7c-b625-8b7ee634a01c"
      },
      "execution_count": null,
      "outputs": [
        {
          "output_type": "execute_result",
          "data": {
            "text/plain": [
              "            pkSeqID           seq        stddev  N_IN_Conn_P_SrcIP  \\\n",
              "count  2.934817e+06  2.934817e+06  2.934817e+06       2.934817e+06   \n",
              "mean   1.834209e+06  1.212973e+05  8.869639e-01       8.254997e+01   \n",
              "std    1.059058e+06  7.578700e+04  8.036391e-01       2.439019e+01   \n",
              "min    1.000000e+00  1.000000e+00  0.000000e+00       1.000000e+00   \n",
              "25%    9.171090e+05  5.484700e+04  2.999700e-02       6.900000e+01   \n",
              "50%    1.834316e+06  1.177370e+05  7.925750e-01       1.000000e+02   \n",
              "75%    2.751250e+06  1.848700e+05  1.745220e+00       1.000000e+02   \n",
              "max    3.668522e+06  2.622110e+05  2.496763e+00       1.000000e+02   \n",
              "\n",
              "                min  state_number          mean  N_IN_Conn_P_DstIP  \\\n",
              "count  2.934817e+06  2.934817e+06  2.934817e+06       2.934817e+06   \n",
              "mean   1.017208e+00  3.134219e+00  2.230471e+00       9.245766e+01   \n",
              "std    1.483551e+00  1.187107e+00  1.517766e+00       1.816651e+01   \n",
              "min    0.000000e+00  1.000000e+00  0.000000e+00       1.000000e+00   \n",
              "25%    0.000000e+00  3.000000e+00  1.819340e-01       1.000000e+02   \n",
              "50%    0.000000e+00  4.000000e+00  2.689973e+00       1.000000e+02   \n",
              "75%    2.147949e+00  4.000000e+00  3.565061e+00       1.000000e+02   \n",
              "max    4.980471e+00  1.100000e+01  4.981882e+00       1.000000e+02   \n",
              "\n",
              "              drate         srate           max        attack  \n",
              "count  2.934817e+06  2.934817e+06  2.934817e+06  2.934817e+06  \n",
              "mean   4.303064e-01  3.128290e+00  3.019269e+00  9.998739e-01  \n",
              "std    5.623304e+01  7.845494e+02  1.860915e+00  1.122750e-02  \n",
              "min    0.000000e+00  0.000000e+00  0.000000e+00  0.000000e+00  \n",
              "25%    0.000000e+00  1.558450e-01  2.804170e-01  1.000000e+00  \n",
              "50%    0.000000e+00  2.837800e-01  4.008429e+00  1.000000e+00  \n",
              "75%    0.000000e+00  4.880000e-01  4.292426e+00  1.000000e+00  \n",
              "max    5.882353e+04  1.000000e+06  4.999999e+00  1.000000e+00  "
            ],
            "text/html": [
              "\n",
              "  <div id=\"df-47135eca-2d14-44f2-8d3a-84cef8210117\">\n",
              "    <div class=\"colab-df-container\">\n",
              "      <div>\n",
              "<style scoped>\n",
              "    .dataframe tbody tr th:only-of-type {\n",
              "        vertical-align: middle;\n",
              "    }\n",
              "\n",
              "    .dataframe tbody tr th {\n",
              "        vertical-align: top;\n",
              "    }\n",
              "\n",
              "    .dataframe thead th {\n",
              "        text-align: right;\n",
              "    }\n",
              "</style>\n",
              "<table border=\"1\" class=\"dataframe\">\n",
              "  <thead>\n",
              "    <tr style=\"text-align: right;\">\n",
              "      <th></th>\n",
              "      <th>pkSeqID</th>\n",
              "      <th>seq</th>\n",
              "      <th>stddev</th>\n",
              "      <th>N_IN_Conn_P_SrcIP</th>\n",
              "      <th>min</th>\n",
              "      <th>state_number</th>\n",
              "      <th>mean</th>\n",
              "      <th>N_IN_Conn_P_DstIP</th>\n",
              "      <th>drate</th>\n",
              "      <th>srate</th>\n",
              "      <th>max</th>\n",
              "      <th>attack</th>\n",
              "    </tr>\n",
              "  </thead>\n",
              "  <tbody>\n",
              "    <tr>\n",
              "      <th>count</th>\n",
              "      <td>2.934817e+06</td>\n",
              "      <td>2.934817e+06</td>\n",
              "      <td>2.934817e+06</td>\n",
              "      <td>2.934817e+06</td>\n",
              "      <td>2.934817e+06</td>\n",
              "      <td>2.934817e+06</td>\n",
              "      <td>2.934817e+06</td>\n",
              "      <td>2.934817e+06</td>\n",
              "      <td>2.934817e+06</td>\n",
              "      <td>2.934817e+06</td>\n",
              "      <td>2.934817e+06</td>\n",
              "      <td>2.934817e+06</td>\n",
              "    </tr>\n",
              "    <tr>\n",
              "      <th>mean</th>\n",
              "      <td>1.834209e+06</td>\n",
              "      <td>1.212973e+05</td>\n",
              "      <td>8.869639e-01</td>\n",
              "      <td>8.254997e+01</td>\n",
              "      <td>1.017208e+00</td>\n",
              "      <td>3.134219e+00</td>\n",
              "      <td>2.230471e+00</td>\n",
              "      <td>9.245766e+01</td>\n",
              "      <td>4.303064e-01</td>\n",
              "      <td>3.128290e+00</td>\n",
              "      <td>3.019269e+00</td>\n",
              "      <td>9.998739e-01</td>\n",
              "    </tr>\n",
              "    <tr>\n",
              "      <th>std</th>\n",
              "      <td>1.059058e+06</td>\n",
              "      <td>7.578700e+04</td>\n",
              "      <td>8.036391e-01</td>\n",
              "      <td>2.439019e+01</td>\n",
              "      <td>1.483551e+00</td>\n",
              "      <td>1.187107e+00</td>\n",
              "      <td>1.517766e+00</td>\n",
              "      <td>1.816651e+01</td>\n",
              "      <td>5.623304e+01</td>\n",
              "      <td>7.845494e+02</td>\n",
              "      <td>1.860915e+00</td>\n",
              "      <td>1.122750e-02</td>\n",
              "    </tr>\n",
              "    <tr>\n",
              "      <th>min</th>\n",
              "      <td>1.000000e+00</td>\n",
              "      <td>1.000000e+00</td>\n",
              "      <td>0.000000e+00</td>\n",
              "      <td>1.000000e+00</td>\n",
              "      <td>0.000000e+00</td>\n",
              "      <td>1.000000e+00</td>\n",
              "      <td>0.000000e+00</td>\n",
              "      <td>1.000000e+00</td>\n",
              "      <td>0.000000e+00</td>\n",
              "      <td>0.000000e+00</td>\n",
              "      <td>0.000000e+00</td>\n",
              "      <td>0.000000e+00</td>\n",
              "    </tr>\n",
              "    <tr>\n",
              "      <th>25%</th>\n",
              "      <td>9.171090e+05</td>\n",
              "      <td>5.484700e+04</td>\n",
              "      <td>2.999700e-02</td>\n",
              "      <td>6.900000e+01</td>\n",
              "      <td>0.000000e+00</td>\n",
              "      <td>3.000000e+00</td>\n",
              "      <td>1.819340e-01</td>\n",
              "      <td>1.000000e+02</td>\n",
              "      <td>0.000000e+00</td>\n",
              "      <td>1.558450e-01</td>\n",
              "      <td>2.804170e-01</td>\n",
              "      <td>1.000000e+00</td>\n",
              "    </tr>\n",
              "    <tr>\n",
              "      <th>50%</th>\n",
              "      <td>1.834316e+06</td>\n",
              "      <td>1.177370e+05</td>\n",
              "      <td>7.925750e-01</td>\n",
              "      <td>1.000000e+02</td>\n",
              "      <td>0.000000e+00</td>\n",
              "      <td>4.000000e+00</td>\n",
              "      <td>2.689973e+00</td>\n",
              "      <td>1.000000e+02</td>\n",
              "      <td>0.000000e+00</td>\n",
              "      <td>2.837800e-01</td>\n",
              "      <td>4.008429e+00</td>\n",
              "      <td>1.000000e+00</td>\n",
              "    </tr>\n",
              "    <tr>\n",
              "      <th>75%</th>\n",
              "      <td>2.751250e+06</td>\n",
              "      <td>1.848700e+05</td>\n",
              "      <td>1.745220e+00</td>\n",
              "      <td>1.000000e+02</td>\n",
              "      <td>2.147949e+00</td>\n",
              "      <td>4.000000e+00</td>\n",
              "      <td>3.565061e+00</td>\n",
              "      <td>1.000000e+02</td>\n",
              "      <td>0.000000e+00</td>\n",
              "      <td>4.880000e-01</td>\n",
              "      <td>4.292426e+00</td>\n",
              "      <td>1.000000e+00</td>\n",
              "    </tr>\n",
              "    <tr>\n",
              "      <th>max</th>\n",
              "      <td>3.668522e+06</td>\n",
              "      <td>2.622110e+05</td>\n",
              "      <td>2.496763e+00</td>\n",
              "      <td>1.000000e+02</td>\n",
              "      <td>4.980471e+00</td>\n",
              "      <td>1.100000e+01</td>\n",
              "      <td>4.981882e+00</td>\n",
              "      <td>1.000000e+02</td>\n",
              "      <td>5.882353e+04</td>\n",
              "      <td>1.000000e+06</td>\n",
              "      <td>4.999999e+00</td>\n",
              "      <td>1.000000e+00</td>\n",
              "    </tr>\n",
              "  </tbody>\n",
              "</table>\n",
              "</div>\n",
              "      <button class=\"colab-df-convert\" onclick=\"convertToInteractive('df-47135eca-2d14-44f2-8d3a-84cef8210117')\"\n",
              "              title=\"Convert this dataframe to an interactive table.\"\n",
              "              style=\"display:none;\">\n",
              "        \n",
              "  <svg xmlns=\"http://www.w3.org/2000/svg\" height=\"24px\"viewBox=\"0 0 24 24\"\n",
              "       width=\"24px\">\n",
              "    <path d=\"M0 0h24v24H0V0z\" fill=\"none\"/>\n",
              "    <path d=\"M18.56 5.44l.94 2.06.94-2.06 2.06-.94-2.06-.94-.94-2.06-.94 2.06-2.06.94zm-11 1L8.5 8.5l.94-2.06 2.06-.94-2.06-.94L8.5 2.5l-.94 2.06-2.06.94zm10 10l.94 2.06.94-2.06 2.06-.94-2.06-.94-.94-2.06-.94 2.06-2.06.94z\"/><path d=\"M17.41 7.96l-1.37-1.37c-.4-.4-.92-.59-1.43-.59-.52 0-1.04.2-1.43.59L10.3 9.45l-7.72 7.72c-.78.78-.78 2.05 0 2.83L4 21.41c.39.39.9.59 1.41.59.51 0 1.02-.2 1.41-.59l7.78-7.78 2.81-2.81c.8-.78.8-2.07 0-2.86zM5.41 20L4 18.59l7.72-7.72 1.47 1.35L5.41 20z\"/>\n",
              "  </svg>\n",
              "      </button>\n",
              "      \n",
              "  <style>\n",
              "    .colab-df-container {\n",
              "      display:flex;\n",
              "      flex-wrap:wrap;\n",
              "      gap: 12px;\n",
              "    }\n",
              "\n",
              "    .colab-df-convert {\n",
              "      background-color: #E8F0FE;\n",
              "      border: none;\n",
              "      border-radius: 50%;\n",
              "      cursor: pointer;\n",
              "      display: none;\n",
              "      fill: #1967D2;\n",
              "      height: 32px;\n",
              "      padding: 0 0 0 0;\n",
              "      width: 32px;\n",
              "    }\n",
              "\n",
              "    .colab-df-convert:hover {\n",
              "      background-color: #E2EBFA;\n",
              "      box-shadow: 0px 1px 2px rgba(60, 64, 67, 0.3), 0px 1px 3px 1px rgba(60, 64, 67, 0.15);\n",
              "      fill: #174EA6;\n",
              "    }\n",
              "\n",
              "    [theme=dark] .colab-df-convert {\n",
              "      background-color: #3B4455;\n",
              "      fill: #D2E3FC;\n",
              "    }\n",
              "\n",
              "    [theme=dark] .colab-df-convert:hover {\n",
              "      background-color: #434B5C;\n",
              "      box-shadow: 0px 1px 3px 1px rgba(0, 0, 0, 0.15);\n",
              "      filter: drop-shadow(0px 1px 2px rgba(0, 0, 0, 0.3));\n",
              "      fill: #FFFFFF;\n",
              "    }\n",
              "  </style>\n",
              "\n",
              "      <script>\n",
              "        const buttonEl =\n",
              "          document.querySelector('#df-47135eca-2d14-44f2-8d3a-84cef8210117 button.colab-df-convert');\n",
              "        buttonEl.style.display =\n",
              "          google.colab.kernel.accessAllowed ? 'block' : 'none';\n",
              "\n",
              "        async function convertToInteractive(key) {\n",
              "          const element = document.querySelector('#df-47135eca-2d14-44f2-8d3a-84cef8210117');\n",
              "          const dataTable =\n",
              "            await google.colab.kernel.invokeFunction('convertToInteractive',\n",
              "                                                     [key], {});\n",
              "          if (!dataTable) return;\n",
              "\n",
              "          const docLinkHtml = 'Like what you see? Visit the ' +\n",
              "            '<a target=\"_blank\" href=https://colab.research.google.com/notebooks/data_table.ipynb>data table notebook</a>'\n",
              "            + ' to learn more about interactive tables.';\n",
              "          element.innerHTML = '';\n",
              "          dataTable['output_type'] = 'display_data';\n",
              "          await google.colab.output.renderOutput(dataTable, element);\n",
              "          const docLink = document.createElement('div');\n",
              "          docLink.innerHTML = docLinkHtml;\n",
              "          element.appendChild(docLink);\n",
              "        }\n",
              "      </script>\n",
              "    </div>\n",
              "  </div>\n",
              "  "
            ]
          },
          "metadata": {},
          "execution_count": 7
        }
      ]
    },
    {
      "cell_type": "code",
      "source": [
        "## 타겟 종류 확인\n",
        "df['category'].unique()"
      ],
      "metadata": {
        "colab": {
          "base_uri": "https://localhost:8080/"
        },
        "id": "NM_3vMSK1Riy",
        "outputId": "c76b8679-8bc7-4cad-e614-031054fbb7ce"
      },
      "execution_count": null,
      "outputs": [
        {
          "output_type": "execute_result",
          "data": {
            "text/plain": [
              "array(['DDoS', 'DoS', 'Reconnaissance', 'Normal', 'Theft'], dtype=object)"
            ]
          },
          "metadata": {},
          "execution_count": 8
        }
      ]
    },
    {
      "cell_type": "code",
      "execution_count": null,
      "metadata": {
        "id": "8rzqRhkMLDn-"
      },
      "outputs": [],
      "source": [
        "## 속성과 클래스 분리\n",
        "\n",
        "import numpy as np\n",
        "\n",
        "data = df[['seq', 'stddev', 'N_IN_Conn_P_DstIP', 'N_IN_Conn_P_SrcIP', 'min', 'state_number', 'mean', 'drate', 'srate', 'max']].to_numpy()  # 특성 논문 참고하여 임의로 선택, 후에 이유 덧붙여서 얘기하기\n",
        "target = df['category'].to_numpy()  # category: 공격의 종류"
      ]
    },
    {
      "cell_type": "code",
      "execution_count": null,
      "metadata": {
        "colab": {
          "base_uri": "https://localhost:8080/"
        },
        "id": "AgjutqHiKYw6",
        "outputId": "95d6fb22-ecc4-4bb7-e240-1a12a35714b4"
      },
      "outputs": [
        {
          "output_type": "stream",
          "name": "stdout",
          "text": [
            "(2934817, 10)\n"
          ]
        }
      ],
      "source": [
        "print(data.shape)  # 총 2,934,817개의 데이터, 10개의 특성"
      ]
    },
    {
      "cell_type": "markdown",
      "metadata": {
        "id": "UJM0Su95lebu"
      },
      "source": [
        "## 훈련셋, 테스트셋 나누기"
      ]
    },
    {
      "cell_type": "code",
      "execution_count": null,
      "metadata": {
        "id": "9mz4lRu0Opy2"
      },
      "outputs": [],
      "source": [
        "## 훈련셋 : 테스트셋 = 8 : 2\n",
        "\n",
        "from sklearn.model_selection import train_test_split\n",
        "\n",
        "train_input, test_input, train_target, test_target = train_test_split(\n",
        "    data, target, test_size=0.2, random_state=42\n",
        ")"
      ]
    },
    {
      "cell_type": "markdown",
      "metadata": {
        "id": "1S8vU225pRlB"
      },
      "source": [
        "## 데이터 전처리"
      ]
    },
    {
      "cell_type": "code",
      "execution_count": null,
      "metadata": {
        "id": "E36pJs3MpTK-"
      },
      "outputs": [],
      "source": [
        "## 최소 최대 정규화\n",
        "\n",
        "from sklearn.preprocessing import MinMaxScaler\n",
        "\n",
        "scaler = MinMaxScaler()\n",
        "scaler.fit(train_input)\n",
        "\n",
        "train_scaled = scaler.transform(train_input)\n",
        "test_scaled = scaler.transform(test_input)"
      ]
    },
    {
      "cell_type": "markdown",
      "metadata": {
        "id": "0s_7QzQu4NCo"
      },
      "source": [
        "## Decision Tree 모델 훈련 및 평가"
      ]
    },
    {
      "cell_type": "code",
      "execution_count": null,
      "metadata": {
        "id": "kqXE6z514QFZ",
        "colab": {
          "base_uri": "https://localhost:8080/"
        },
        "outputId": "6066128a-88ac-4a4f-c666-6d0937877df3"
      },
      "outputs": [
        {
          "output_type": "stream",
          "name": "stdout",
          "text": [
            "0.9971757175598301\n",
            "0.992118767079412\n"
          ]
        }
      ],
      "source": [
        "from sklearn.tree import DecisionTreeClassifier\n",
        "\n",
        "dt = DecisionTreeClassifier(random_state = 42)\n",
        "dt.fit(train_scaled, train_target)\n",
        "print(dt.score(train_scaled, train_target))\n",
        "print(dt.score(test_scaled, test_target))"
      ]
    },
    {
      "cell_type": "markdown",
      "source": [
        "이미 정확도 매우 높음"
      ],
      "metadata": {
        "id": "JdO_zIYXef1A"
      }
    },
    {
      "cell_type": "code",
      "source": [
        "import matplotlib.pyplot as plt\n",
        "from sklearn.tree import plot_tree\n",
        "\n",
        "plt.figure(figsize=(10, 7))\n",
        "plot_tree(dt, filled=True, feature_names=['seq', 'stddev', 'N_IN_Conn_P_DstIP', 'N_IN_Conn_P_SrcIP', 'min', 'state_number', 'mean', 'drate', 'srate', 'max'])\n",
        "plt.show()\n",
        "plt.savefig('tree-high_dpi', dpi=100)"
      ],
      "metadata": {
        "colab": {
          "base_uri": "https://localhost:8080/",
          "height": 430
        },
        "id": "g4lTMhx72eXO",
        "outputId": "5e463c71-a113-4f69-e4a2-92266988991a"
      },
      "execution_count": null,
      "outputs": [
        {
          "output_type": "display_data",
          "data": {
            "text/plain": [
              "<Figure size 720x504 with 1 Axes>"
            ],
            "image/png": "[encoded data removed]"
          },
          "metadata": {
            "needs_background": "light"
          }
        },
        {
          "output_type": "display_data",
          "data": {
            "text/plain": [
              "<Figure size 432x288 with 0 Axes>"
            ]
          },
          "metadata": {}
        }
      ]
    },
    {
      "cell_type": "code",
      "source": [
        "plt.figure(figsize=(10, 7))\n",
        "plot_tree(dt, max_depth=1, filled=True, feature_names=['seq', 'stddev', 'N_IN_Conn_P_DstIP', 'N_IN_Conn_P_SrcIP', 'min', 'state_number', 'mean', 'drate', 'srate', 'max'])\n",
        "plt.show()"
      ],
      "metadata": {
        "colab": {
          "base_uri": "https://localhost:8080/",
          "height": 411
        },
        "id": "LavNzEyk21XY",
        "outputId": "a5fb8b4a-ec8c-4a82-c0d4-feb5ee40cccd"
      },
      "execution_count": null,
      "outputs": [
        {
          "output_type": "display_data",
          "data": {
            "text/plain": [
              "<Figure size 720x504 with 1 Axes>"
            ],
            "image/png": "[encoded data removed]"
          },
          "metadata": {
            "needs_background": "light"
          }
        }
      ]
    },
    {
      "cell_type": "markdown",
      "source": [
        "## 가지치기 수행"
      ],
      "metadata": {
        "id": "IosWe7kmeF2P"
      }
    },
    {
      "cell_type": "code",
      "source": [
        "dt = DecisionTreeClassifier(max_depth=3, random_state=42)\n",
        "dt.fit(train_scaled, train_target)\n",
        "\n",
        "## 표준화한 데이터셋 활용 (어차피 각 단계마다 같은 기준을 가지고 비교하기 때문에 표준화하지 않은 데이터셋과 결과 동일)\n",
        "print(dt.score(train_scaled, train_target))\n",
        "print(dt.score(test_scaled, test_target))"
      ],
      "metadata": {
        "colab": {
          "base_uri": "https://localhost:8080/"
        },
        "id": "EFdvfytP2aDn",
        "outputId": "96f2c823-5caf-41de-bb77-ae7a1362b5d3"
      },
      "execution_count": null,
      "outputs": [
        {
          "output_type": "stream",
          "name": "stdout",
          "text": [
            "0.7981266288817912\n",
            "0.7986094547536136\n"
          ]
        }
      ]
    },
    {
      "cell_type": "markdown",
      "source": [
        "수행할 필요가 없긴 한데 한번 시도는 해봄. 깊이 3으로는 턱없이 부족한 결과"
      ],
      "metadata": {
        "id": "wS6USUyHeuxA"
      }
    },
    {
      "cell_type": "markdown",
      "source": [
        "## 시각화"
      ],
      "metadata": {
        "id": "-RCXXTUQer-B"
      }
    },
    {
      "cell_type": "code",
      "source": [
        "## 각 요소별 중요도 출력\n",
        "print(dt.feature_importances_)"
      ],
      "metadata": {
        "colab": {
          "base_uri": "https://localhost:8080/"
        },
        "id": "nbjVuBWt39ST",
        "outputId": "d5d26988-d5c9-464b-e40a-6da1b5e562f4"
      },
      "execution_count": null,
      "outputs": [
        {
          "output_type": "stream",
          "name": "stdout",
          "text": [
            "[0.05981654 0.13992299 0.2810107  0.16412047 0.0841362  0.08607105\n",
            " 0.08550034 0.00723714 0.03324938 0.05893519]\n"
          ]
        }
      ]
    },
    {
      "cell_type": "code",
      "source": [
        "## 특성 중요도 시각화\n",
        "\n",
        "import seaborn as sns\n",
        "import numpy as np\n",
        "%matplotlib inline\n",
        "\n",
        "data_df = df[['seq', 'stddev', 'N_IN_Conn_P_DstIP', 'N_IN_Conn_P_SrcIP', 'min', 'state_number', 'mean', 'drate', 'srate', 'max']]\n",
        "feature_names = data_df.columns.tolist()\n",
        "\n",
        "# feature별 importance 매핑\n",
        "for name, value in zip(feature_names , dt.feature_importances_):\n",
        "    print('{} : {:.3f}'.format(name, value))\n",
        "\n",
        "# feature importance를 column 별로 시각화 하기 \n",
        "sns.barplot(x=dt.feature_importances_, y=feature_names)"
      ],
      "metadata": {
        "colab": {
          "base_uri": "https://localhost:8080/",
          "height": 466
        },
        "id": "O4jAvQTF52ue",
        "outputId": "a1a2c0a9-a688-4924-edbc-d9323ea9961c"
      },
      "execution_count": null,
      "outputs": [
        {
          "output_type": "stream",
          "name": "stdout",
          "text": [
            "seq : 0.060\n",
            "stddev : 0.140\n",
            "N_IN_Conn_P_DstIP : 0.281\n",
            "N_IN_Conn_P_SrcIP : 0.164\n",
            "min : 0.084\n",
            "state_number : 0.086\n",
            "mean : 0.086\n",
            "drate : 0.007\n",
            "srate : 0.033\n",
            "max : 0.059\n"
          ]
        },
        {
          "output_type": "execute_result",
          "data": {
            "text/plain": [
              "<matplotlib.axes._subplots.AxesSubplot at 0x7f17566ace80>"
            ]
          },
          "metadata": {},
          "execution_count": 59
        },
        {
          "output_type": "display_data",
          "data": {
            "text/plain": [
              "<Figure size 432x288 with 1 Axes>"
            ],
            "image/png": "[encoded data removed]"
          },
          "metadata": {
            "needs_background": "light"
          }
        }
      ]
    },
    {
      "cell_type": "markdown",
      "source": [
        "가장 중요도가 높은 특성은 N_IN_Conn_P_DstIP이며, 해당 특성은 Destinatione IP당 인바운드 연결 수를 의미한다. 다음으로 중요도가 높았던 특성은 N_INConn_P_SrcIP로, Source IP 당 인바운드 연결 수를 의미한다."
      ],
      "metadata": {
        "id": "bUXNgfAZ8n5P"
      }
    },
    {
      "cell_type": "markdown",
      "source": [
        "## dtreeviz를 통한 시각화"
      ],
      "metadata": {
        "id": "21fCtvL7MFqn"
      }
    },
    {
      "cell_type": "code",
      "source": [
        "## dtreeviz를 통한 시각화\n",
        "!pip install dtreeviz"
      ],
      "metadata": {
        "colab": {
          "base_uri": "https://localhost:8080/"
        },
        "id": "x_tYjLVeWOP4",
        "outputId": "59df8b04-1921-4536-c4ca-0e45bde4a0ac"
      },
      "execution_count": null,
      "outputs": [
        {
          "output_type": "stream",
          "name": "stdout",
          "text": [
            "Looking in indexes: https://pypi.org/simple, https://us-python.pkg.dev/colab-wheels/public/simple/\n",
            "Requirement already satisfied: dtreeviz in /usr/local/lib/python3.8/dist-packages (1.4.1)\n",
            "Requirement already satisfied: pytest in /usr/local/lib/python3.8/dist-packages (from dtreeviz) (3.6.4)\n",
            "Requirement already satisfied: scikit-learn in /usr/local/lib/python3.8/dist-packages (from dtreeviz) (1.0.2)\n",
            "Requirement already satisfied: pandas in /usr/local/lib/python3.8/dist-packages (from dtreeviz) (1.3.5)\n",
            "Requirement already satisfied: numpy in /usr/local/lib/python3.8/dist-packages (from dtreeviz) (1.21.6)\n",
            "Requirement already satisfied: matplotlib in /usr/local/lib/python3.8/dist-packages (from dtreeviz) (3.2.2)\n",
            "Requirement already satisfied: graphviz>=0.9 in /usr/local/lib/python3.8/dist-packages (from dtreeviz) (0.10.1)\n",
            "Requirement already satisfied: colour in /usr/local/lib/python3.8/dist-packages (from dtreeviz) (0.1.5)\n",
            "Requirement already satisfied: cycler>=0.10 in /usr/local/lib/python3.8/dist-packages (from matplotlib->dtreeviz) (0.11.0)\n",
            "Requirement already satisfied: python-dateutil>=2.1 in /usr/local/lib/python3.8/dist-packages (from matplotlib->dtreeviz) (2.8.2)\n",
            "Requirement already satisfied: pyparsing!=2.0.4,!=2.1.2,!=2.1.6,>=2.0.1 in /usr/local/lib/python3.8/dist-packages (from matplotlib->dtreeviz) (3.0.9)\n",
            "Requirement already satisfied: kiwisolver>=1.0.1 in /usr/local/lib/python3.8/dist-packages (from matplotlib->dtreeviz) (1.4.4)\n",
            "Requirement already satisfied: six>=1.5 in /usr/local/lib/python3.8/dist-packages (from python-dateutil>=2.1->matplotlib->dtreeviz) (1.15.0)\n",
            "Requirement already satisfied: pytz>=2017.3 in /usr/local/lib/python3.8/dist-packages (from pandas->dtreeviz) (2022.6)\n",
            "Requirement already satisfied: setuptools in /usr/local/lib/python3.8/dist-packages (from pytest->dtreeviz) (57.4.0)\n",
            "Requirement already satisfied: py>=1.5.0 in /usr/local/lib/python3.8/dist-packages (from pytest->dtreeviz) (1.11.0)\n",
            "Requirement already satisfied: atomicwrites>=1.0 in /usr/local/lib/python3.8/dist-packages (from pytest->dtreeviz) (1.4.1)\n",
            "Requirement already satisfied: more-itertools>=4.0.0 in /usr/local/lib/python3.8/dist-packages (from pytest->dtreeviz) (9.0.0)\n",
            "Requirement already satisfied: pluggy<0.8,>=0.5 in /usr/local/lib/python3.8/dist-packages (from pytest->dtreeviz) (0.7.1)\n",
            "Requirement already satisfied: attrs>=17.4.0 in /usr/local/lib/python3.8/dist-packages (from pytest->dtreeviz) (22.1.0)\n",
            "Requirement already satisfied: scipy>=1.1.0 in /usr/local/lib/python3.8/dist-packages (from scikit-learn->dtreeviz) (1.7.3)\n",
            "Requirement already satisfied: threadpoolctl>=2.0.0 in /usr/local/lib/python3.8/dist-packages (from scikit-learn->dtreeviz) (3.1.0)\n",
            "Requirement already satisfied: joblib>=0.11 in /usr/local/lib/python3.8/dist-packages (from scikit-learn->dtreeviz) (1.2.0)\n"
          ]
        }
      ]
    },
    {
      "cell_type": "markdown",
      "source": [
        "참고 링크: https://github.com/parrt/dtreeviz\n",
        "\n",
        "\n",
        "https://mljar.com/blog/visualize-decision-tree/ "
      ],
      "metadata": {
        "id": "ddVStqhzWW_t"
      }
    },
    {
      "cell_type": "code",
      "source": [
        "# dtreeviz는 y축에 float 타입의 데이터를 넣어야 함.\n",
        "# -> train_target 데이터를 ['DDoS', 'DoS', Reconnaissance', 'Normal', 'Theft'] -> [1, 2, 3, 4, 5]로 치환\n",
        "\n",
        "train_target_num = pd.DataFrame(train_target, columns=['category'])\n",
        "print(train_target_num)\n",
        "\n",
        "train_target_num['category'] = pd.factorize(train_target_num['category'])[0]+1\n",
        "print(train_target_num)\n",
        "\n",
        "train_target_num = train_target_num.to_numpy()\n",
        "train_target_num = train_target_num.reshape(-1)"
      ],
      "metadata": {
        "colab": {
          "base_uri": "https://localhost:8080/"
        },
        "id": "FnqOc63ylcrJ",
        "outputId": "8d18ea3f-93d4-4402-f191-ea5ae78ffba8"
      },
      "execution_count": null,
      "outputs": [
        {
          "output_type": "stream",
          "name": "stdout",
          "text": [
            "        category\n",
            "0           DDoS\n",
            "1           DDoS\n",
            "2            DoS\n",
            "3           DDoS\n",
            "4           DDoS\n",
            "...          ...\n",
            "2347848     DDoS\n",
            "2347849     DDoS\n",
            "2347850     DDoS\n",
            "2347851      DoS\n",
            "2347852     DDoS\n",
            "\n",
            "[2347853 rows x 1 columns]\n",
            "         category\n",
            "0               1\n",
            "1               1\n",
            "2               2\n",
            "3               1\n",
            "4               1\n",
            "...           ...\n",
            "2347848         1\n",
            "2347849         1\n",
            "2347850         1\n",
            "2347851         2\n",
            "2347852         1\n",
            "\n",
            "[2347853 rows x 1 columns]\n"
          ]
        }
      ]
    },
    {
      "cell_type": "markdown",
      "source": [
        "* distribution of decision feature in the each node \n",
        "* class-color matching legend\n",
        "* distribution of the class in the leaf \n",
        "\n"
      ],
      "metadata": {
        "id": "C_fqTmF6XAoT"
      }
    },
    {
      "cell_type": "markdown",
      "source": [
        "해보려다가 실패했는데 혹시 나중에 다시 시도해볼수도 있어서 일단 코드 남겨둠"
      ],
      "metadata": {
        "id": "eZc5mSKTQcjp"
      }
    },
    {
      "cell_type": "markdown",
      "source": [
        "## 하이퍼파라미터 튜닝"
      ],
      "metadata": {
        "id": "TWmTDO83JJiW"
      }
    },
    {
      "cell_type": "code",
      "source": [
        "from scipy.stats import uniform, randint\n",
        "from sklearn.model_selection import RandomizedSearchCV\n",
        "\n",
        "# https://injo.tistory.com/15\n",
        "# min_samples_split: 노드를 분할하기 위한 최소한의 샘플 데이터 수\n",
        "# min_samples_leaf: 리프노드가 되기 위한 최소한의 샘플 데이터 수\n",
        "# max_features: 최적의 분할을 위해 고려할 최대 feature 개수\n",
        "# max_depth: 트리의 최대 깊이\n",
        "# min_impurity_decrease: 노드가 분할하는 데 필요한 불순도 변화의 최솟값\n",
        "\n",
        "params = {'min_impurity_decrease': uniform(0.0001, 0.001),\n",
        "          'max_depth': randint(1, 30),\n",
        "          'min_samples_split': randint(2, 25),\n",
        "          'min_samples_leaf': randint(1, 20),\n",
        "          }\n",
        "\n",
        "gs = RandomizedSearchCV(DecisionTreeClassifier(random_state=42), params, n_iter=10, random_state=42)\n",
        "\n",
        "gs.fit(train_input, train_target)"
      ],
      "metadata": {
        "colab": {
          "base_uri": "https://localhost:8080/"
        },
        "id": "eFR_x3e4JL_L",
        "outputId": "91431b26-bf0d-4fca-c61c-7bb733b53721"
      },
      "execution_count": null,
      "outputs": [
        {
          "output_type": "execute_result",
          "data": {
            "text/plain": [
              "RandomizedSearchCV(estimator=DecisionTreeClassifier(random_state=42),\n",
              "                   param_distributions={'max_depth': <scipy.stats._distn_infrastructure.rv_frozen object at 0x7f175af2ad30>,\n",
              "                                        'min_impurity_decrease': <scipy.stats._distn_infrastructure.rv_frozen object at 0x7f1753eee6d0>,\n",
              "                                        'min_samples_leaf': <scipy.stats._distn_infrastructure.rv_frozen object at 0x7f1755d43790>,\n",
              "                                        'min_samples_split': <scipy.stats._distn_infrastructure.rv_frozen object at 0x7f175c633280>},\n",
              "                   random_state=42)"
            ]
          },
          "metadata": {},
          "execution_count": 245
        }
      ]
    },
    {
      "cell_type": "code",
      "source": [
        "print(gs.best_params_)"
      ],
      "metadata": {
        "colab": {
          "base_uri": "https://localhost:8080/"
        },
        "id": "JoISRuYiSfUn",
        "outputId": "f285fa1c-ffb9-4ff9-949a-4b71f5213c12"
      },
      "execution_count": null,
      "outputs": [
        {
          "output_type": "stream",
          "name": "stdout",
          "text": [
            "{'max_depth': 23, 'min_impurity_decrease': 0.00015808361216819946, 'min_samples_leaf': 4, 'min_samples_split': 9}\n"
          ]
        }
      ]
    },
    {
      "cell_type": "code",
      "source": [
        "dt = gs.best_estimator_\n",
        "\n",
        "print(dt.score(test_input, test_target))"
      ],
      "metadata": {
        "colab": {
          "base_uri": "https://localhost:8080/"
        },
        "id": "4D6x9floSkOM",
        "outputId": "00c92654-657e-4d49-b540-18d76c1eb465"
      },
      "execution_count": null,
      "outputs": [
        {
          "output_type": "stream",
          "name": "stdout",
          "text": [
            "0.9932738634737395\n"
          ]
        }
      ]
    },
    {
      "cell_type": "markdown",
      "source": [
        "그리드서치로 최적의 모델 탐색 후 테스트셋으로 평가했을 때, 정확도가 약 0.001 정도 증가했다. 이미 성능이 좋았던 모델이라 큰 차이는 없었다."
      ],
      "metadata": {
        "id": "Zt2udVKHTrW9"
      }
    }
  ],
  "metadata": {
    "colab": {
      "collapsed_sections": [
        "21fCtvL7MFqn"
      ],
      "provenance": []
    },
    "kernelspec": {
      "display_name": "Python 3",
      "name": "python3"
    },
    "language_info": {
      "name": "python"
    },
    "gpuClass": "standard"
  },
  "nbformat": 4,
  "nbformat_minor": 0
}