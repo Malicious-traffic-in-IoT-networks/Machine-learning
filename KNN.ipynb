{
  "nbformat": 4,
  "nbformat_minor": 0,
  "metadata": {
    "colab": {
      "provenance": [],
      "authorship_tag": "ABX9TyOQ+yNRLRSqxeeCOlnPobGU",
      "include_colab_link": true
    },
    "kernelspec": {
      "name": "python3",
      "display_name": "Python 3"
    },
    "language_info": {
      "name": "python"
    }
  },
  "cells": [
    {
      "cell_type": "markdown",
      "metadata": {
        "id": "view-in-github",
        "colab_type": "text"
      },
      "source": [
        "<a href=\"https://colab.research.google.com/github/Malicious-traffic-in-IoT-networks/Machine-learning/blob/main/KNN.ipynb\" target=\"_parent\"><img src=\"https://colab.research.google.com/assets/colab-badge.svg\" alt=\"Open In Colab\"/></a>"
      ]
    },
    {
      "cell_type": "markdown",
      "source": [
        "## **01 데이터 업로드**"
      ],
      "metadata": {
        "id": "cC6bIoLZ3_2b"
      }
    },
    {
      "cell_type": "code",
      "execution_count": 10,
      "metadata": {
        "id": "0ePbKAfV3Qms",
        "colab": {
          "base_uri": "https://localhost:8080/"
        },
        "outputId": "0326921a-8344-4d40-d4d9-b16c8f25f3eb"
      },
      "outputs": [
        {
          "output_type": "stream",
          "name": "stdout",
          "text": [
            "Mounted at /gdrive\n"
          ]
        }
      ],
      "source": [
        "# 구글 드라이브 연결\n",
        "from google.colab import drive\n",
        "import numpy as np\n",
        "drive.mount('/gdrive', force_remount=True)"
      ]
    },
    {
      "cell_type": "code",
      "source": [
        "import pandas as pd\n",
        "\n",
        "IoT_Botnet_Dataset = pd.read_csv('/gdrive/MyDrive/Taggle/UNSW_2018_IoT_Botnet_Final_10_Best.csv',sep=';')\n",
        "IoT_Botnet_Dataset.head()"
      ],
      "metadata": {
        "id": "apFHzQ0n5E3l",
        "colab": {
          "base_uri": "https://localhost:8080/",
          "height": 324
        },
        "outputId": "2378c159-25a1-4b26-ae13-ba71eb344a1a"
      },
      "execution_count": 11,
      "outputs": [
        {
          "output_type": "stream",
          "name": "stderr",
          "text": [
            "/usr/local/lib/python3.8/dist-packages/IPython/core/interactiveshell.py:3326: DtypeWarning: Columns (4,6) have mixed types.Specify dtype option on import or set low_memory=False.\n",
            "  exec(code_obj, self.user_global_ns, self.user_ns)\n"
          ]
        },
        {
          "output_type": "execute_result",
          "data": {
            "text/plain": [
              "   Unnamed: 0  pkSeqID proto            saddr  sport            daddr dport  \\\n",
              "0           0        1   tcp  192.168.100.147  49960    192.168.100.7    80   \n",
              "1           1        2   arp    192.168.100.7     -1  192.168.100.147    -1   \n",
              "2           2        3   tcp  192.168.100.147  49962    192.168.100.7    80   \n",
              "3           3        4   tcp  192.168.100.147  49964    192.168.100.7    80   \n",
              "4           4        5   tcp  192.168.100.147  49966    192.168.100.7    80   \n",
              "\n",
              "   seq    stddev  N_IN_Conn_P_SrcIP       min  state_number      mean  \\\n",
              "0    9  0.068909                 75  0.000000             1  0.068909   \n",
              "1   10  0.000000                  2  0.000131             2  0.000131   \n",
              "2   11  0.064494                 75  0.000000             1  0.064494   \n",
              "3   12  0.064189                 75  0.000000             1  0.064189   \n",
              "4   13  0.063887                 75  0.000000             1  0.063887   \n",
              "\n",
              "   N_IN_Conn_P_DstIP      drate     srate       max  attack category  \\\n",
              "0                 96  14.511893  0.566862  0.137818       1      DoS   \n",
              "1                  1   0.000000  0.000000  0.000131       1      DoS   \n",
              "2                 96  15.505319  0.567549  0.128988       1      DoS   \n",
              "3                 96  15.578993  0.567570  0.128378       1      DoS   \n",
              "4                 96  15.652637  0.567630  0.127774       1      DoS   \n",
              "\n",
              "  subcategory  \n",
              "0        HTTP  \n",
              "1        HTTP  \n",
              "2        HTTP  \n",
              "3        HTTP  \n",
              "4        HTTP  "
            ],
            "text/html": [
              "\n",
              "  <div id=\"df-67ea0ae6-59b0-4870-971f-cdc883ad69da\">\n",
              "    <div class=\"colab-df-container\">\n",
              "      <div>\n",
              "<style scoped>\n",
              "    .dataframe tbody tr th:only-of-type {\n",
              "        vertical-align: middle;\n",
              "    }\n",
              "\n",
              "    .dataframe tbody tr th {\n",
              "        vertical-align: top;\n",
              "    }\n",
              "\n",
              "    .dataframe thead th {\n",
              "        text-align: right;\n",
              "    }\n",
              "</style>\n",
              "<table border=\"1\" class=\"dataframe\">\n",
              "  <thead>\n",
              "    <tr style=\"text-align: right;\">\n",
              "      <th></th>\n",
              "      <th>Unnamed: 0</th>\n",
              "      <th>pkSeqID</th>\n",
              "      <th>proto</th>\n",
              "      <th>saddr</th>\n",
              "      <th>sport</th>\n",
              "      <th>daddr</th>\n",
              "      <th>dport</th>\n",
              "      <th>seq</th>\n",
              "      <th>stddev</th>\n",
              "      <th>N_IN_Conn_P_SrcIP</th>\n",
              "      <th>min</th>\n",
              "      <th>state_number</th>\n",
              "      <th>mean</th>\n",
              "      <th>N_IN_Conn_P_DstIP</th>\n",
              "      <th>drate</th>\n",
              "      <th>srate</th>\n",
              "      <th>max</th>\n",
              "      <th>attack</th>\n",
              "      <th>category</th>\n",
              "      <th>subcategory</th>\n",
              "    </tr>\n",
              "  </thead>\n",
              "  <tbody>\n",
              "    <tr>\n",
              "      <th>0</th>\n",
              "      <td>0</td>\n",
              "      <td>1</td>\n",
              "      <td>tcp</td>\n",
              "      <td>192.168.100.147</td>\n",
              "      <td>49960</td>\n",
              "      <td>192.168.100.7</td>\n",
              "      <td>80</td>\n",
              "      <td>9</td>\n",
              "      <td>0.068909</td>\n",
              "      <td>75</td>\n",
              "      <td>0.000000</td>\n",
              "      <td>1</td>\n",
              "      <td>0.068909</td>\n",
              "      <td>96</td>\n",
              "      <td>14.511893</td>\n",
              "      <td>0.566862</td>\n",
              "      <td>0.137818</td>\n",
              "      <td>1</td>\n",
              "      <td>DoS</td>\n",
              "      <td>HTTP</td>\n",
              "    </tr>\n",
              "    <tr>\n",
              "      <th>1</th>\n",
              "      <td>1</td>\n",
              "      <td>2</td>\n",
              "      <td>arp</td>\n",
              "      <td>192.168.100.7</td>\n",
              "      <td>-1</td>\n",
              "      <td>192.168.100.147</td>\n",
              "      <td>-1</td>\n",
              "      <td>10</td>\n",
              "      <td>0.000000</td>\n",
              "      <td>2</td>\n",
              "      <td>0.000131</td>\n",
              "      <td>2</td>\n",
              "      <td>0.000131</td>\n",
              "      <td>1</td>\n",
              "      <td>0.000000</td>\n",
              "      <td>0.000000</td>\n",
              "      <td>0.000131</td>\n",
              "      <td>1</td>\n",
              "      <td>DoS</td>\n",
              "      <td>HTTP</td>\n",
              "    </tr>\n",
              "    <tr>\n",
              "      <th>2</th>\n",
              "      <td>2</td>\n",
              "      <td>3</td>\n",
              "      <td>tcp</td>\n",
              "      <td>192.168.100.147</td>\n",
              "      <td>49962</td>\n",
              "      <td>192.168.100.7</td>\n",
              "      <td>80</td>\n",
              "      <td>11</td>\n",
              "      <td>0.064494</td>\n",
              "      <td>75</td>\n",
              "      <td>0.000000</td>\n",
              "      <td>1</td>\n",
              "      <td>0.064494</td>\n",
              "      <td>96</td>\n",
              "      <td>15.505319</td>\n",
              "      <td>0.567549</td>\n",
              "      <td>0.128988</td>\n",
              "      <td>1</td>\n",
              "      <td>DoS</td>\n",
              "      <td>HTTP</td>\n",
              "    </tr>\n",
              "    <tr>\n",
              "      <th>3</th>\n",
              "      <td>3</td>\n",
              "      <td>4</td>\n",
              "      <td>tcp</td>\n",
              "      <td>192.168.100.147</td>\n",
              "      <td>49964</td>\n",
              "      <td>192.168.100.7</td>\n",
              "      <td>80</td>\n",
              "      <td>12</td>\n",
              "      <td>0.064189</td>\n",
              "      <td>75</td>\n",
              "      <td>0.000000</td>\n",
              "      <td>1</td>\n",
              "      <td>0.064189</td>\n",
              "      <td>96</td>\n",
              "      <td>15.578993</td>\n",
              "      <td>0.567570</td>\n",
              "      <td>0.128378</td>\n",
              "      <td>1</td>\n",
              "      <td>DoS</td>\n",
              "      <td>HTTP</td>\n",
              "    </tr>\n",
              "    <tr>\n",
              "      <th>4</th>\n",
              "      <td>4</td>\n",
              "      <td>5</td>\n",
              "      <td>tcp</td>\n",
              "      <td>192.168.100.147</td>\n",
              "      <td>49966</td>\n",
              "      <td>192.168.100.7</td>\n",
              "      <td>80</td>\n",
              "      <td>13</td>\n",
              "      <td>0.063887</td>\n",
              "      <td>75</td>\n",
              "      <td>0.000000</td>\n",
              "      <td>1</td>\n",
              "      <td>0.063887</td>\n",
              "      <td>96</td>\n",
              "      <td>15.652637</td>\n",
              "      <td>0.567630</td>\n",
              "      <td>0.127774</td>\n",
              "      <td>1</td>\n",
              "      <td>DoS</td>\n",
              "      <td>HTTP</td>\n",
              "    </tr>\n",
              "  </tbody>\n",
              "</table>\n",
              "</div>\n",
              "      <button class=\"colab-df-convert\" onclick=\"convertToInteractive('df-67ea0ae6-59b0-4870-971f-cdc883ad69da')\"\n",
              "              title=\"Convert this dataframe to an interactive table.\"\n",
              "              style=\"display:none;\">\n",
              "        \n",
              "  <svg xmlns=\"http://www.w3.org/2000/svg\" height=\"24px\"viewBox=\"0 0 24 24\"\n",
              "       width=\"24px\">\n",
              "    <path d=\"M0 0h24v24H0V0z\" fill=\"none\"/>\n",
              "    <path d=\"M18.56 5.44l.94 2.06.94-2.06 2.06-.94-2.06-.94-.94-2.06-.94 2.06-2.06.94zm-11 1L8.5 8.5l.94-2.06 2.06-.94-2.06-.94L8.5 2.5l-.94 2.06-2.06.94zm10 10l.94 2.06.94-2.06 2.06-.94-2.06-.94-.94-2.06-.94 2.06-2.06.94z\"/><path d=\"M17.41 7.96l-1.37-1.37c-.4-.4-.92-.59-1.43-.59-.52 0-1.04.2-1.43.59L10.3 9.45l-7.72 7.72c-.78.78-.78 2.05 0 2.83L4 21.41c.39.39.9.59 1.41.59.51 0 1.02-.2 1.41-.59l7.78-7.78 2.81-2.81c.8-.78.8-2.07 0-2.86zM5.41 20L4 18.59l7.72-7.72 1.47 1.35L5.41 20z\"/>\n",
              "  </svg>\n",
              "      </button>\n",
              "      \n",
              "  <style>\n",
              "    .colab-df-container {\n",
              "      display:flex;\n",
              "      flex-wrap:wrap;\n",
              "      gap: 12px;\n",
              "    }\n",
              "\n",
              "    .colab-df-convert {\n",
              "      background-color: #E8F0FE;\n",
              "      border: none;\n",
              "      border-radius: 50%;\n",
              "      cursor: pointer;\n",
              "      display: none;\n",
              "      fill: #1967D2;\n",
              "      height: 32px;\n",
              "      padding: 0 0 0 0;\n",
              "      width: 32px;\n",
              "    }\n",
              "\n",
              "    .colab-df-convert:hover {\n",
              "      background-color: #E2EBFA;\n",
              "      box-shadow: 0px 1px 2px rgba(60, 64, 67, 0.3), 0px 1px 3px 1px rgba(60, 64, 67, 0.15);\n",
              "      fill: #174EA6;\n",
              "    }\n",
              "\n",
              "    [theme=dark] .colab-df-convert {\n",
              "      background-color: #3B4455;\n",
              "      fill: #D2E3FC;\n",
              "    }\n",
              "\n",
              "    [theme=dark] .colab-df-convert:hover {\n",
              "      background-color: #434B5C;\n",
              "      box-shadow: 0px 1px 3px 1px rgba(0, 0, 0, 0.15);\n",
              "      filter: drop-shadow(0px 1px 2px rgba(0, 0, 0, 0.3));\n",
              "      fill: #FFFFFF;\n",
              "    }\n",
              "  </style>\n",
              "\n",
              "      <script>\n",
              "        const buttonEl =\n",
              "          document.querySelector('#df-67ea0ae6-59b0-4870-971f-cdc883ad69da button.colab-df-convert');\n",
              "        buttonEl.style.display =\n",
              "          google.colab.kernel.accessAllowed ? 'block' : 'none';\n",
              "\n",
              "        async function convertToInteractive(key) {\n",
              "          const element = document.querySelector('#df-67ea0ae6-59b0-4870-971f-cdc883ad69da');\n",
              "          const dataTable =\n",
              "            await google.colab.kernel.invokeFunction('convertToInteractive',\n",
              "                                                     [key], {});\n",
              "          if (!dataTable) return;\n",
              "\n",
              "          const docLinkHtml = 'Like what you see? Visit the ' +\n",
              "            '<a target=\"_blank\" href=https://colab.research.google.com/notebooks/data_table.ipynb>data table notebook</a>'\n",
              "            + ' to learn more about interactive tables.';\n",
              "          element.innerHTML = '';\n",
              "          dataTable['output_type'] = 'display_data';\n",
              "          await google.colab.output.renderOutput(dataTable, element);\n",
              "          const docLink = document.createElement('div');\n",
              "          docLink.innerHTML = docLinkHtml;\n",
              "          element.appendChild(docLink);\n",
              "        }\n",
              "      </script>\n",
              "    </div>\n",
              "  </div>\n",
              "  "
            ]
          },
          "metadata": {},
          "execution_count": 11
        }
      ]
    },
    {
      "cell_type": "code",
      "source": [
        "IoT_Botnet_Dataset.info()"
      ],
      "metadata": {
        "colab": {
          "base_uri": "https://localhost:8080/"
        },
        "id": "THp0oIfW5BBS",
        "outputId": "25be784e-9c79-49d8-a5b0-40dd9699b3d6"
      },
      "execution_count": 12,
      "outputs": [
        {
          "output_type": "stream",
          "name": "stdout",
          "text": [
            "<class 'pandas.core.frame.DataFrame'>\n",
            "RangeIndex: 3668522 entries, 0 to 3668521\n",
            "Data columns (total 20 columns):\n",
            " #   Column             Dtype  \n",
            "---  ------             -----  \n",
            " 0   Unnamed: 0         int64  \n",
            " 1   pkSeqID            int64  \n",
            " 2   proto              object \n",
            " 3   saddr              object \n",
            " 4   sport              object \n",
            " 5   daddr              object \n",
            " 6   dport              object \n",
            " 7   seq                int64  \n",
            " 8   stddev             float64\n",
            " 9   N_IN_Conn_P_SrcIP  int64  \n",
            " 10  min                float64\n",
            " 11  state_number       int64  \n",
            " 12  mean               float64\n",
            " 13  N_IN_Conn_P_DstIP  int64  \n",
            " 14  drate              float64\n",
            " 15  srate              float64\n",
            " 16  max                float64\n",
            " 17  attack             int64  \n",
            " 18  category           object \n",
            " 19  subcategory        object \n",
            "dtypes: float64(6), int64(7), object(7)\n",
            "memory usage: 559.8+ MB\n"
          ]
        }
      ]
    },
    {
      "cell_type": "markdown",
      "source": [
        "## **2 Min-Max Normalization 정규화**\n",
        "패킷 종류인 'category'를 target으로 하여 데이터셋 분류"
      ],
      "metadata": {
        "id": "9WpWsqdt6amw"
      }
    },
    {
      "cell_type": "code",
      "source": [
        "from sklearn.model_selection import train_test_split\n",
        "\n",
        "# 특성\n",
        "data = IoT_Botnet_Dataset[[ 'seq', 'stddev', 'N_IN_Conn_P_SrcIP', 'min',\n",
        "                            'state_number', 'mean', 'N_IN_Conn_P_DstIP', 'drate','srate', 'max']].to_numpy()\n",
        "target = IoT_Botnet_Dataset['category']\n",
        "\n",
        "# 데이터셋 분류 > 8:2\n",
        "train_input, test_input, train_target, test_target = train_test_split(\n",
        "data, target, test_size=0.2, random_state=42)"
      ],
      "metadata": {
        "id": "3CRRWsUo6RSg"
      },
      "execution_count": 13,
      "outputs": []
    },
    {
      "cell_type": "code",
      "source": [
        "# 데이터셋 크기 확인\n",
        "print(\"train_input 크기 : {}\".format(train_input.shape))\n",
        "print(\"train_target 크기 : {}\".format(train_target.shape))\n",
        "print(\"test_input 크기 : {}\".format(test_input.shape))\n",
        "print(\"test_target 크기 : {}\".format(test_target.shape))"
      ],
      "metadata": {
        "id": "kbGByfMlkO4T",
        "colab": {
          "base_uri": "https://localhost:8080/"
        },
        "outputId": "685c64ef-8b83-4181-9471-8f6a0f5871b1"
      },
      "execution_count": 14,
      "outputs": [
        {
          "output_type": "stream",
          "name": "stdout",
          "text": [
            "train_input 크기 : (2934817, 10)\n",
            "train_target 크기 : (2934817,)\n",
            "test_input 크기 : (733705, 10)\n",
            "test_target 크기 : (733705,)\n"
          ]
        }
      ]
    },
    {
      "cell_type": "code",
      "source": [
        "# MinMaxScaler 선언\n",
        "from sklearn.preprocessing import MinMaxScaler\n",
        "Scaler = MinMaxScaler()\n",
        "\n",
        "# Input 데이터 스케일링\n",
        "train_input_scale = Scaler.fit_transform(train_input)\n",
        "test_input_scale = Scaler.fit_transform(test_input)"
      ],
      "metadata": {
        "id": "oAy1QrHZ9QBi"
      },
      "execution_count": 15,
      "outputs": []
    },
    {
      "cell_type": "markdown",
      "source": [
        "## **3 KNN**"
      ],
      "metadata": {
        "id": "LmqR7t0Pi0-M"
      }
    },
    {
      "cell_type": "markdown",
      "source": [
        "1) n_neighbors의 수를 10으로 하여 학습 > 정확도 떨어짐"
      ],
      "metadata": {
        "id": "IevfAiXXrop_"
      }
    },
    {
      "cell_type": "code",
      "source": [
        "from sklearn.neighbors import KNeighborsClassifier\n",
        "\n",
        "# KNeighborsClassifier 선언 및 학습\n",
        "KNN = KNeighborsClassifier(n_neighbors=10)\n",
        "KNN.fit(train_input_scale, train_target)"
      ],
      "metadata": {
        "id": "dNByWItsi3vg",
        "colab": {
          "base_uri": "https://localhost:8080/"
        },
        "outputId": "2f38e2ef-f4de-4462-c4e4-dc208ad0e4aa"
      },
      "execution_count": 16,
      "outputs": [
        {
          "output_type": "execute_result",
          "data": {
            "text/plain": [
              "KNeighborsClassifier(n_neighbors=10)"
            ]
          },
          "metadata": {},
          "execution_count": 16
        }
      ]
    },
    {
      "cell_type": "code",
      "source": [
        "# 모델평가\n",
        "KNN.score(test_input_scale, test_target)"
      ],
      "metadata": {
        "id": "FhIS2UA5ISoP",
        "colab": {
          "base_uri": "https://localhost:8080/"
        },
        "outputId": "6101c177-9c74-494a-99cc-7396c5b806ca"
      },
      "execution_count": 17,
      "outputs": [
        {
          "output_type": "execute_result",
          "data": {
            "text/plain": [
              "0.9916696765048623"
            ]
          },
          "metadata": {},
          "execution_count": 17
        }
      ]
    },
    {
      "cell_type": "code",
      "source": [
        "# test/train input으로 테스트 진행\n",
        "# 과대적합/과소적합 확인\n",
        "print(KNN.score(train_input_scale, train_target))\n",
        "print(KNN.score(test_input_scale, test_target))"
      ],
      "metadata": {
        "id": "6R749rf6o52W",
        "colab": {
          "base_uri": "https://localhost:8080/"
        },
        "outputId": "13a764a8-81da-46ca-8d78-9ec6cf5f1892"
      },
      "execution_count": 18,
      "outputs": [
        {
          "output_type": "stream",
          "name": "stdout",
          "text": [
            "0.9951291681900438\n",
            "0.9916696765048623\n"
          ]
        }
      ]
    },
    {
      "cell_type": "markdown",
      "source": [
        "2) cross_val_score을 사용해 최적의 KNN 파라미터 찾기"
      ],
      "metadata": {
        "id": "a9wAgcSGQ7o_"
      }
    },
    {
      "cell_type": "code",
      "source": [
        "from sklearn.neighbors import  KNeighborsClassifier\n",
        "from sklearn.model_selection import cross_val_score\n",
        "\n",
        "# k의 범위를 3부터 10까지 홀수\n",
        "max_k_range = 10 \n",
        "k_list = []\n",
        "\n",
        "for i in range(3, max_k_range, 2):\n",
        "  k_list.append(i)\n",
        "\n",
        "cross_validation_scores = []\n",
        "\n",
        "#교차 검증(3-fold)을 각 k를 대상으로 수행해 검증 결과를 저장\n",
        "for k in k_list:\n",
        "  knn = KNeighborsClassifier(n_neighbors=k)\n",
        "  scores = cross_val_score(knn, train_input_scale, train_target, cv=3,scoring='accuracy')\n",
        "  cross_validation_scores.append(scores.mean())\n",
        "\n",
        "cross_validation_scores"
      ],
      "metadata": {
        "id": "F4Y3zI2aRA7C",
        "colab": {
          "base_uri": "https://localhost:8080/"
        },
        "outputId": "710b48aa-e1da-4a8d-dc31-c69057b80932"
      },
      "execution_count": 19,
      "outputs": [
        {
          "output_type": "execute_result",
          "data": {
            "text/plain": [
              "[0.9934016328434626,\n",
              " 0.9928942758575516,\n",
              " 0.9927194779013968,\n",
              " 0.9925078803754332]"
            ]
          },
          "metadata": {},
          "execution_count": 19
        }
      ]
    },
    {
      "cell_type": "markdown",
      "source": [
        "3) n_neighbors에 따른 정확도 시각화"
      ],
      "metadata": {
        "id": "QCt6HXOxVQfC"
      }
    },
    {
      "cell_type": "code",
      "source": [
        "import matplotlib.pyplot as plt\n",
        "plt.plot(k_list, cross_validation_scores)\n",
        "plt.xlabel('the number of n_neighbors')\n",
        "plt.ylabel('Accuracy')\n",
        "plt.show()"
      ],
      "metadata": {
        "id": "i6_Dvz8gU_my",
        "colab": {
          "base_uri": "https://localhost:8080/",
          "height": 280
        },
        "outputId": "db94c07c-f7fe-4e5e-eb6a-d34f1fa48cb8"
      },
      "execution_count": 20,
      "outputs": [
        {
          "output_type": "display_data",
          "data": {
            "text/plain": [
              "<Figure size 432x288 with 1 Axes>"
            ],
            "image/png": "[encoded data removed]"
          },
          "metadata": {
            "needs_background": "light"
          }
        }
      ]
    },
    {
      "cell_type": "markdown",
      "source": [
        "4) n_neighbors의 수를 3으로 하여 학습 > 정확도 상승"
      ],
      "metadata": {
        "id": "saWYYaxzsVn_"
      }
    },
    {
      "cell_type": "code",
      "source": [
        "# n_neignbors 변경 후 모델평가\n",
        "KNN.n_neighbors = 3\n",
        "KNN.fit(train_input_scale, train_target)\n",
        "KNN.score(test_input_scale, test_target)"
      ],
      "metadata": {
        "id": "Mh891_PXtl69",
        "colab": {
          "base_uri": "https://localhost:8080/"
        },
        "outputId": "0bf531c1-a1b3-45e3-c187-a9a1e667d7d1"
      },
      "execution_count": 21,
      "outputs": [
        {
          "output_type": "execute_result",
          "data": {
            "text/plain": [
              "0.9929808301701638"
            ]
          },
          "metadata": {},
          "execution_count": 21
        }
      ]
    },
    {
      "cell_type": "code",
      "source": [
        "# test/train input으로 테스트 진행\n",
        "# 과대적합/과소적합 확인\n",
        "print(KNN.score(train_input_scale, train_target))\n",
        "print(KNN.score(test_input_scale, test_target))"
      ],
      "metadata": {
        "id": "u8hyQSaRw8EX",
        "colab": {
          "base_uri": "https://localhost:8080/"
        },
        "outputId": "0dc58e66-97bb-41a2-83d1-4cea8d80b02a"
      },
      "execution_count": 22,
      "outputs": [
        {
          "output_type": "stream",
          "name": "stdout",
          "text": [
            "0.9985164322000315\n",
            "0.9929808301701638\n"
          ]
        }
      ]
    },
    {
      "cell_type": "markdown",
      "source": [
        "## **4 DDoS Botnet Attack Dataset 예측**"
      ],
      "metadata": {
        "id": "cYV1kch2Ws3y"
      }
    },
    {
      "cell_type": "code",
      "source": [
        "import pandas as pd\n",
        "\n",
        "DDos_Dataset = pd.read_csv('/gdrive/MyDrive/Taggle/DDoSdata.csv')\n",
        "DDos_Dataset.head()"
      ],
      "metadata": {
        "id": "ijwVMhgqXBMM",
        "colab": {
          "base_uri": "https://localhost:8080/",
          "height": 353
        },
        "outputId": "fed2ab16-6a19-4932-9e6f-247789cf55ae"
      },
      "execution_count": 23,
      "outputs": [
        {
          "output_type": "stream",
          "name": "stderr",
          "text": [
            "/usr/local/lib/python3.8/dist-packages/IPython/core/interactiveshell.py:3326: DtypeWarning: Columns (8,10) have mixed types.Specify dtype option on import or set low_memory=False.\n",
            "  exec(code_obj, self.user_global_ns, self.user_ns)\n"
          ]
        },
        {
          "output_type": "execute_result",
          "data": {
            "text/plain": [
              "   Unnamed: 0  pkSeqID         stime flgs  flgs_number proto  proto_number  \\\n",
              "0     1650261  1650261  1.528103e+09    e            1   tcp             1   \n",
              "1     1650262  1650262  1.528103e+09    e            1   tcp             1   \n",
              "2     1650263  1650263  1.528103e+09    e            1   tcp             1   \n",
              "3     1650264  1650264  1.528103e+09    e            1   tcp             1   \n",
              "4     1650265  1650265  1.528103e+09    e            1   tcp             1   \n",
              "\n",
              "             saddr  sport          daddr  ... AR_P_Proto_P_DstIP  \\\n",
              "0  192.168.100.150  54110  192.168.100.3  ...            1.21662   \n",
              "1  192.168.100.150  54112  192.168.100.3  ...            1.21662   \n",
              "2  192.168.100.150  54114  192.168.100.3  ...            1.21662   \n",
              "3  192.168.100.150  54116  192.168.100.3  ...            1.21662   \n",
              "4  192.168.100.150  54118  192.168.100.3  ...            1.21662   \n",
              "\n",
              "   N_IN_Conn_P_DstIP  N_IN_Conn_P_SrcIP AR_P_Proto_P_Sport  \\\n",
              "0                 40                 38            1.56093   \n",
              "1                 40                 38            1.56107   \n",
              "2                 40                 38            1.24980   \n",
              "3                 40                 38            1.24986   \n",
              "4                 40                 38            1.24991   \n",
              "\n",
              "   AR_P_Proto_P_Dport  Pkts_P_State_P_Protocol_P_DestIP  \\\n",
              "0             1.21662                               328   \n",
              "1             1.21662                               328   \n",
              "2             1.21662                               328   \n",
              "3             1.21662                               328   \n",
              "4             1.21662                               328   \n",
              "\n",
              "   Pkts_P_State_P_Protocol_P_SrcIP  attack  category  subcategory  \n",
              "0                              308       1      DDoS         HTTP  \n",
              "1                              308       1      DDoS         HTTP  \n",
              "2                              308       1      DDoS         HTTP  \n",
              "3                              308       1      DDoS         HTTP  \n",
              "4                              308       1      DDoS         HTTP  \n",
              "\n",
              "[5 rows x 47 columns]"
            ],
            "text/html": [
              "\n",
              "  <div id=\"df-f7d1cf89-3ff4-4da3-a237-8738caa645a0\">\n",
              "    <div class=\"colab-df-container\">\n",
              "      <div>\n",
              "<style scoped>\n",
              "    .dataframe tbody tr th:only-of-type {\n",
              "        vertical-align: middle;\n",
              "    }\n",
              "\n",
              "    .dataframe tbody tr th {\n",
              "        vertical-align: top;\n",
              "    }\n",
              "\n",
              "    .dataframe thead th {\n",
              "        text-align: right;\n",
              "    }\n",
              "</style>\n",
              "<table border=\"1\" class=\"dataframe\">\n",
              "  <thead>\n",
              "    <tr style=\"text-align: right;\">\n",
              "      <th></th>\n",
              "      <th>Unnamed: 0</th>\n",
              "      <th>pkSeqID</th>\n",
              "      <th>stime</th>\n",
              "      <th>flgs</th>\n",
              "      <th>flgs_number</th>\n",
              "      <th>proto</th>\n",
              "      <th>proto_number</th>\n",
              "      <th>saddr</th>\n",
              "      <th>sport</th>\n",
              "      <th>daddr</th>\n",
              "      <th>...</th>\n",
              "      <th>AR_P_Proto_P_DstIP</th>\n",
              "      <th>N_IN_Conn_P_DstIP</th>\n",
              "      <th>N_IN_Conn_P_SrcIP</th>\n",
              "      <th>AR_P_Proto_P_Sport</th>\n",
              "      <th>AR_P_Proto_P_Dport</th>\n",
              "      <th>Pkts_P_State_P_Protocol_P_DestIP</th>\n",
              "      <th>Pkts_P_State_P_Protocol_P_SrcIP</th>\n",
              "      <th>attack</th>\n",
              "      <th>category</th>\n",
              "      <th>subcategory</th>\n",
              "    </tr>\n",
              "  </thead>\n",
              "  <tbody>\n",
              "    <tr>\n",
              "      <th>0</th>\n",
              "      <td>1650261</td>\n",
              "      <td>1650261</td>\n",
              "      <td>1.528103e+09</td>\n",
              "      <td>e</td>\n",
              "      <td>1</td>\n",
              "      <td>tcp</td>\n",
              "      <td>1</td>\n",
              "      <td>192.168.100.150</td>\n",
              "      <td>54110</td>\n",
              "      <td>192.168.100.3</td>\n",
              "      <td>...</td>\n",
              "      <td>1.21662</td>\n",
              "      <td>40</td>\n",
              "      <td>38</td>\n",
              "      <td>1.56093</td>\n",
              "      <td>1.21662</td>\n",
              "      <td>328</td>\n",
              "      <td>308</td>\n",
              "      <td>1</td>\n",
              "      <td>DDoS</td>\n",
              "      <td>HTTP</td>\n",
              "    </tr>\n",
              "    <tr>\n",
              "      <th>1</th>\n",
              "      <td>1650262</td>\n",
              "      <td>1650262</td>\n",
              "      <td>1.528103e+09</td>\n",
              "      <td>e</td>\n",
              "      <td>1</td>\n",
              "      <td>tcp</td>\n",
              "      <td>1</td>\n",
              "      <td>192.168.100.150</td>\n",
              "      <td>54112</td>\n",
              "      <td>192.168.100.3</td>\n",
              "      <td>...</td>\n",
              "      <td>1.21662</td>\n",
              "      <td>40</td>\n",
              "      <td>38</td>\n",
              "      <td>1.56107</td>\n",
              "      <td>1.21662</td>\n",
              "      <td>328</td>\n",
              "      <td>308</td>\n",
              "      <td>1</td>\n",
              "      <td>DDoS</td>\n",
              "      <td>HTTP</td>\n",
              "    </tr>\n",
              "    <tr>\n",
              "      <th>2</th>\n",
              "      <td>1650263</td>\n",
              "      <td>1650263</td>\n",
              "      <td>1.528103e+09</td>\n",
              "      <td>e</td>\n",
              "      <td>1</td>\n",
              "      <td>tcp</td>\n",
              "      <td>1</td>\n",
              "      <td>192.168.100.150</td>\n",
              "      <td>54114</td>\n",
              "      <td>192.168.100.3</td>\n",
              "      <td>...</td>\n",
              "      <td>1.21662</td>\n",
              "      <td>40</td>\n",
              "      <td>38</td>\n",
              "      <td>1.24980</td>\n",
              "      <td>1.21662</td>\n",
              "      <td>328</td>\n",
              "      <td>308</td>\n",
              "      <td>1</td>\n",
              "      <td>DDoS</td>\n",
              "      <td>HTTP</td>\n",
              "    </tr>\n",
              "    <tr>\n",
              "      <th>3</th>\n",
              "      <td>1650264</td>\n",
              "      <td>1650264</td>\n",
              "      <td>1.528103e+09</td>\n",
              "      <td>e</td>\n",
              "      <td>1</td>\n",
              "      <td>tcp</td>\n",
              "      <td>1</td>\n",
              "      <td>192.168.100.150</td>\n",
              "      <td>54116</td>\n",
              "      <td>192.168.100.3</td>\n",
              "      <td>...</td>\n",
              "      <td>1.21662</td>\n",
              "      <td>40</td>\n",
              "      <td>38</td>\n",
              "      <td>1.24986</td>\n",
              "      <td>1.21662</td>\n",
              "      <td>328</td>\n",
              "      <td>308</td>\n",
              "      <td>1</td>\n",
              "      <td>DDoS</td>\n",
              "      <td>HTTP</td>\n",
              "    </tr>\n",
              "    <tr>\n",
              "      <th>4</th>\n",
              "      <td>1650265</td>\n",
              "      <td>1650265</td>\n",
              "      <td>1.528103e+09</td>\n",
              "      <td>e</td>\n",
              "      <td>1</td>\n",
              "      <td>tcp</td>\n",
              "      <td>1</td>\n",
              "      <td>192.168.100.150</td>\n",
              "      <td>54118</td>\n",
              "      <td>192.168.100.3</td>\n",
              "      <td>...</td>\n",
              "      <td>1.21662</td>\n",
              "      <td>40</td>\n",
              "      <td>38</td>\n",
              "      <td>1.24991</td>\n",
              "      <td>1.21662</td>\n",
              "      <td>328</td>\n",
              "      <td>308</td>\n",
              "      <td>1</td>\n",
              "      <td>DDoS</td>\n",
              "      <td>HTTP</td>\n",
              "    </tr>\n",
              "  </tbody>\n",
              "</table>\n",
              "<p>5 rows × 47 columns</p>\n",
              "</div>\n",
              "      <button class=\"colab-df-convert\" onclick=\"convertToInteractive('df-f7d1cf89-3ff4-4da3-a237-8738caa645a0')\"\n",
              "              title=\"Convert this dataframe to an interactive table.\"\n",
              "              style=\"display:none;\">\n",
              "        \n",
              "  <svg xmlns=\"http://www.w3.org/2000/svg\" height=\"24px\"viewBox=\"0 0 24 24\"\n",
              "       width=\"24px\">\n",
              "    <path d=\"M0 0h24v24H0V0z\" fill=\"none\"/>\n",
              "    <path d=\"M18.56 5.44l.94 2.06.94-2.06 2.06-.94-2.06-.94-.94-2.06-.94 2.06-2.06.94zm-11 1L8.5 8.5l.94-2.06 2.06-.94-2.06-.94L8.5 2.5l-.94 2.06-2.06.94zm10 10l.94 2.06.94-2.06 2.06-.94-2.06-.94-.94-2.06-.94 2.06-2.06.94z\"/><path d=\"M17.41 7.96l-1.37-1.37c-.4-.4-.92-.59-1.43-.59-.52 0-1.04.2-1.43.59L10.3 9.45l-7.72 7.72c-.78.78-.78 2.05 0 2.83L4 21.41c.39.39.9.59 1.41.59.51 0 1.02-.2 1.41-.59l7.78-7.78 2.81-2.81c.8-.78.8-2.07 0-2.86zM5.41 20L4 18.59l7.72-7.72 1.47 1.35L5.41 20z\"/>\n",
              "  </svg>\n",
              "      </button>\n",
              "      \n",
              "  <style>\n",
              "    .colab-df-container {\n",
              "      display:flex;\n",
              "      flex-wrap:wrap;\n",
              "      gap: 12px;\n",
              "    }\n",
              "\n",
              "    .colab-df-convert {\n",
              "      background-color: #E8F0FE;\n",
              "      border: none;\n",
              "      border-radius: 50%;\n",
              "      cursor: pointer;\n",
              "      display: none;\n",
              "      fill: #1967D2;\n",
              "      height: 32px;\n",
              "      padding: 0 0 0 0;\n",
              "      width: 32px;\n",
              "    }\n",
              "\n",
              "    .colab-df-convert:hover {\n",
              "      background-color: #E2EBFA;\n",
              "      box-shadow: 0px 1px 2px rgba(60, 64, 67, 0.3), 0px 1px 3px 1px rgba(60, 64, 67, 0.15);\n",
              "      fill: #174EA6;\n",
              "    }\n",
              "\n",
              "    [theme=dark] .colab-df-convert {\n",
              "      background-color: #3B4455;\n",
              "      fill: #D2E3FC;\n",
              "    }\n",
              "\n",
              "    [theme=dark] .colab-df-convert:hover {\n",
              "      background-color: #434B5C;\n",
              "      box-shadow: 0px 1px 3px 1px rgba(0, 0, 0, 0.15);\n",
              "      filter: drop-shadow(0px 1px 2px rgba(0, 0, 0, 0.3));\n",
              "      fill: #FFFFFF;\n",
              "    }\n",
              "  </style>\n",
              "\n",
              "      <script>\n",
              "        const buttonEl =\n",
              "          document.querySelector('#df-f7d1cf89-3ff4-4da3-a237-8738caa645a0 button.colab-df-convert');\n",
              "        buttonEl.style.display =\n",
              "          google.colab.kernel.accessAllowed ? 'block' : 'none';\n",
              "\n",
              "        async function convertToInteractive(key) {\n",
              "          const element = document.querySelector('#df-f7d1cf89-3ff4-4da3-a237-8738caa645a0');\n",
              "          const dataTable =\n",
              "            await google.colab.kernel.invokeFunction('convertToInteractive',\n",
              "                                                     [key], {});\n",
              "          if (!dataTable) return;\n",
              "\n",
              "          const docLinkHtml = 'Like what you see? Visit the ' +\n",
              "            '<a target=\"_blank\" href=https://colab.research.google.com/notebooks/data_table.ipynb>data table notebook</a>'\n",
              "            + ' to learn more about interactive tables.';\n",
              "          element.innerHTML = '';\n",
              "          dataTable['output_type'] = 'display_data';\n",
              "          await google.colab.output.renderOutput(dataTable, element);\n",
              "          const docLink = document.createElement('div');\n",
              "          docLink.innerHTML = docLinkHtml;\n",
              "          element.appendChild(docLink);\n",
              "        }\n",
              "      </script>\n",
              "    </div>\n",
              "  </div>\n",
              "  "
            ]
          },
          "metadata": {},
          "execution_count": 23
        }
      ]
    },
    {
      "cell_type": "code",
      "source": [
        "DDos_Dataset.info()"
      ],
      "metadata": {
        "colab": {
          "base_uri": "https://localhost:8080/"
        },
        "id": "DdP_Gm_DD5Yk",
        "outputId": "1948cfc5-eb12-463d-d3af-654eb3995034"
      },
      "execution_count": 24,
      "outputs": [
        {
          "output_type": "stream",
          "name": "stdout",
          "text": [
            "<class 'pandas.core.frame.DataFrame'>\n",
            "RangeIndex: 1927101 entries, 0 to 1927100\n",
            "Data columns (total 47 columns):\n",
            " #   Column                            Dtype  \n",
            "---  ------                            -----  \n",
            " 0   Unnamed: 0                        int64  \n",
            " 1   pkSeqID                           int64  \n",
            " 2   stime                             float64\n",
            " 3   flgs                              object \n",
            " 4   flgs_number                       int64  \n",
            " 5   proto                             object \n",
            " 6   proto_number                      int64  \n",
            " 7   saddr                             object \n",
            " 8   sport                             object \n",
            " 9   daddr                             object \n",
            " 10  dport                             object \n",
            " 11  pkts                              int64  \n",
            " 12  bytes                             int64  \n",
            " 13  state                             object \n",
            " 14  state_number                      int64  \n",
            " 15  ltime                             float64\n",
            " 16  seq                               int64  \n",
            " 17  dur                               float64\n",
            " 18  mean                              float64\n",
            " 19  stddev                            float64\n",
            " 20  sum                               float64\n",
            " 21  min                               float64\n",
            " 22  max                               float64\n",
            " 23  spkts                             int64  \n",
            " 24  dpkts                             int64  \n",
            " 25  sbytes                            int64  \n",
            " 26  dbytes                            int64  \n",
            " 27  rate                              float64\n",
            " 28  srate                             float64\n",
            " 29  drate                             float64\n",
            " 30  TnBPSrcIP                         int64  \n",
            " 31  TnBPDstIP                         int64  \n",
            " 32  TnP_PSrcIP                        int64  \n",
            " 33  TnP_PDstIP                        int64  \n",
            " 34  TnP_PerProto                      int64  \n",
            " 35  TnP_Per_Dport                     int64  \n",
            " 36  AR_P_Proto_P_SrcIP                float64\n",
            " 37  AR_P_Proto_P_DstIP                float64\n",
            " 38  N_IN_Conn_P_DstIP                 int64  \n",
            " 39  N_IN_Conn_P_SrcIP                 int64  \n",
            " 40  AR_P_Proto_P_Sport                float64\n",
            " 41  AR_P_Proto_P_Dport                float64\n",
            " 42  Pkts_P_State_P_Protocol_P_DestIP  int64  \n",
            " 43  Pkts_P_State_P_Protocol_P_SrcIP   int64  \n",
            " 44  attack                            int64  \n",
            " 45  category                          object \n",
            " 46  subcategory                       object \n",
            "dtypes: float64(15), int64(23), object(9)\n",
            "memory usage: 691.0+ MB\n"
          ]
        }
      ]
    },
    {
      "cell_type": "code",
      "source": [
        "# 특성\n",
        "DDos_data = DDos_Dataset[[ 'seq', 'stddev', 'N_IN_Conn_P_SrcIP', 'min',\n",
        "                            'state_number', 'mean', 'N_IN_Conn_P_DstIP', 'drate','srate', 'max']].to_numpy()\n",
        "DDos_target = DDos_Dataset['category']"
      ],
      "metadata": {
        "id": "K39-jeN7XPT0"
      },
      "execution_count": 25,
      "outputs": []
    },
    {
      "cell_type": "code",
      "source": [
        "DDos_data = Scaler.fit_transform(DDos_data)"
      ],
      "metadata": {
        "id": "g_UyDo3UDe9a"
      },
      "execution_count": 26,
      "outputs": []
    },
    {
      "cell_type": "code",
      "source": [
        "# 모델평가\n",
        "KNN.score(DDos_data, DDos_target)"
      ],
      "metadata": {
        "id": "e3RVBj5jXcO8",
        "colab": {
          "base_uri": "https://localhost:8080/"
        },
        "outputId": "8742bdc4-194f-4061-e16d-7b74271eb8a2"
      },
      "execution_count": 27,
      "outputs": [
        {
          "output_type": "execute_result",
          "data": {
            "text/plain": [
              "0.9397525090797005"
            ]
          },
          "metadata": {},
          "execution_count": 27
        }
      ]
    }
  ]
}